{
  "nbformat": 4,
  "nbformat_minor": 0,
  "metadata": {
    "colab": {
      "name": "0330-2.ipynb",
      "provenance": [],
      "collapsed_sections": [],
      "include_colab_link": true
    },
    "kernelspec": {
      "name": "ir",
      "display_name": "R"
    }
  },
  "cells": [
    {
      "cell_type": "markdown",
      "metadata": {
        "id": "view-in-github",
        "colab_type": "text"
      },
      "source": [
        "<a href=\"https://colab.research.google.com/github/kay-liao/bigdata/blob/main/0330_2.ipynb\" target=\"_parent\"><img src=\"https://colab.research.google.com/assets/colab-badge.svg\" alt=\"Open In Colab\"/></a>"
      ]
    },
    {
      "cell_type": "code",
      "metadata": {
        "id": "kPVXoMCgNJoO",
        "colab": {
          "base_uri": "https://localhost:8080/"
        },
        "outputId": "d934cca0-c5cd-4479-da52-896428613f60"
      },
      "source": [
        "install.packages(\"rJava\")\n",
        "install.packages(\"jiebaR\")\n",
        "install.packages(\"tmcn\")\n",
        "install.packages(\"dplyr\")\n",
        "install.packages(\"lubridate\")\n",
        "install.packages(\"stringr\")\n",
        "install.packages(\"wordcloud\")\n",
        "install.packages(\"wordcloud2\")\n",
        "install.packages(\"Rwordseg\", repos = \"http://R-Forge.R-project.org\")"
      ],
      "execution_count": 3,
      "outputs": [
        {
          "output_type": "stream",
          "text": [
            "Installing package into ‘/usr/local/lib/R/site-library’\n",
            "(as ‘lib’ is unspecified)\n",
            "\n",
            "Installing package into ‘/usr/local/lib/R/site-library’\n",
            "(as ‘lib’ is unspecified)\n",
            "\n",
            "also installing the dependency ‘jiebaRD’\n",
            "\n",
            "\n",
            "Installing package into ‘/usr/local/lib/R/site-library’\n",
            "(as ‘lib’ is unspecified)\n",
            "\n",
            "Installing package into ‘/usr/local/lib/R/site-library’\n",
            "(as ‘lib’ is unspecified)\n",
            "\n",
            "Installing package into ‘/usr/local/lib/R/site-library’\n",
            "(as ‘lib’ is unspecified)\n",
            "\n",
            "Installing package into ‘/usr/local/lib/R/site-library’\n",
            "(as ‘lib’ is unspecified)\n",
            "\n",
            "Installing package into ‘/usr/local/lib/R/site-library’\n",
            "(as ‘lib’ is unspecified)\n",
            "\n",
            "Installing package into ‘/usr/local/lib/R/site-library’\n",
            "(as ‘lib’ is unspecified)\n",
            "\n",
            "Installing package into ‘/usr/local/lib/R/site-library’\n",
            "(as ‘lib’ is unspecified)\n",
            "\n",
            "Warning message:\n",
            "“dependency ‘HMM’ is not available”\n",
            "Warning message in install.packages(\"Rwordseg\", repos = \"http://R-Forge.R-project.org\"):\n",
            "“installation of package ‘Rwordseg’ had non-zero exit status”\n"
          ],
          "name": "stderr"
        }
      ]
    },
    {
      "cell_type": "code",
      "metadata": {
        "colab": {
          "base_uri": "https://localhost:8080/"
        },
        "id": "YSRcZ95FPGQE",
        "outputId": "7a2942cf-e720-47e2-85a7-7d0da024156d"
      },
      "source": [
        "library(dplyr)\n",
        "library(lubridate)\n",
        "library(stringr)\n",
        "library(jiebaR)\n",
        "library(wordcloud) # 非互動式文字雲 \n",
        "library(wordcloud2) # 互動式文字雲 "
      ],
      "execution_count": 4,
      "outputs": [
        {
          "output_type": "stream",
          "text": [
            "\n",
            "Attaching package: ‘dplyr’\n",
            "\n",
            "\n",
            "The following objects are masked from ‘package:stats’:\n",
            "\n",
            "    filter, lag\n",
            "\n",
            "\n",
            "The following objects are masked from ‘package:base’:\n",
            "\n",
            "    intersect, setdiff, setequal, union\n",
            "\n",
            "\n",
            "Warning message in system(\"timedatectl\", intern = TRUE):\n",
            "“running command 'timedatectl' had status 1”\n",
            "\n",
            "Attaching package: ‘lubridate’\n",
            "\n",
            "\n",
            "The following objects are masked from ‘package:base’:\n",
            "\n",
            "    date, intersect, setdiff, union\n",
            "\n",
            "\n",
            "Loading required package: jiebaRD\n",
            "\n",
            "Loading required package: RColorBrewer\n",
            "\n"
          ],
          "name": "stderr"
        }
      ]
    },
    {
      "cell_type": "code",
      "metadata": {
        "id": "NywpqrQVPgW-"
      },
      "source": [
        "content <- \"2019年1月6日，連續10場的「人生無限公司」巡演最終場於臺中市洲際棒球場畫下完美句點，在這之後宣布暫時休息。同年5月24日，第三部演唱會電影《五月天人生無限公司3D》正式上映。 此外，為紀念五月天的前三張錄音室專輯「藍色三部曲」發行20週年，特別將收錄在該三張專輯中的歌曲重新編曲演唱，並拍攝全新版本的音樂錄影帶，賦予歌曲新的意義與故事。於同年5月6日釋出首部曲〈純真〉；於7月7日釋出二部曲〈瘋狂世界〉；於2020年1月1日釋出三部曲〈溫柔〉，並特邀孫燕姿參與演唱 。11月14日，台北市跨年晚會承辦單位必應創造發布五月天擔任「臺北最High新年城－2020跨年晚會」之開場嘉賓，是他們睽違8年於台北市政府參與跨年。 12月21－22、24－25、28－29、31日、2020年1月1、3－4日，於桃園國際棒球場連續舉行10場「Just Rock It!!!『藍｜BLUE』」演唱會。後宣布於同年12月27日加開1場，總計11場。\""
      ],
      "execution_count": 5,
      "outputs": []
    },
    {
      "cell_type": "code",
      "metadata": {
        "colab": {
          "base_uri": "https://localhost:8080/",
          "height": 104
        },
        "id": "8lICyjUiQm2g",
        "outputId": "3257bcb5-f376-4e20-b955-bbb23372ea39"
      },
      "source": [
        "content"
      ],
      "execution_count": 6,
      "outputs": [
        {
          "output_type": "display_data",
          "data": {
            "text/plain": [
              "[1] \"2019年1月6日，連續10場的「人生無限公司」巡演最終場於臺中市洲際棒球場畫下完美句點，在這之後宣布暫時休息。同年5月24日，第三部演唱會電影《五月天人生無限公司3D》正式上映。 此外，為紀念五月天的前三張錄音室專輯「藍色三部曲」發行20週年，特別將收錄在該三張專輯中的歌曲重新編曲演唱，並拍攝全新版本的音樂錄影帶，賦予歌曲新的意義與故事。於同年5月6日釋出首部曲〈純真〉；於7月7日釋出二部曲〈瘋狂世界〉；於2020年1月1日釋出三部曲〈溫柔〉，並特邀孫燕姿參與演唱 。11月14日，台北市跨年晚會承辦單位必應創造發布五月天擔任「臺北最High新年城－2020跨年晚會」之開場嘉賓，是他們睽違8年於台北市政府參與跨年。 12月21－22、24－25、28－29、31日、2020年1月1、3－4日，於桃園國際棒球場連續舉行10場「Just Rock It!!!『藍｜BLUE』」演唱會。後宣布於同年12月27日加開1場，總計11場。\""
            ],
            "text/latex": "'2019年1月6日，連續10場的「人生無限公司」巡演最終場於臺中市洲際棒球場畫下完美句點，在這之後宣布暫時休息。同年5月24日，第三部演唱會電影《五月天人生無限公司3D》正式上映。 此外，為紀念五月天的前三張錄音室專輯「藍色三部曲」發行20週年，特別將收錄在該三張專輯中的歌曲重新編曲演唱，並拍攝全新版本的音樂錄影帶，賦予歌曲新的意義與故事。於同年5月6日釋出首部曲〈純真〉；於7月7日釋出二部曲〈瘋狂世界〉；於2020年1月1日釋出三部曲〈溫柔〉，並特邀孫燕姿參與演唱 。11月14日，台北市跨年晚會承辦單位必應創造發布五月天擔任「臺北最High新年城－2020跨年晚會」之開場嘉賓，是他們睽違8年於台北市政府參與跨年。 12月21－22、24－25、28－29、31日、2020年1月1、3－4日，於桃園國際棒球場連續舉行10場「Just Rock It!!!『藍｜BLUE』」演唱會。後宣布於同年12月27日加開1場，總計11場。'",
            "text/markdown": "'2019年1月6日，連續10場的「人生無限公司」巡演最終場於臺中市洲際棒球場畫下完美句點，在這之後宣布暫時休息。同年5月24日，第三部演唱會電影《五月天人生無限公司3D》正式上映。 此外，為紀念五月天的前三張錄音室專輯「藍色三部曲」發行20週年，特別將收錄在該三張專輯中的歌曲重新編曲演唱，並拍攝全新版本的音樂錄影帶，賦予歌曲新的意義與故事。於同年5月6日釋出首部曲〈純真〉；於7月7日釋出二部曲〈瘋狂世界〉；於2020年1月1日釋出三部曲〈溫柔〉，並特邀孫燕姿參與演唱 。11月14日，台北市跨年晚會承辦單位必應創造發布五月天擔任「臺北最High新年城－2020跨年晚會」之開場嘉賓，是他們睽違8年於台北市政府參與跨年。 12月21－22、24－25、28－29、31日、2020年1月1、3－4日，於桃園國際棒球場連續舉行10場「Just Rock It!!!『藍｜BLUE』」演唱會。後宣布於同年12月27日加開1場，總計11場。'",
            "text/html": [
              "'2019年1月6日，連續10場的「人生無限公司」巡演最終場於臺中市洲際棒球場畫下完美句點，在這之後宣布暫時休息。同年5月24日，第三部演唱會電影《五月天人生無限公司3D》正式上映。 此外，為紀念五月天的前三張錄音室專輯「藍色三部曲」發行20週年，特別將收錄在該三張專輯中的歌曲重新編曲演唱，並拍攝全新版本的音樂錄影帶，賦予歌曲新的意義與故事。於同年5月6日釋出首部曲〈純真〉；於7月7日釋出二部曲〈瘋狂世界〉；於2020年1月1日釋出三部曲〈溫柔〉，並特邀孫燕姿參與演唱 。11月14日，台北市跨年晚會承辦單位必應創造發布五月天擔任「臺北最High新年城－2020跨年晚會」之開場嘉賓，是他們睽違8年於台北市政府參與跨年。 12月21－22、24－25、28－29、31日、2020年1月1、3－4日，於桃園國際棒球場連續舉行10場「Just Rock It!!!『藍｜BLUE』」演唱會。後宣布於同年12月27日加開1場，總計11場。'"
            ]
          },
          "metadata": {
            "tags": []
          }
        }
      ]
    },
    {
      "cell_type": "code",
      "metadata": {
        "id": "jy_auNywQNtS"
      },
      "source": [
        "cutter <- worker(bylines = F) "
      ],
      "execution_count": 7,
      "outputs": []
    },
    {
      "cell_type": "code",
      "metadata": {
        "colab": {
          "base_uri": "https://localhost:8080/",
          "height": 139
        },
        "id": "ZfuGfvPqQYrs",
        "outputId": "6fff4d34-2000-4db2-9d63-573a298df5a9"
      },
      "source": [
        "cutter[content]"
      ],
      "execution_count": 8,
      "outputs": [
        {
          "output_type": "display_data",
          "data": {
            "text/plain": [
              "  [1] \"2019\"     \"年\"       \"1\"        \"月\"       \"6\"        \"日\"      \n",
              "  [7] \"連續\"     \"10\"       \"場的\"     \"人生\"     \"無限公司\" \"巡演\"    \n",
              " [13] \"最\"       \"終場\"     \"於\"       \"臺中市\"   \"洲際\"     \"棒球場\"  \n",
              " [19] \"畫下\"     \"完美\"     \"句點\"     \"在\"       \"這\"       \"之後\"    \n",
              " [25] \"宣布\"     \"暫時\"     \"休息\"     \"同年\"     \"5\"        \"月\"      \n",
              " [31] \"24\"       \"日\"       \"第三部\"   \"演唱會\"   \"電影\"     \"五月天\"  \n",
              " [37] \"人生\"     \"無限公司\" \"3\"        \"D\"        \"正式\"     \"上映\"    \n",
              " [43] \"此外\"     \"為\"       \"紀念\"     \"五月天\"   \"的\"       \"前\"      \n",
              " [49] \"三張\"     \"錄音室\"   \"專輯\"     \"藍色\"     \"三部曲\"   \"發行\"    \n",
              " [55] \"20\"       \"週年\"     \"特別\"     \"將\"       \"收錄\"     \"在\"      \n",
              " [61] \"該\"       \"三張\"     \"專輯\"     \"中\"       \"的\"       \"歌曲\"    \n",
              " [67] \"重新\"     \"編曲\"     \"演唱\"     \"並\"       \"拍攝\"     \"全新\"    \n",
              " [73] \"版本\"     \"的\"       \"音樂\"     \"錄影帶\"   \"賦予\"     \"歌曲\"    \n",
              " [79] \"新\"       \"的\"       \"意義\"     \"與\"       \"故事\"     \"於\"      \n",
              " [85] \"同年\"     \"5\"        \"月\"       \"6\"        \"日\"       \"釋出\"    \n",
              " [91] \"首部曲\"   \"純真\"     \"於\"       \"7\"        \"月\"       \"7\"       \n",
              " [97] \"日\"       \"釋出\"     \"二部曲\"   \"瘋狂\"     \"世界\"     \"於\"      \n",
              "[103] \"2020\"     \"年\"       \"1\"        \"月\"       \"1\"        \"日\"      \n",
              "[109] \"釋出\"     \"三部曲\"   \"溫柔\"     \"並\"       \"特邀\"     \"孫燕姿\"  \n",
              "[115] \"參與\"     \"演唱\"     \"11\"       \"月\"       \"14\"       \"日\"      \n",
              "[121] \"台北市\"   \"跨年\"     \"晚會\"     \"承辦\"     \"單位\"     \"必應\"    \n",
              "[127] \"創造\"     \"發布\"     \"五月天\"   \"擔任\"     \"臺北\"     \"最\"      \n",
              "[133] \"High\"     \"新年\"     \"城\"       \"2020\"     \"跨年\"     \"晚會\"    \n",
              "[139] \"之\"       \"開場\"     \"嘉賓\"     \"是\"       \"他們\"     \"睽違\"    \n",
              "[145] \"8\"        \"年\"       \"於\"       \"台北市\"   \"政府\"     \"參與\"    \n",
              "[151] \"跨年\"     \"12\"       \"月\"       \"21\"       \"22\"       \"24\"      \n",
              "[157] \"25\"       \"28\"       \"29\"       \"31\"       \"日\"       \"2020\"    \n",
              "[163] \"年\"       \"1\"        \"月\"       \"1\"        \"3\"        \"4\"       \n",
              "[169] \"日\"       \"於\"       \"桃園\"     \"國際\"     \"棒球場\"   \"連續\"    \n",
              "[175] \"舉行\"     \"10\"       \"場\"       \"Just\"     \"Rock\"     \"It\"      \n",
              "[181] \"藍\"       \"BLUE\"     \"演唱會\"   \"後\"       \"宣布\"     \"於\"      \n",
              "[187] \"同年\"     \"12\"       \"月\"       \"27\"       \"日\"       \"加開\"    \n",
              "[193] \"1\"        \"場\"       \"總計\"     \"11\"       \"場\"      "
            ],
            "text/latex": "\\begin{enumerate*}\n\\item '2019'\n\\item '年'\n\\item '1'\n\\item '月'\n\\item '6'\n\\item '日'\n\\item '連續'\n\\item '10'\n\\item '場的'\n\\item '人生'\n\\item '無限公司'\n\\item '巡演'\n\\item '最'\n\\item '終場'\n\\item '於'\n\\item '臺中市'\n\\item '洲際'\n\\item '棒球場'\n\\item '畫下'\n\\item '完美'\n\\item '句點'\n\\item '在'\n\\item '這'\n\\item '之後'\n\\item '宣布'\n\\item '暫時'\n\\item '休息'\n\\item '同年'\n\\item '5'\n\\item '月'\n\\item '24'\n\\item '日'\n\\item '第三部'\n\\item '演唱會'\n\\item '電影'\n\\item '五月天'\n\\item '人生'\n\\item '無限公司'\n\\item '3'\n\\item 'D'\n\\item '正式'\n\\item '上映'\n\\item '此外'\n\\item '為'\n\\item '紀念'\n\\item '五月天'\n\\item '的'\n\\item '前'\n\\item '三張'\n\\item '錄音室'\n\\item '專輯'\n\\item '藍色'\n\\item '三部曲'\n\\item '發行'\n\\item '20'\n\\item '週年'\n\\item '特別'\n\\item '將'\n\\item '收錄'\n\\item '在'\n\\item '該'\n\\item '三張'\n\\item '專輯'\n\\item '中'\n\\item '的'\n\\item '歌曲'\n\\item '重新'\n\\item '編曲'\n\\item '演唱'\n\\item '並'\n\\item '拍攝'\n\\item '全新'\n\\item '版本'\n\\item '的'\n\\item '音樂'\n\\item '錄影帶'\n\\item '賦予'\n\\item '歌曲'\n\\item '新'\n\\item '的'\n\\item '意義'\n\\item '與'\n\\item '故事'\n\\item '於'\n\\item '同年'\n\\item '5'\n\\item '月'\n\\item '6'\n\\item '日'\n\\item '釋出'\n\\item '首部曲'\n\\item '純真'\n\\item '於'\n\\item '7'\n\\item '月'\n\\item '7'\n\\item '日'\n\\item '釋出'\n\\item '二部曲'\n\\item '瘋狂'\n\\item '世界'\n\\item '於'\n\\item '2020'\n\\item '年'\n\\item '1'\n\\item '月'\n\\item '1'\n\\item '日'\n\\item '釋出'\n\\item '三部曲'\n\\item '溫柔'\n\\item '並'\n\\item '特邀'\n\\item '孫燕姿'\n\\item '參與'\n\\item '演唱'\n\\item '11'\n\\item '月'\n\\item '14'\n\\item '日'\n\\item '台北市'\n\\item '跨年'\n\\item '晚會'\n\\item '承辦'\n\\item '單位'\n\\item '必應'\n\\item '創造'\n\\item '發布'\n\\item '五月天'\n\\item '擔任'\n\\item '臺北'\n\\item '最'\n\\item 'High'\n\\item '新年'\n\\item '城'\n\\item '2020'\n\\item '跨年'\n\\item '晚會'\n\\item '之'\n\\item '開場'\n\\item '嘉賓'\n\\item '是'\n\\item '他們'\n\\item '睽違'\n\\item '8'\n\\item '年'\n\\item '於'\n\\item '台北市'\n\\item '政府'\n\\item '參與'\n\\item '跨年'\n\\item '12'\n\\item '月'\n\\item '21'\n\\item '22'\n\\item '24'\n\\item '25'\n\\item '28'\n\\item '29'\n\\item '31'\n\\item '日'\n\\item '2020'\n\\item '年'\n\\item '1'\n\\item '月'\n\\item '1'\n\\item '3'\n\\item '4'\n\\item '日'\n\\item '於'\n\\item '桃園'\n\\item '國際'\n\\item '棒球場'\n\\item '連續'\n\\item '舉行'\n\\item '10'\n\\item '場'\n\\item 'Just'\n\\item 'Rock'\n\\item 'It'\n\\item '藍'\n\\item 'BLUE'\n\\item '演唱會'\n\\item '後'\n\\item '宣布'\n\\item '於'\n\\item '同年'\n\\item '12'\n\\item '月'\n\\item '27'\n\\item '日'\n\\item '加開'\n\\item '1'\n\\item '場'\n\\item '總計'\n\\item '11'\n\\item '場'\n\\end{enumerate*}\n",
            "text/markdown": "1. '2019'\n2. '年'\n3. '1'\n4. '月'\n5. '6'\n6. '日'\n7. '連續'\n8. '10'\n9. '場的'\n10. '人生'\n11. '無限公司'\n12. '巡演'\n13. '最'\n14. '終場'\n15. '於'\n16. '臺中市'\n17. '洲際'\n18. '棒球場'\n19. '畫下'\n20. '完美'\n21. '句點'\n22. '在'\n23. '這'\n24. '之後'\n25. '宣布'\n26. '暫時'\n27. '休息'\n28. '同年'\n29. '5'\n30. '月'\n31. '24'\n32. '日'\n33. '第三部'\n34. '演唱會'\n35. '電影'\n36. '五月天'\n37. '人生'\n38. '無限公司'\n39. '3'\n40. 'D'\n41. '正式'\n42. '上映'\n43. '此外'\n44. '為'\n45. '紀念'\n46. '五月天'\n47. '的'\n48. '前'\n49. '三張'\n50. '錄音室'\n51. '專輯'\n52. '藍色'\n53. '三部曲'\n54. '發行'\n55. '20'\n56. '週年'\n57. '特別'\n58. '將'\n59. '收錄'\n60. '在'\n61. '該'\n62. '三張'\n63. '專輯'\n64. '中'\n65. '的'\n66. '歌曲'\n67. '重新'\n68. '編曲'\n69. '演唱'\n70. '並'\n71. '拍攝'\n72. '全新'\n73. '版本'\n74. '的'\n75. '音樂'\n76. '錄影帶'\n77. '賦予'\n78. '歌曲'\n79. '新'\n80. '的'\n81. '意義'\n82. '與'\n83. '故事'\n84. '於'\n85. '同年'\n86. '5'\n87. '月'\n88. '6'\n89. '日'\n90. '釋出'\n91. '首部曲'\n92. '純真'\n93. '於'\n94. '7'\n95. '月'\n96. '7'\n97. '日'\n98. '釋出'\n99. '二部曲'\n100. '瘋狂'\n101. '世界'\n102. '於'\n103. '2020'\n104. '年'\n105. '1'\n106. '月'\n107. '1'\n108. '日'\n109. '釋出'\n110. '三部曲'\n111. '溫柔'\n112. '並'\n113. '特邀'\n114. '孫燕姿'\n115. '參與'\n116. '演唱'\n117. '11'\n118. '月'\n119. '14'\n120. '日'\n121. '台北市'\n122. '跨年'\n123. '晚會'\n124. '承辦'\n125. '單位'\n126. '必應'\n127. '創造'\n128. '發布'\n129. '五月天'\n130. '擔任'\n131. '臺北'\n132. '最'\n133. 'High'\n134. '新年'\n135. '城'\n136. '2020'\n137. '跨年'\n138. '晚會'\n139. '之'\n140. '開場'\n141. '嘉賓'\n142. '是'\n143. '他們'\n144. '睽違'\n145. '8'\n146. '年'\n147. '於'\n148. '台北市'\n149. '政府'\n150. '參與'\n151. '跨年'\n152. '12'\n153. '月'\n154. '21'\n155. '22'\n156. '24'\n157. '25'\n158. '28'\n159. '29'\n160. '31'\n161. '日'\n162. '2020'\n163. '年'\n164. '1'\n165. '月'\n166. '1'\n167. '3'\n168. '4'\n169. '日'\n170. '於'\n171. '桃園'\n172. '國際'\n173. '棒球場'\n174. '連續'\n175. '舉行'\n176. '10'\n177. '場'\n178. 'Just'\n179. 'Rock'\n180. 'It'\n181. '藍'\n182. 'BLUE'\n183. '演唱會'\n184. '後'\n185. '宣布'\n186. '於'\n187. '同年'\n188. '12'\n189. '月'\n190. '27'\n191. '日'\n192. '加開'\n193. '1'\n194. '場'\n195. '總計'\n196. '11'\n197. '場'\n\n\n",
            "text/html": [
              "<style>\n",
              ".list-inline {list-style: none; margin:0; padding: 0}\n",
              ".list-inline>li {display: inline-block}\n",
              ".list-inline>li:not(:last-child)::after {content: \"\\00b7\"; padding: 0 .5ex}\n",
              "</style>\n",
              "<ol class=list-inline><li>'2019'</li><li>'年'</li><li>'1'</li><li>'月'</li><li>'6'</li><li>'日'</li><li>'連續'</li><li>'10'</li><li>'場的'</li><li>'人生'</li><li>'無限公司'</li><li>'巡演'</li><li>'最'</li><li>'終場'</li><li>'於'</li><li>'臺中市'</li><li>'洲際'</li><li>'棒球場'</li><li>'畫下'</li><li>'完美'</li><li>'句點'</li><li>'在'</li><li>'這'</li><li>'之後'</li><li>'宣布'</li><li>'暫時'</li><li>'休息'</li><li>'同年'</li><li>'5'</li><li>'月'</li><li>'24'</li><li>'日'</li><li>'第三部'</li><li>'演唱會'</li><li>'電影'</li><li>'五月天'</li><li>'人生'</li><li>'無限公司'</li><li>'3'</li><li>'D'</li><li>'正式'</li><li>'上映'</li><li>'此外'</li><li>'為'</li><li>'紀念'</li><li>'五月天'</li><li>'的'</li><li>'前'</li><li>'三張'</li><li>'錄音室'</li><li>'專輯'</li><li>'藍色'</li><li>'三部曲'</li><li>'發行'</li><li>'20'</li><li>'週年'</li><li>'特別'</li><li>'將'</li><li>'收錄'</li><li>'在'</li><li>'該'</li><li>'三張'</li><li>'專輯'</li><li>'中'</li><li>'的'</li><li>'歌曲'</li><li>'重新'</li><li>'編曲'</li><li>'演唱'</li><li>'並'</li><li>'拍攝'</li><li>'全新'</li><li>'版本'</li><li>'的'</li><li>'音樂'</li><li>'錄影帶'</li><li>'賦予'</li><li>'歌曲'</li><li>'新'</li><li>'的'</li><li>'意義'</li><li>'與'</li><li>'故事'</li><li>'於'</li><li>'同年'</li><li>'5'</li><li>'月'</li><li>'6'</li><li>'日'</li><li>'釋出'</li><li>'首部曲'</li><li>'純真'</li><li>'於'</li><li>'7'</li><li>'月'</li><li>'7'</li><li>'日'</li><li>'釋出'</li><li>'二部曲'</li><li>'瘋狂'</li><li>'世界'</li><li>'於'</li><li>'2020'</li><li>'年'</li><li>'1'</li><li>'月'</li><li>'1'</li><li>'日'</li><li>'釋出'</li><li>'三部曲'</li><li>'溫柔'</li><li>'並'</li><li>'特邀'</li><li>'孫燕姿'</li><li>'參與'</li><li>'演唱'</li><li>'11'</li><li>'月'</li><li>'14'</li><li>'日'</li><li>'台北市'</li><li>'跨年'</li><li>'晚會'</li><li>'承辦'</li><li>'單位'</li><li>'必應'</li><li>'創造'</li><li>'發布'</li><li>'五月天'</li><li>'擔任'</li><li>'臺北'</li><li>'最'</li><li>'High'</li><li>'新年'</li><li>'城'</li><li>'2020'</li><li>'跨年'</li><li>'晚會'</li><li>'之'</li><li>'開場'</li><li>'嘉賓'</li><li>'是'</li><li>'他們'</li><li>'睽違'</li><li>'8'</li><li>'年'</li><li>'於'</li><li>'台北市'</li><li>'政府'</li><li>'參與'</li><li>'跨年'</li><li>'12'</li><li>'月'</li><li>'21'</li><li>'22'</li><li>'24'</li><li>'25'</li><li>'28'</li><li>'29'</li><li>'31'</li><li>'日'</li><li>'2020'</li><li>'年'</li><li>'1'</li><li>'月'</li><li>'1'</li><li>'3'</li><li>'4'</li><li>'日'</li><li>'於'</li><li>'桃園'</li><li>'國際'</li><li>'棒球場'</li><li>'連續'</li><li>'舉行'</li><li>'10'</li><li>'場'</li><li>'Just'</li><li>'Rock'</li><li>'It'</li><li>'藍'</li><li>'BLUE'</li><li>'演唱會'</li><li>'後'</li><li>'宣布'</li><li>'於'</li><li>'同年'</li><li>'12'</li><li>'月'</li><li>'27'</li><li>'日'</li><li>'加開'</li><li>'1'</li><li>'場'</li><li>'總計'</li><li>'11'</li><li>'場'</li></ol>\n"
            ]
          },
          "metadata": {
            "tags": []
          }
        }
      ]
    },
    {
      "cell_type": "code",
      "metadata": {
        "id": "L3f8C72FQfB7"
      },
      "source": [
        "new_words <- c(\"人生無限公司\",\"藍色三部曲\",\"臺中市洲際棒球場\",\"五月天人生無限公司3D\",\"瘋狂世界\",\"桃園國際棒球場\",\"孫燕姿\")\n",
        "for (i in 1:length(new_words)) { new_user_word(cutter, new_words[i])}"
      ],
      "execution_count": 9,
      "outputs": []
    },
    {
      "cell_type": "code",
      "metadata": {
        "colab": {
          "base_uri": "https://localhost:8080/",
          "height": 121
        },
        "id": "1mmk0vkyUdmT",
        "outputId": "788aa88a-333e-45f2-8923-1ffe43abb7b8"
      },
      "source": [
        "content <- str_remove_all(content, \"[0-9a-zA-Z]+?\")\n",
        "cutter[content]"
      ],
      "execution_count": 10,
      "outputs": [
        {
          "output_type": "display_data",
          "data": {
            "text/plain": [
              "  [1] \"年月日\"           \"連續\"             \"場的\"            \n",
              "  [4] \"人生無限公司\"     \"巡演\"             \"最\"              \n",
              "  [7] \"終場\"             \"於\"               \"臺中市洲際棒球場\"\n",
              " [10] \"畫下\"             \"完美\"             \"句點\"            \n",
              " [13] \"在\"               \"這\"               \"之後\"            \n",
              " [16] \"宣布\"             \"暫時\"             \"休息\"            \n",
              " [19] \"同\"               \"年月日\"           \"第三部\"          \n",
              " [22] \"演唱會\"           \"電影\"             \"五月天\"          \n",
              " [25] \"人生無限公司\"     \"正式\"             \"上映\"            \n",
              " [28] \"此外\"             \"為\"               \"紀念\"            \n",
              " [31] \"五月天\"           \"的\"               \"前\"              \n",
              " [34] \"三張\"             \"錄音室\"           \"專輯\"            \n",
              " [37] \"藍色三部曲\"       \"發行\"             \"週年\"            \n",
              " [40] \"特別\"             \"將\"               \"收錄\"            \n",
              " [43] \"在\"               \"該\"               \"三張\"            \n",
              " [46] \"專輯\"             \"中\"               \"的\"              \n",
              " [49] \"歌曲\"             \"重新\"             \"編曲\"            \n",
              " [52] \"演唱\"             \"並\"               \"拍攝\"            \n",
              " [55] \"全新\"             \"版本\"             \"的\"              \n",
              " [58] \"音樂\"             \"錄影帶\"           \"賦予\"            \n",
              " [61] \"歌曲\"             \"新\"               \"的\"              \n",
              " [64] \"意義\"             \"與\"               \"故事\"            \n",
              " [67] \"於\"               \"同\"               \"年月日\"          \n",
              " [70] \"釋出\"             \"首部曲\"           \"純真\"            \n",
              " [73] \"於\"               \"月\"               \"日\"              \n",
              " [76] \"釋出\"             \"二部曲\"           \"瘋狂世界\"        \n",
              " [79] \"於\"               \"年月日\"           \"釋出\"            \n",
              " [82] \"三部曲\"           \"溫柔\"             \"並\"              \n",
              " [85] \"特邀\"             \"孫燕姿\"           \"參與\"            \n",
              " [88] \"演唱\"             \"月\"               \"日\"              \n",
              " [91] \"台北市\"           \"跨年\"             \"晚會\"            \n",
              " [94] \"承辦\"             \"單位\"             \"必應\"            \n",
              " [97] \"創造\"             \"發布\"             \"五月天\"          \n",
              "[100] \"擔任\"             \"臺北\"             \"最新\"            \n",
              "[103] \"年城\"             \"跨\"               \"年\"              \n",
              "[106] \"晚會\"             \"之\"               \"開場\"            \n",
              "[109] \"嘉賓\"             \"是\"               \"他們\"            \n",
              "[112] \"睽違\"             \"年\"               \"於\"              \n",
              "[115] \"台北市\"           \"政府\"             \"參與\"            \n",
              "[118] \"跨年\"             \"月\"               \"日\"              \n",
              "[121] \"年\"               \"月\"               \"日\"              \n",
              "[124] \"於\"               \"桃園國際棒球場\"   \"連續\"            \n",
              "[127] \"舉行\"             \"場\"               \"藍\"              \n",
              "[130] \"演唱會\"           \"後\"               \"宣布\"            \n",
              "[133] \"於\"               \"同\"               \"年月日\"          \n",
              "[136] \"加\"               \"開場\"             \"總計\"            \n",
              "[139] \"場\"              "
            ],
            "text/latex": "\\begin{enumerate*}\n\\item '年月日'\n\\item '連續'\n\\item '場的'\n\\item '人生無限公司'\n\\item '巡演'\n\\item '最'\n\\item '終場'\n\\item '於'\n\\item '臺中市洲際棒球場'\n\\item '畫下'\n\\item '完美'\n\\item '句點'\n\\item '在'\n\\item '這'\n\\item '之後'\n\\item '宣布'\n\\item '暫時'\n\\item '休息'\n\\item '同'\n\\item '年月日'\n\\item '第三部'\n\\item '演唱會'\n\\item '電影'\n\\item '五月天'\n\\item '人生無限公司'\n\\item '正式'\n\\item '上映'\n\\item '此外'\n\\item '為'\n\\item '紀念'\n\\item '五月天'\n\\item '的'\n\\item '前'\n\\item '三張'\n\\item '錄音室'\n\\item '專輯'\n\\item '藍色三部曲'\n\\item '發行'\n\\item '週年'\n\\item '特別'\n\\item '將'\n\\item '收錄'\n\\item '在'\n\\item '該'\n\\item '三張'\n\\item '專輯'\n\\item '中'\n\\item '的'\n\\item '歌曲'\n\\item '重新'\n\\item '編曲'\n\\item '演唱'\n\\item '並'\n\\item '拍攝'\n\\item '全新'\n\\item '版本'\n\\item '的'\n\\item '音樂'\n\\item '錄影帶'\n\\item '賦予'\n\\item '歌曲'\n\\item '新'\n\\item '的'\n\\item '意義'\n\\item '與'\n\\item '故事'\n\\item '於'\n\\item '同'\n\\item '年月日'\n\\item '釋出'\n\\item '首部曲'\n\\item '純真'\n\\item '於'\n\\item '月'\n\\item '日'\n\\item '釋出'\n\\item '二部曲'\n\\item '瘋狂世界'\n\\item '於'\n\\item '年月日'\n\\item '釋出'\n\\item '三部曲'\n\\item '溫柔'\n\\item '並'\n\\item '特邀'\n\\item '孫燕姿'\n\\item '參與'\n\\item '演唱'\n\\item '月'\n\\item '日'\n\\item '台北市'\n\\item '跨年'\n\\item '晚會'\n\\item '承辦'\n\\item '單位'\n\\item '必應'\n\\item '創造'\n\\item '發布'\n\\item '五月天'\n\\item '擔任'\n\\item '臺北'\n\\item '最新'\n\\item '年城'\n\\item '跨'\n\\item '年'\n\\item '晚會'\n\\item '之'\n\\item '開場'\n\\item '嘉賓'\n\\item '是'\n\\item '他們'\n\\item '睽違'\n\\item '年'\n\\item '於'\n\\item '台北市'\n\\item '政府'\n\\item '參與'\n\\item '跨年'\n\\item '月'\n\\item '日'\n\\item '年'\n\\item '月'\n\\item '日'\n\\item '於'\n\\item '桃園國際棒球場'\n\\item '連續'\n\\item '舉行'\n\\item '場'\n\\item '藍'\n\\item '演唱會'\n\\item '後'\n\\item '宣布'\n\\item '於'\n\\item '同'\n\\item '年月日'\n\\item '加'\n\\item '開場'\n\\item '總計'\n\\item '場'\n\\end{enumerate*}\n",
            "text/markdown": "1. '年月日'\n2. '連續'\n3. '場的'\n4. '人生無限公司'\n5. '巡演'\n6. '最'\n7. '終場'\n8. '於'\n9. '臺中市洲際棒球場'\n10. '畫下'\n11. '完美'\n12. '句點'\n13. '在'\n14. '這'\n15. '之後'\n16. '宣布'\n17. '暫時'\n18. '休息'\n19. '同'\n20. '年月日'\n21. '第三部'\n22. '演唱會'\n23. '電影'\n24. '五月天'\n25. '人生無限公司'\n26. '正式'\n27. '上映'\n28. '此外'\n29. '為'\n30. '紀念'\n31. '五月天'\n32. '的'\n33. '前'\n34. '三張'\n35. '錄音室'\n36. '專輯'\n37. '藍色三部曲'\n38. '發行'\n39. '週年'\n40. '特別'\n41. '將'\n42. '收錄'\n43. '在'\n44. '該'\n45. '三張'\n46. '專輯'\n47. '中'\n48. '的'\n49. '歌曲'\n50. '重新'\n51. '編曲'\n52. '演唱'\n53. '並'\n54. '拍攝'\n55. '全新'\n56. '版本'\n57. '的'\n58. '音樂'\n59. '錄影帶'\n60. '賦予'\n61. '歌曲'\n62. '新'\n63. '的'\n64. '意義'\n65. '與'\n66. '故事'\n67. '於'\n68. '同'\n69. '年月日'\n70. '釋出'\n71. '首部曲'\n72. '純真'\n73. '於'\n74. '月'\n75. '日'\n76. '釋出'\n77. '二部曲'\n78. '瘋狂世界'\n79. '於'\n80. '年月日'\n81. '釋出'\n82. '三部曲'\n83. '溫柔'\n84. '並'\n85. '特邀'\n86. '孫燕姿'\n87. '參與'\n88. '演唱'\n89. '月'\n90. '日'\n91. '台北市'\n92. '跨年'\n93. '晚會'\n94. '承辦'\n95. '單位'\n96. '必應'\n97. '創造'\n98. '發布'\n99. '五月天'\n100. '擔任'\n101. '臺北'\n102. '最新'\n103. '年城'\n104. '跨'\n105. '年'\n106. '晚會'\n107. '之'\n108. '開場'\n109. '嘉賓'\n110. '是'\n111. '他們'\n112. '睽違'\n113. '年'\n114. '於'\n115. '台北市'\n116. '政府'\n117. '參與'\n118. '跨年'\n119. '月'\n120. '日'\n121. '年'\n122. '月'\n123. '日'\n124. '於'\n125. '桃園國際棒球場'\n126. '連續'\n127. '舉行'\n128. '場'\n129. '藍'\n130. '演唱會'\n131. '後'\n132. '宣布'\n133. '於'\n134. '同'\n135. '年月日'\n136. '加'\n137. '開場'\n138. '總計'\n139. '場'\n\n\n",
            "text/html": [
              "<style>\n",
              ".list-inline {list-style: none; margin:0; padding: 0}\n",
              ".list-inline>li {display: inline-block}\n",
              ".list-inline>li:not(:last-child)::after {content: \"\\00b7\"; padding: 0 .5ex}\n",
              "</style>\n",
              "<ol class=list-inline><li>'年月日'</li><li>'連續'</li><li>'場的'</li><li>'人生無限公司'</li><li>'巡演'</li><li>'最'</li><li>'終場'</li><li>'於'</li><li>'臺中市洲際棒球場'</li><li>'畫下'</li><li>'完美'</li><li>'句點'</li><li>'在'</li><li>'這'</li><li>'之後'</li><li>'宣布'</li><li>'暫時'</li><li>'休息'</li><li>'同'</li><li>'年月日'</li><li>'第三部'</li><li>'演唱會'</li><li>'電影'</li><li>'五月天'</li><li>'人生無限公司'</li><li>'正式'</li><li>'上映'</li><li>'此外'</li><li>'為'</li><li>'紀念'</li><li>'五月天'</li><li>'的'</li><li>'前'</li><li>'三張'</li><li>'錄音室'</li><li>'專輯'</li><li>'藍色三部曲'</li><li>'發行'</li><li>'週年'</li><li>'特別'</li><li>'將'</li><li>'收錄'</li><li>'在'</li><li>'該'</li><li>'三張'</li><li>'專輯'</li><li>'中'</li><li>'的'</li><li>'歌曲'</li><li>'重新'</li><li>'編曲'</li><li>'演唱'</li><li>'並'</li><li>'拍攝'</li><li>'全新'</li><li>'版本'</li><li>'的'</li><li>'音樂'</li><li>'錄影帶'</li><li>'賦予'</li><li>'歌曲'</li><li>'新'</li><li>'的'</li><li>'意義'</li><li>'與'</li><li>'故事'</li><li>'於'</li><li>'同'</li><li>'年月日'</li><li>'釋出'</li><li>'首部曲'</li><li>'純真'</li><li>'於'</li><li>'月'</li><li>'日'</li><li>'釋出'</li><li>'二部曲'</li><li>'瘋狂世界'</li><li>'於'</li><li>'年月日'</li><li>'釋出'</li><li>'三部曲'</li><li>'溫柔'</li><li>'並'</li><li>'特邀'</li><li>'孫燕姿'</li><li>'參與'</li><li>'演唱'</li><li>'月'</li><li>'日'</li><li>'台北市'</li><li>'跨年'</li><li>'晚會'</li><li>'承辦'</li><li>'單位'</li><li>'必應'</li><li>'創造'</li><li>'發布'</li><li>'五月天'</li><li>'擔任'</li><li>'臺北'</li><li>'最新'</li><li>'年城'</li><li>'跨'</li><li>'年'</li><li>'晚會'</li><li>'之'</li><li>'開場'</li><li>'嘉賓'</li><li>'是'</li><li>'他們'</li><li>'睽違'</li><li>'年'</li><li>'於'</li><li>'台北市'</li><li>'政府'</li><li>'參與'</li><li>'跨年'</li><li>'月'</li><li>'日'</li><li>'年'</li><li>'月'</li><li>'日'</li><li>'於'</li><li>'桃園國際棒球場'</li><li>'連續'</li><li>'舉行'</li><li>'場'</li><li>'藍'</li><li>'演唱會'</li><li>'後'</li><li>'宣布'</li><li>'於'</li><li>'同'</li><li>'年月日'</li><li>'加'</li><li>'開場'</li><li>'總計'</li><li>'場'</li></ol>\n"
            ]
          },
          "metadata": {
            "tags": []
          }
        }
      ]
    },
    {
      "cell_type": "code",
      "metadata": {
        "id": "Gzbm0YC9TncG"
      },
      "source": [
        "new_words <- c(\"人生無限公司\",\"藍色三部曲\",\"臺中市洲際棒球場\",\"五月天人生無限公司3D\",\"瘋狂世界\",\"桃園國際棒球場\",\"孫燕姿\")\n",
        "writeLines(new_words, \"new_words.txt\")"
      ],
      "execution_count": null,
      "outputs": []
    },
    {
      "cell_type": "code",
      "metadata": {
        "id": "J0GvZ7FmTq-I"
      },
      "source": [
        "stop_words <- c(\"的\",\"於\",\"與\",\"為\",\"年\",\"月\",\"日\",\"場\",\"同\")\n",
        "writeLines(stop_words, \"stop_words.txt\")"
      ],
      "execution_count": 19,
      "outputs": []
    },
    {
      "cell_type": "code",
      "metadata": {
        "colab": {
          "base_uri": "https://localhost:8080/",
          "height": 104
        },
        "id": "Xx32R-n_T8Gq",
        "outputId": "b21e5d42-2651-465d-bd63-167cfde85729"
      },
      "source": [
        "cutter <- worker(user = \"new_words.txt\", stop_word = \"stop_words.txt\", bylines = FALSE)\n",
        "seg_words <- cutter[content]\n",
        "seg_words"
      ],
      "execution_count": 20,
      "outputs": [
        {
          "output_type": "display_data",
          "data": {
            "text/plain": [
              "  [1] \"年月日\"   \"連續\"     \"場的\"     \"人生\"     \"無限公司\" \"巡演\"    \n",
              "  [7] \"最\"       \"終場\"     \"臺中市\"   \"洲際\"     \"棒球場\"   \"畫下\"    \n",
              " [13] \"完美\"     \"句點\"     \"在\"       \"這\"       \"之後\"     \"宣布\"    \n",
              " [19] \"暫時\"     \"休息\"     \"年月日\"   \"第三部\"   \"演唱會\"   \"電影\"    \n",
              " [25] \"五月天\"   \"人生\"     \"無限公司\" \"正式\"     \"上映\"     \"此外\"    \n",
              " [31] \"紀念\"     \"五月天\"   \"前\"       \"三張\"     \"錄音室\"   \"專輯\"    \n",
              " [37] \"藍色\"     \"三部曲\"   \"發行\"     \"週年\"     \"特別\"     \"將\"      \n",
              " [43] \"收錄\"     \"在\"       \"該\"       \"三張\"     \"專輯\"     \"中\"      \n",
              " [49] \"歌曲\"     \"重新\"     \"編曲\"     \"演唱\"     \"並\"       \"拍攝\"    \n",
              " [55] \"全新\"     \"版本\"     \"音樂\"     \"錄影帶\"   \"賦予\"     \"歌曲\"    \n",
              " [61] \"新\"       \"意義\"     \"故事\"     \"年月日\"   \"釋出\"     \"首部曲\"  \n",
              " [67] \"純真\"     \"釋出\"     \"二部曲\"   \"瘋狂\"     \"世界\"     \"年月日\"  \n",
              " [73] \"釋出\"     \"三部曲\"   \"溫柔\"     \"並\"       \"特邀\"     \"孫燕姿\"  \n",
              " [79] \"參與\"     \"演唱\"     \"台北市\"   \"跨年\"     \"晚會\"     \"承辦\"    \n",
              " [85] \"單位\"     \"必應\"     \"創造\"     \"發布\"     \"五月天\"   \"擔任\"    \n",
              " [91] \"臺北\"     \"最新\"     \"年城\"     \"跨\"       \"晚會\"     \"之\"      \n",
              " [97] \"開場\"     \"嘉賓\"     \"是\"       \"他們\"     \"睽違\"     \"台北市\"  \n",
              "[103] \"政府\"     \"參與\"     \"跨年\"     \"桃園\"     \"國際\"     \"棒球場\"  \n",
              "[109] \"連續\"     \"舉行\"     \"藍\"       \"演唱會\"   \"後\"       \"宣布\"    \n",
              "[115] \"年月日\"   \"加\"       \"開場\"     \"總計\"    "
            ],
            "text/latex": "\\begin{enumerate*}\n\\item '年月日'\n\\item '連續'\n\\item '場的'\n\\item '人生'\n\\item '無限公司'\n\\item '巡演'\n\\item '最'\n\\item '終場'\n\\item '臺中市'\n\\item '洲際'\n\\item '棒球場'\n\\item '畫下'\n\\item '完美'\n\\item '句點'\n\\item '在'\n\\item '這'\n\\item '之後'\n\\item '宣布'\n\\item '暫時'\n\\item '休息'\n\\item '年月日'\n\\item '第三部'\n\\item '演唱會'\n\\item '電影'\n\\item '五月天'\n\\item '人生'\n\\item '無限公司'\n\\item '正式'\n\\item '上映'\n\\item '此外'\n\\item '紀念'\n\\item '五月天'\n\\item '前'\n\\item '三張'\n\\item '錄音室'\n\\item '專輯'\n\\item '藍色'\n\\item '三部曲'\n\\item '發行'\n\\item '週年'\n\\item '特別'\n\\item '將'\n\\item '收錄'\n\\item '在'\n\\item '該'\n\\item '三張'\n\\item '專輯'\n\\item '中'\n\\item '歌曲'\n\\item '重新'\n\\item '編曲'\n\\item '演唱'\n\\item '並'\n\\item '拍攝'\n\\item '全新'\n\\item '版本'\n\\item '音樂'\n\\item '錄影帶'\n\\item '賦予'\n\\item '歌曲'\n\\item '新'\n\\item '意義'\n\\item '故事'\n\\item '年月日'\n\\item '釋出'\n\\item '首部曲'\n\\item '純真'\n\\item '釋出'\n\\item '二部曲'\n\\item '瘋狂'\n\\item '世界'\n\\item '年月日'\n\\item '釋出'\n\\item '三部曲'\n\\item '溫柔'\n\\item '並'\n\\item '特邀'\n\\item '孫燕姿'\n\\item '參與'\n\\item '演唱'\n\\item '台北市'\n\\item '跨年'\n\\item '晚會'\n\\item '承辦'\n\\item '單位'\n\\item '必應'\n\\item '創造'\n\\item '發布'\n\\item '五月天'\n\\item '擔任'\n\\item '臺北'\n\\item '最新'\n\\item '年城'\n\\item '跨'\n\\item '晚會'\n\\item '之'\n\\item '開場'\n\\item '嘉賓'\n\\item '是'\n\\item '他們'\n\\item '睽違'\n\\item '台北市'\n\\item '政府'\n\\item '參與'\n\\item '跨年'\n\\item '桃園'\n\\item '國際'\n\\item '棒球場'\n\\item '連續'\n\\item '舉行'\n\\item '藍'\n\\item '演唱會'\n\\item '後'\n\\item '宣布'\n\\item '年月日'\n\\item '加'\n\\item '開場'\n\\item '總計'\n\\end{enumerate*}\n",
            "text/markdown": "1. '年月日'\n2. '連續'\n3. '場的'\n4. '人生'\n5. '無限公司'\n6. '巡演'\n7. '最'\n8. '終場'\n9. '臺中市'\n10. '洲際'\n11. '棒球場'\n12. '畫下'\n13. '完美'\n14. '句點'\n15. '在'\n16. '這'\n17. '之後'\n18. '宣布'\n19. '暫時'\n20. '休息'\n21. '年月日'\n22. '第三部'\n23. '演唱會'\n24. '電影'\n25. '五月天'\n26. '人生'\n27. '無限公司'\n28. '正式'\n29. '上映'\n30. '此外'\n31. '紀念'\n32. '五月天'\n33. '前'\n34. '三張'\n35. '錄音室'\n36. '專輯'\n37. '藍色'\n38. '三部曲'\n39. '發行'\n40. '週年'\n41. '特別'\n42. '將'\n43. '收錄'\n44. '在'\n45. '該'\n46. '三張'\n47. '專輯'\n48. '中'\n49. '歌曲'\n50. '重新'\n51. '編曲'\n52. '演唱'\n53. '並'\n54. '拍攝'\n55. '全新'\n56. '版本'\n57. '音樂'\n58. '錄影帶'\n59. '賦予'\n60. '歌曲'\n61. '新'\n62. '意義'\n63. '故事'\n64. '年月日'\n65. '釋出'\n66. '首部曲'\n67. '純真'\n68. '釋出'\n69. '二部曲'\n70. '瘋狂'\n71. '世界'\n72. '年月日'\n73. '釋出'\n74. '三部曲'\n75. '溫柔'\n76. '並'\n77. '特邀'\n78. '孫燕姿'\n79. '參與'\n80. '演唱'\n81. '台北市'\n82. '跨年'\n83. '晚會'\n84. '承辦'\n85. '單位'\n86. '必應'\n87. '創造'\n88. '發布'\n89. '五月天'\n90. '擔任'\n91. '臺北'\n92. '最新'\n93. '年城'\n94. '跨'\n95. '晚會'\n96. '之'\n97. '開場'\n98. '嘉賓'\n99. '是'\n100. '他們'\n101. '睽違'\n102. '台北市'\n103. '政府'\n104. '參與'\n105. '跨年'\n106. '桃園'\n107. '國際'\n108. '棒球場'\n109. '連續'\n110. '舉行'\n111. '藍'\n112. '演唱會'\n113. '後'\n114. '宣布'\n115. '年月日'\n116. '加'\n117. '開場'\n118. '總計'\n\n\n",
            "text/html": [
              "<style>\n",
              ".list-inline {list-style: none; margin:0; padding: 0}\n",
              ".list-inline>li {display: inline-block}\n",
              ".list-inline>li:not(:last-child)::after {content: \"\\00b7\"; padding: 0 .5ex}\n",
              "</style>\n",
              "<ol class=list-inline><li>'年月日'</li><li>'連續'</li><li>'場的'</li><li>'人生'</li><li>'無限公司'</li><li>'巡演'</li><li>'最'</li><li>'終場'</li><li>'臺中市'</li><li>'洲際'</li><li>'棒球場'</li><li>'畫下'</li><li>'完美'</li><li>'句點'</li><li>'在'</li><li>'這'</li><li>'之後'</li><li>'宣布'</li><li>'暫時'</li><li>'休息'</li><li>'年月日'</li><li>'第三部'</li><li>'演唱會'</li><li>'電影'</li><li>'五月天'</li><li>'人生'</li><li>'無限公司'</li><li>'正式'</li><li>'上映'</li><li>'此外'</li><li>'紀念'</li><li>'五月天'</li><li>'前'</li><li>'三張'</li><li>'錄音室'</li><li>'專輯'</li><li>'藍色'</li><li>'三部曲'</li><li>'發行'</li><li>'週年'</li><li>'特別'</li><li>'將'</li><li>'收錄'</li><li>'在'</li><li>'該'</li><li>'三張'</li><li>'專輯'</li><li>'中'</li><li>'歌曲'</li><li>'重新'</li><li>'編曲'</li><li>'演唱'</li><li>'並'</li><li>'拍攝'</li><li>'全新'</li><li>'版本'</li><li>'音樂'</li><li>'錄影帶'</li><li>'賦予'</li><li>'歌曲'</li><li>'新'</li><li>'意義'</li><li>'故事'</li><li>'年月日'</li><li>'釋出'</li><li>'首部曲'</li><li>'純真'</li><li>'釋出'</li><li>'二部曲'</li><li>'瘋狂'</li><li>'世界'</li><li>'年月日'</li><li>'釋出'</li><li>'三部曲'</li><li>'溫柔'</li><li>'並'</li><li>'特邀'</li><li>'孫燕姿'</li><li>'參與'</li><li>'演唱'</li><li>'台北市'</li><li>'跨年'</li><li>'晚會'</li><li>'承辦'</li><li>'單位'</li><li>'必應'</li><li>'創造'</li><li>'發布'</li><li>'五月天'</li><li>'擔任'</li><li>'臺北'</li><li>'最新'</li><li>'年城'</li><li>'跨'</li><li>'晚會'</li><li>'之'</li><li>'開場'</li><li>'嘉賓'</li><li>'是'</li><li>'他們'</li><li>'睽違'</li><li>'台北市'</li><li>'政府'</li><li>'參與'</li><li>'跨年'</li><li>'桃園'</li><li>'國際'</li><li>'棒球場'</li><li>'連續'</li><li>'舉行'</li><li>'藍'</li><li>'演唱會'</li><li>'後'</li><li>'宣布'</li><li>'年月日'</li><li>'加'</li><li>'開場'</li><li>'總計'</li></ol>\n"
            ]
          },
          "metadata": {
            "tags": []
          }
        }
      ]
    },
    {
      "cell_type": "code",
      "metadata": {
        "colab": {
          "base_uri": "https://localhost:8080/",
          "height": 281
        },
        "id": "xOZHSECBVcOv",
        "outputId": "e53bd4af-ecf4-4580-dbd9-304418020af1"
      },
      "source": [
        "txt_freq <- freq(seg_words)\n",
        "txt_freq <- arrange(txt_freq, desc(freq))\n",
        "head(txt_freq)"
      ],
      "execution_count": 21,
      "outputs": [
        {
          "output_type": "display_data",
          "data": {
            "text/plain": [
              "  char   freq\n",
              "1 年月日 5   \n",
              "2 五月天 3   \n",
              "3 釋出   3   \n",
              "4 三張   2   \n",
              "5 三部曲 2   \n",
              "6 連續   2   "
            ],
            "text/latex": "A data.frame: 6 × 2\n\\begin{tabular}{r|ll}\n  & char & freq\\\\\n  & <chr> & <dbl>\\\\\n\\hline\n\t1 & 年月日 & 5\\\\\n\t2 & 五月天 & 3\\\\\n\t3 & 釋出   & 3\\\\\n\t4 & 三張   & 2\\\\\n\t5 & 三部曲 & 2\\\\\n\t6 & 連續   & 2\\\\\n\\end{tabular}\n",
            "text/markdown": "\nA data.frame: 6 × 2\n\n| <!--/--> | char &lt;chr&gt; | freq &lt;dbl&gt; |\n|---|---|---|\n| 1 | 年月日 | 5 |\n| 2 | 五月天 | 3 |\n| 3 | 釋出   | 3 |\n| 4 | 三張   | 2 |\n| 5 | 三部曲 | 2 |\n| 6 | 連續   | 2 |\n\n",
            "text/html": [
              "<table class=\"dataframe\">\n",
              "<caption>A data.frame: 6 × 2</caption>\n",
              "<thead>\n",
              "\t<tr><th></th><th scope=col>char</th><th scope=col>freq</th></tr>\n",
              "\t<tr><th></th><th scope=col>&lt;chr&gt;</th><th scope=col>&lt;dbl&gt;</th></tr>\n",
              "</thead>\n",
              "<tbody>\n",
              "\t<tr><th scope=row>1</th><td>年月日</td><td>5</td></tr>\n",
              "\t<tr><th scope=row>2</th><td>五月天</td><td>3</td></tr>\n",
              "\t<tr><th scope=row>3</th><td>釋出  </td><td>3</td></tr>\n",
              "\t<tr><th scope=row>4</th><td>三張  </td><td>2</td></tr>\n",
              "\t<tr><th scope=row>5</th><td>三部曲</td><td>2</td></tr>\n",
              "\t<tr><th scope=row>6</th><td>連續  </td><td>2</td></tr>\n",
              "</tbody>\n",
              "</table>\n"
            ]
          },
          "metadata": {
            "tags": []
          }
        }
      ]
    },
    {
      "cell_type": "code",
      "metadata": {
        "colab": {
          "base_uri": "https://localhost:8080/"
        },
        "id": "BKfy6fgoglG6",
        "outputId": "83a46db7-77d7-49e9-b689-b58a5c8e5f0a"
      },
      "source": [
        "install.packages(\"showtext\")"
      ],
      "execution_count": 22,
      "outputs": [
        {
          "output_type": "stream",
          "text": [
            "Installing package into ‘/usr/local/lib/R/site-library’\n",
            "(as ‘lib’ is unspecified)\n",
            "\n",
            "also installing the dependencies ‘sysfonts’, ‘showtextdb’\n",
            "\n",
            "\n"
          ],
          "name": "stderr"
        }
      ]
    },
    {
      "cell_type": "code",
      "metadata": {
        "id": "UJoYJQCSguLb",
        "colab": {
          "base_uri": "https://localhost:8080/"
        },
        "outputId": "471f6453-d775-40ba-ba0f-52a9719a791a"
      },
      "source": [
        "library(showtext)"
      ],
      "execution_count": 23,
      "outputs": [
        {
          "output_type": "stream",
          "text": [
            "Loading required package: sysfonts\n",
            "\n",
            "Loading required package: showtextdb\n",
            "\n"
          ],
          "name": "stderr"
        }
      ]
    },
    {
      "cell_type": "code",
      "metadata": {
        "id": "ZPmVlSkchS6m",
        "colab": {
          "base_uri": "https://localhost:8080/"
        },
        "outputId": "bd4f9c85-bab8-4e1d-b1fe-9cdc8eb786dc"
      },
      "source": [
        "showtext.auto (enable=TRUE)"
      ],
      "execution_count": 24,
      "outputs": [
        {
          "output_type": "stream",
          "text": [
            "'showtext.auto()' is now renamed to 'showtext_auto()'\n",
            "The old version still works, but consider using the new function in future code\n",
            "\n"
          ],
          "name": "stderr"
        }
      ]
    },
    {
      "cell_type": "code",
      "metadata": {
        "colab": {
          "base_uri": "https://localhost:8080/",
          "height": 1000
        },
        "id": "g8STuZaEWUp6",
        "outputId": "774bf086-59f8-4bab-8b3f-d30ff8992b51"
      },
      "source": [
        "par(family=(\"Microsoft YaHei\"))\n",
        "wordcloud(txt_freq$char, txt_freq$freq, min.freq = 2 , random.order = F, order.colors = F , colors = rainbow(nrow(txt_freq)))"
      ],
      "execution_count": 25,
      "outputs": [
        {
          "output_type": "stream",
          "text": [
            "Warning message in strwidth(words[i], cex = size[i], ...):\n",
            "“\"order.colors\" is not a graphical parameter”\n",
            "Warning message in strwidth(words[i], cex = size[i], ...):\n",
            "“font family 'Microsoft YaHei' not found, will use 'wqy-microhei' instead”\n",
            "Warning message in strheight(words[i], cex = size[i], ...):\n",
            "“\"order.colors\" is not a graphical parameter”\n",
            "Warning message in strheight(words[i], cex = size[i], ...):\n",
            "“font family 'Microsoft YaHei' not found, will use 'sans' instead”\n",
            "Warning message in text.default(x1, y1, words[i], cex = size[i], offset = 0, srt = rotWord * :\n",
            "“\"order.colors\" is not a graphical parameter”\n",
            "Warning message in text.default(x1, y1, words[i], cex = size[i], offset = 0, srt = rotWord * :\n",
            "“font family 'Microsoft YaHei' not found, will use 'wqy-microhei' instead”\n",
            "Warning message in text.default(x1, y1, words[i], cex = size[i], offset = 0, srt = rotWord * :\n",
            "“font family 'Microsoft YaHei' not found, will use 'wqy-microhei' instead”\n",
            "Warning message in text.default(x1, y1, words[i], cex = size[i], offset = 0, srt = rotWord * :\n",
            "“font family 'Microsoft YaHei' not found, will use 'wqy-microhei' instead”\n",
            "Warning message in text.default(x1, y1, words[i], cex = size[i], offset = 0, srt = rotWord * :\n",
            "“font family 'Microsoft YaHei' not found, will use 'wqy-microhei' instead”\n",
            "Warning message in text.default(x1, y1, words[i], cex = size[i], offset = 0, srt = rotWord * :\n",
            "“font family 'Microsoft YaHei' not found, will use 'wqy-microhei' instead”\n",
            "Warning message in strwidth(words[i], cex = size[i], ...):\n",
            "“\"order.colors\" is not a graphical parameter”\n",
            "Warning message in strwidth(words[i], cex = size[i], ...):\n",
            "“font family 'Microsoft YaHei' not found, will use 'wqy-microhei' instead”\n",
            "Warning message in strheight(words[i], cex = size[i], ...):\n",
            "“\"order.colors\" is not a graphical parameter”\n",
            "Warning message in strheight(words[i], cex = size[i], ...):\n",
            "“font family 'Microsoft YaHei' not found, will use 'sans' instead”\n",
            "Warning message in text.default(x1, y1, words[i], cex = size[i], offset = 0, srt = rotWord * :\n",
            "“\"order.colors\" is not a graphical parameter”\n",
            "Warning message in text.default(x1, y1, words[i], cex = size[i], offset = 0, srt = rotWord * :\n",
            "“font family 'Microsoft YaHei' not found, will use 'wqy-microhei' instead”\n",
            "Warning message in text.default(x1, y1, words[i], cex = size[i], offset = 0, srt = rotWord * :\n",
            "“font family 'Microsoft YaHei' not found, will use 'wqy-microhei' instead”\n",
            "Warning message in text.default(x1, y1, words[i], cex = size[i], offset = 0, srt = rotWord * :\n",
            "“font family 'Microsoft YaHei' not found, will use 'wqy-microhei' instead”\n",
            "Warning message in text.default(x1, y1, words[i], cex = size[i], offset = 0, srt = rotWord * :\n",
            "“font family 'Microsoft YaHei' not found, will use 'wqy-microhei' instead”\n",
            "Warning message in text.default(x1, y1, words[i], cex = size[i], offset = 0, srt = rotWord * :\n",
            "“font family 'Microsoft YaHei' not found, will use 'wqy-microhei' instead”\n",
            "Warning message in strwidth(words[i], cex = size[i], ...):\n",
            "“\"order.colors\" is not a graphical parameter”\n",
            "Warning message in strwidth(words[i], cex = size[i], ...):\n",
            "“font family 'Microsoft YaHei' not found, will use 'wqy-microhei' instead”\n",
            "Warning message in strheight(words[i], cex = size[i], ...):\n",
            "“\"order.colors\" is not a graphical parameter”\n",
            "Warning message in text.default(x1, y1, words[i], cex = size[i], offset = 0, srt = rotWord * :\n",
            "“\"order.colors\" is not a graphical parameter”\n",
            "Warning message in text.default(x1, y1, words[i], cex = size[i], offset = 0, srt = rotWord * :\n",
            "“font family 'Microsoft YaHei' not found, will use 'wqy-microhei' instead”\n",
            "Warning message in text.default(x1, y1, words[i], cex = size[i], offset = 0, srt = rotWord * :\n",
            "“font family 'Microsoft YaHei' not found, will use 'wqy-microhei' instead”\n",
            "Warning message in text.default(x1, y1, words[i], cex = size[i], offset = 0, srt = rotWord * :\n",
            "“font family 'Microsoft YaHei' not found, will use 'wqy-microhei' instead”\n",
            "Warning message in text.default(x1, y1, words[i], cex = size[i], offset = 0, srt = rotWord * :\n",
            "“font family 'Microsoft YaHei' not found, will use 'wqy-microhei' instead”\n",
            "Warning message in strwidth(words[i], cex = size[i], ...):\n",
            "“\"order.colors\" is not a graphical parameter”\n",
            "Warning message in strwidth(words[i], cex = size[i], ...):\n",
            "“font family 'Microsoft YaHei' not found, will use 'wqy-microhei' instead”\n",
            "Warning message in strheight(words[i], cex = size[i], ...):\n",
            "“\"order.colors\" is not a graphical parameter”\n",
            "Warning message in strheight(words[i], cex = size[i], ...):\n",
            "“font family 'Microsoft YaHei' not found, will use 'sans' instead”\n",
            "Warning message in text.default(x1, y1, words[i], cex = size[i], offset = 0, srt = rotWord * :\n",
            "“\"order.colors\" is not a graphical parameter”\n",
            "Warning message in text.default(x1, y1, words[i], cex = size[i], offset = 0, srt = rotWord * :\n",
            "“font family 'Microsoft YaHei' not found, will use 'wqy-microhei' instead”\n",
            "Warning message in text.default(x1, y1, words[i], cex = size[i], offset = 0, srt = rotWord * :\n",
            "“font family 'Microsoft YaHei' not found, will use 'wqy-microhei' instead”\n",
            "Warning message in text.default(x1, y1, words[i], cex = size[i], offset = 0, srt = rotWord * :\n",
            "“font family 'Microsoft YaHei' not found, will use 'wqy-microhei' instead”\n",
            "Warning message in text.default(x1, y1, words[i], cex = size[i], offset = 0, srt = rotWord * :\n",
            "“font family 'Microsoft YaHei' not found, will use 'wqy-microhei' instead”\n",
            "Warning message in strwidth(words[i], cex = size[i], ...):\n",
            "“\"order.colors\" is not a graphical parameter”\n",
            "Warning message in strwidth(words[i], cex = size[i], ...):\n",
            "“font family 'Microsoft YaHei' not found, will use 'wqy-microhei' instead”\n",
            "Warning message in strheight(words[i], cex = size[i], ...):\n",
            "“\"order.colors\" is not a graphical parameter”\n",
            "Warning message in text.default(x1, y1, words[i], cex = size[i], offset = 0, srt = rotWord * :\n",
            "“\"order.colors\" is not a graphical parameter”\n",
            "Warning message in text.default(x1, y1, words[i], cex = size[i], offset = 0, srt = rotWord * :\n",
            "“font family 'Microsoft YaHei' not found, will use 'wqy-microhei' instead”\n",
            "Warning message in text.default(x1, y1, words[i], cex = size[i], offset = 0, srt = rotWord * :\n",
            "“font family 'Microsoft YaHei' not found, will use 'wqy-microhei' instead”\n",
            "Warning message in text.default(x1, y1, words[i], cex = size[i], offset = 0, srt = rotWord * :\n",
            "“font family 'Microsoft YaHei' not found, will use 'wqy-microhei' instead”\n",
            "Warning message in text.default(x1, y1, words[i], cex = size[i], offset = 0, srt = rotWord * :\n",
            "“font family 'Microsoft YaHei' not found, will use 'wqy-microhei' instead”\n",
            "Warning message in text.default(x1, y1, words[i], cex = size[i], offset = 0, srt = rotWord * :\n",
            "“font family 'Microsoft YaHei' not found, will use 'wqy-microhei' instead”\n",
            "Warning message in strwidth(words[i], cex = size[i], ...):\n",
            "“\"order.colors\" is not a graphical parameter”\n",
            "Warning message in strwidth(words[i], cex = size[i], ...):\n",
            "“font family 'Microsoft YaHei' not found, will use 'wqy-microhei' instead”\n",
            "Warning message in strheight(words[i], cex = size[i], ...):\n",
            "“\"order.colors\" is not a graphical parameter”\n",
            "Warning message in text.default(x1, y1, words[i], cex = size[i], offset = 0, srt = rotWord * :\n",
            "“\"order.colors\" is not a graphical parameter”\n",
            "Warning message in text.default(x1, y1, words[i], cex = size[i], offset = 0, srt = rotWord * :\n",
            "“font family 'Microsoft YaHei' not found, will use 'wqy-microhei' instead”\n",
            "Warning message in text.default(x1, y1, words[i], cex = size[i], offset = 0, srt = rotWord * :\n",
            "“font family 'Microsoft YaHei' not found, will use 'wqy-microhei' instead”\n",
            "Warning message in text.default(x1, y1, words[i], cex = size[i], offset = 0, srt = rotWord * :\n",
            "“font family 'Microsoft YaHei' not found, will use 'wqy-microhei' instead”\n",
            "Warning message in text.default(x1, y1, words[i], cex = size[i], offset = 0, srt = rotWord * :\n",
            "“font family 'Microsoft YaHei' not found, will use 'wqy-microhei' instead”\n",
            "Warning message in strwidth(words[i], cex = size[i], ...):\n",
            "“\"order.colors\" is not a graphical parameter”\n",
            "Warning message in strwidth(words[i], cex = size[i], ...):\n",
            "“font family 'Microsoft YaHei' not found, will use 'wqy-microhei' instead”\n",
            "Warning message in strheight(words[i], cex = size[i], ...):\n",
            "“\"order.colors\" is not a graphical parameter”\n",
            "Warning message in text.default(x1, y1, words[i], cex = size[i], offset = 0, srt = rotWord * :\n",
            "“\"order.colors\" is not a graphical parameter”\n",
            "Warning message in text.default(x1, y1, words[i], cex = size[i], offset = 0, srt = rotWord * :\n",
            "“font family 'Microsoft YaHei' not found, will use 'wqy-microhei' instead”\n",
            "Warning message in text.default(x1, y1, words[i], cex = size[i], offset = 0, srt = rotWord * :\n",
            "“font family 'Microsoft YaHei' not found, will use 'wqy-microhei' instead”\n",
            "Warning message in text.default(x1, y1, words[i], cex = size[i], offset = 0, srt = rotWord * :\n",
            "“font family 'Microsoft YaHei' not found, will use 'wqy-microhei' instead”\n",
            "Warning message in text.default(x1, y1, words[i], cex = size[i], offset = 0, srt = rotWord * :\n",
            "“font family 'Microsoft YaHei' not found, will use 'wqy-microhei' instead”\n",
            "Warning message in strwidth(words[i], cex = size[i], ...):\n",
            "“\"order.colors\" is not a graphical parameter”\n",
            "Warning message in strwidth(words[i], cex = size[i], ...):\n",
            "“font family 'Microsoft YaHei' not found, will use 'wqy-microhei' instead”\n",
            "Warning message in strheight(words[i], cex = size[i], ...):\n",
            "“\"order.colors\" is not a graphical parameter”\n",
            "Warning message in text.default(x1, y1, words[i], cex = size[i], offset = 0, srt = rotWord * :\n",
            "“\"order.colors\" is not a graphical parameter”\n",
            "Warning message in text.default(x1, y1, words[i], cex = size[i], offset = 0, srt = rotWord * :\n",
            "“font family 'Microsoft YaHei' not found, will use 'wqy-microhei' instead”\n",
            "Warning message in text.default(x1, y1, words[i], cex = size[i], offset = 0, srt = rotWord * :\n",
            "“font family 'Microsoft YaHei' not found, will use 'wqy-microhei' instead”\n",
            "Warning message in text.default(x1, y1, words[i], cex = size[i], offset = 0, srt = rotWord * :\n",
            "“font family 'Microsoft YaHei' not found, will use 'wqy-microhei' instead”\n",
            "Warning message in text.default(x1, y1, words[i], cex = size[i], offset = 0, srt = rotWord * :\n",
            "“font family 'Microsoft YaHei' not found, will use 'wqy-microhei' instead”\n",
            "Warning message in strwidth(words[i], cex = size[i], ...):\n",
            "“\"order.colors\" is not a graphical parameter”\n",
            "Warning message in strwidth(words[i], cex = size[i], ...):\n",
            "“font family 'Microsoft YaHei' not found, will use 'wqy-microhei' instead”\n",
            "Warning message in strheight(words[i], cex = size[i], ...):\n",
            "“\"order.colors\" is not a graphical parameter”\n",
            "Warning message in text.default(x1, y1, words[i], cex = size[i], offset = 0, srt = rotWord * :\n",
            "“\"order.colors\" is not a graphical parameter”\n",
            "Warning message in text.default(x1, y1, words[i], cex = size[i], offset = 0, srt = rotWord * :\n",
            "“font family 'Microsoft YaHei' not found, will use 'wqy-microhei' instead”\n",
            "Warning message in text.default(x1, y1, words[i], cex = size[i], offset = 0, srt = rotWord * :\n",
            "“font family 'Microsoft YaHei' not found, will use 'wqy-microhei' instead”\n",
            "Warning message in text.default(x1, y1, words[i], cex = size[i], offset = 0, srt = rotWord * :\n",
            "“font family 'Microsoft YaHei' not found, will use 'wqy-microhei' instead”\n",
            "Warning message in text.default(x1, y1, words[i], cex = size[i], offset = 0, srt = rotWord * :\n",
            "“font family 'Microsoft YaHei' not found, will use 'wqy-microhei' instead”\n",
            "Warning message in strwidth(words[i], cex = size[i], ...):\n",
            "“\"order.colors\" is not a graphical parameter”\n",
            "Warning message in strwidth(words[i], cex = size[i], ...):\n",
            "“font family 'Microsoft YaHei' not found, will use 'wqy-microhei' instead”\n",
            "Warning message in strheight(words[i], cex = size[i], ...):\n",
            "“\"order.colors\" is not a graphical parameter”\n",
            "Warning message in text.default(x1, y1, words[i], cex = size[i], offset = 0, srt = rotWord * :\n",
            "“\"order.colors\" is not a graphical parameter”\n",
            "Warning message in text.default(x1, y1, words[i], cex = size[i], offset = 0, srt = rotWord * :\n",
            "“font family 'Microsoft YaHei' not found, will use 'wqy-microhei' instead”\n",
            "Warning message in text.default(x1, y1, words[i], cex = size[i], offset = 0, srt = rotWord * :\n",
            "“font family 'Microsoft YaHei' not found, will use 'wqy-microhei' instead”\n",
            "Warning message in text.default(x1, y1, words[i], cex = size[i], offset = 0, srt = rotWord * :\n",
            "“font family 'Microsoft YaHei' not found, will use 'wqy-microhei' instead”\n",
            "Warning message in text.default(x1, y1, words[i], cex = size[i], offset = 0, srt = rotWord * :\n",
            "“font family 'Microsoft YaHei' not found, will use 'wqy-microhei' instead”\n",
            "Warning message in text.default(x1, y1, words[i], cex = size[i], offset = 0, srt = rotWord * :\n",
            "“font family 'Microsoft YaHei' not found, will use 'wqy-microhei' instead”\n",
            "Warning message in text.default(x1, y1, words[i], cex = size[i], offset = 0, srt = rotWord * :\n",
            "“font family 'Microsoft YaHei' not found, will use 'wqy-microhei' instead”\n",
            "Warning message in strwidth(words[i], cex = size[i], ...):\n",
            "“\"order.colors\" is not a graphical parameter”\n",
            "Warning message in strwidth(words[i], cex = size[i], ...):\n",
            "“font family 'Microsoft YaHei' not found, will use 'wqy-microhei' instead”\n",
            "Warning message in strheight(words[i], cex = size[i], ...):\n",
            "“\"order.colors\" is not a graphical parameter”\n",
            "Warning message in text.default(x1, y1, words[i], cex = size[i], offset = 0, srt = rotWord * :\n",
            "“\"order.colors\" is not a graphical parameter”\n",
            "Warning message in text.default(x1, y1, words[i], cex = size[i], offset = 0, srt = rotWord * :\n",
            "“font family 'Microsoft YaHei' not found, will use 'wqy-microhei' instead”\n",
            "Warning message in text.default(x1, y1, words[i], cex = size[i], offset = 0, srt = rotWord * :\n",
            "“font family 'Microsoft YaHei' not found, will use 'wqy-microhei' instead”\n",
            "Warning message in text.default(x1, y1, words[i], cex = size[i], offset = 0, srt = rotWord * :\n",
            "“font family 'Microsoft YaHei' not found, will use 'wqy-microhei' instead”\n",
            "Warning message in text.default(x1, y1, words[i], cex = size[i], offset = 0, srt = rotWord * :\n",
            "“font family 'Microsoft YaHei' not found, will use 'wqy-microhei' instead”\n",
            "Warning message in text.default(x1, y1, words[i], cex = size[i], offset = 0, srt = rotWord * :\n",
            "“font family 'Microsoft YaHei' not found, will use 'wqy-microhei' instead”\n",
            "Warning message in strwidth(words[i], cex = size[i], ...):\n",
            "“\"order.colors\" is not a graphical parameter”\n",
            "Warning message in strwidth(words[i], cex = size[i], ...):\n",
            "“font family 'Microsoft YaHei' not found, will use 'wqy-microhei' instead”\n",
            "Warning message in strheight(words[i], cex = size[i], ...):\n",
            "“\"order.colors\" is not a graphical parameter”\n",
            "Warning message in text.default(x1, y1, words[i], cex = size[i], offset = 0, srt = rotWord * :\n",
            "“\"order.colors\" is not a graphical parameter”\n",
            "Warning message in text.default(x1, y1, words[i], cex = size[i], offset = 0, srt = rotWord * :\n",
            "“font family 'Microsoft YaHei' not found, will use 'wqy-microhei' instead”\n",
            "Warning message in text.default(x1, y1, words[i], cex = size[i], offset = 0, srt = rotWord * :\n",
            "“font family 'Microsoft YaHei' not found, will use 'wqy-microhei' instead”\n",
            "Warning message in text.default(x1, y1, words[i], cex = size[i], offset = 0, srt = rotWord * :\n",
            "“font family 'Microsoft YaHei' not found, will use 'wqy-microhei' instead”\n",
            "Warning message in text.default(x1, y1, words[i], cex = size[i], offset = 0, srt = rotWord * :\n",
            "“font family 'Microsoft YaHei' not found, will use 'wqy-microhei' instead”\n",
            "Warning message in strwidth(words[i], cex = size[i], ...):\n",
            "“\"order.colors\" is not a graphical parameter”\n",
            "Warning message in strwidth(words[i], cex = size[i], ...):\n",
            "“font family 'Microsoft YaHei' not found, will use 'wqy-microhei' instead”\n",
            "Warning message in strheight(words[i], cex = size[i], ...):\n",
            "“\"order.colors\" is not a graphical parameter”\n",
            "Warning message in text.default(x1, y1, words[i], cex = size[i], offset = 0, srt = rotWord * :\n",
            "“\"order.colors\" is not a graphical parameter”\n",
            "Warning message in text.default(x1, y1, words[i], cex = size[i], offset = 0, srt = rotWord * :\n",
            "“font family 'Microsoft YaHei' not found, will use 'wqy-microhei' instead”\n",
            "Warning message in text.default(x1, y1, words[i], cex = size[i], offset = 0, srt = rotWord * :\n",
            "“font family 'Microsoft YaHei' not found, will use 'wqy-microhei' instead”\n",
            "Warning message in text.default(x1, y1, words[i], cex = size[i], offset = 0, srt = rotWord * :\n",
            "“font family 'Microsoft YaHei' not found, will use 'wqy-microhei' instead”\n",
            "Warning message in strwidth(words[i], cex = size[i], ...):\n",
            "“\"order.colors\" is not a graphical parameter”\n",
            "Warning message in strwidth(words[i], cex = size[i], ...):\n",
            "“font family 'Microsoft YaHei' not found, will use 'wqy-microhei' instead”\n",
            "Warning message in strheight(words[i], cex = size[i], ...):\n",
            "“\"order.colors\" is not a graphical parameter”\n",
            "Warning message in text.default(x1, y1, words[i], cex = size[i], offset = 0, srt = rotWord * :\n",
            "“\"order.colors\" is not a graphical parameter”\n",
            "Warning message in text.default(x1, y1, words[i], cex = size[i], offset = 0, srt = rotWord * :\n",
            "“font family 'Microsoft YaHei' not found, will use 'wqy-microhei' instead”\n",
            "Warning message in text.default(x1, y1, words[i], cex = size[i], offset = 0, srt = rotWord * :\n",
            "“font family 'Microsoft YaHei' not found, will use 'wqy-microhei' instead”\n",
            "Warning message in text.default(x1, y1, words[i], cex = size[i], offset = 0, srt = rotWord * :\n",
            "“font family 'Microsoft YaHei' not found, will use 'wqy-microhei' instead”\n",
            "Warning message in text.default(x1, y1, words[i], cex = size[i], offset = 0, srt = rotWord * :\n",
            "“font family 'Microsoft YaHei' not found, will use 'wqy-microhei' instead”\n",
            "Warning message in strwidth(words[i], cex = size[i], ...):\n",
            "“\"order.colors\" is not a graphical parameter”\n",
            "Warning message in strwidth(words[i], cex = size[i], ...):\n",
            "“font family 'Microsoft YaHei' not found, will use 'wqy-microhei' instead”\n",
            "Warning message in strheight(words[i], cex = size[i], ...):\n",
            "“\"order.colors\" is not a graphical parameter”\n",
            "Warning message in text.default(x1, y1, words[i], cex = size[i], offset = 0, srt = rotWord * :\n",
            "“\"order.colors\" is not a graphical parameter”\n",
            "Warning message in text.default(x1, y1, words[i], cex = size[i], offset = 0, srt = rotWord * :\n",
            "“font family 'Microsoft YaHei' not found, will use 'wqy-microhei' instead”\n",
            "Warning message in text.default(x1, y1, words[i], cex = size[i], offset = 0, srt = rotWord * :\n",
            "“font family 'Microsoft YaHei' not found, will use 'wqy-microhei' instead”\n",
            "Warning message in text.default(x1, y1, words[i], cex = size[i], offset = 0, srt = rotWord * :\n",
            "“font family 'Microsoft YaHei' not found, will use 'wqy-microhei' instead”\n",
            "Warning message in text.default(x1, y1, words[i], cex = size[i], offset = 0, srt = rotWord * :\n",
            "“font family 'Microsoft YaHei' not found, will use 'wqy-microhei' instead”\n",
            "Warning message in strwidth(words[i], cex = size[i], ...):\n",
            "“\"order.colors\" is not a graphical parameter”\n",
            "Warning message in strwidth(words[i], cex = size[i], ...):\n",
            "“font family 'Microsoft YaHei' not found, will use 'wqy-microhei' instead”\n",
            "Warning message in strheight(words[i], cex = size[i], ...):\n",
            "“\"order.colors\" is not a graphical parameter”\n",
            "Warning message in text.default(x1, y1, words[i], cex = size[i], offset = 0, srt = rotWord * :\n",
            "“\"order.colors\" is not a graphical parameter”\n",
            "Warning message in text.default(x1, y1, words[i], cex = size[i], offset = 0, srt = rotWord * :\n",
            "“font family 'Microsoft YaHei' not found, will use 'wqy-microhei' instead”\n",
            "Warning message in text.default(x1, y1, words[i], cex = size[i], offset = 0, srt = rotWord * :\n",
            "“font family 'Microsoft YaHei' not found, will use 'wqy-microhei' instead”\n",
            "Warning message in text.default(x1, y1, words[i], cex = size[i], offset = 0, srt = rotWord * :\n",
            "“font family 'Microsoft YaHei' not found, will use 'wqy-microhei' instead”\n",
            "Warning message in text.default(x1, y1, words[i], cex = size[i], offset = 0, srt = rotWord * :\n",
            "“font family 'Microsoft YaHei' not found, will use 'wqy-microhei' instead”\n",
            "Warning message in strwidth(words[i], cex = size[i], ...):\n",
            "“\"order.colors\" is not a graphical parameter”\n",
            "Warning message in strwidth(words[i], cex = size[i], ...):\n",
            "“font family 'Microsoft YaHei' not found, will use 'wqy-microhei' instead”\n",
            "Warning message in strheight(words[i], cex = size[i], ...):\n",
            "“\"order.colors\" is not a graphical parameter”\n",
            "Warning message in text.default(x1, y1, words[i], cex = size[i], offset = 0, srt = rotWord * :\n",
            "“\"order.colors\" is not a graphical parameter”\n",
            "Warning message in text.default(x1, y1, words[i], cex = size[i], offset = 0, srt = rotWord * :\n",
            "“font family 'Microsoft YaHei' not found, will use 'wqy-microhei' instead”\n",
            "Warning message in text.default(x1, y1, words[i], cex = size[i], offset = 0, srt = rotWord * :\n",
            "“font family 'Microsoft YaHei' not found, will use 'wqy-microhei' instead”\n",
            "Warning message in text.default(x1, y1, words[i], cex = size[i], offset = 0, srt = rotWord * :\n",
            "“font family 'Microsoft YaHei' not found, will use 'wqy-microhei' instead”\n",
            "Warning message in strwidth(words[i], cex = size[i], ...):\n",
            "“\"order.colors\" is not a graphical parameter”\n",
            "Warning message in strwidth(words[i], cex = size[i], ...):\n",
            "“font family 'Microsoft YaHei' not found, will use 'wqy-microhei' instead”\n",
            "Warning message in strheight(words[i], cex = size[i], ...):\n",
            "“\"order.colors\" is not a graphical parameter”\n",
            "Warning message in text.default(x1, y1, words[i], cex = size[i], offset = 0, srt = rotWord * :\n",
            "“\"order.colors\" is not a graphical parameter”\n",
            "Warning message in text.default(x1, y1, words[i], cex = size[i], offset = 0, srt = rotWord * :\n",
            "“font family 'Microsoft YaHei' not found, will use 'wqy-microhei' instead”\n",
            "Warning message in text.default(x1, y1, words[i], cex = size[i], offset = 0, srt = rotWord * :\n",
            "“font family 'Microsoft YaHei' not found, will use 'wqy-microhei' instead”\n",
            "Warning message in text.default(x1, y1, words[i], cex = size[i], offset = 0, srt = rotWord * :\n",
            "“font family 'Microsoft YaHei' not found, will use 'wqy-microhei' instead”\n",
            "Warning message in text.default(x1, y1, words[i], cex = size[i], offset = 0, srt = rotWord * :\n",
            "“font family 'Microsoft YaHei' not found, will use 'wqy-microhei' instead”\n",
            "Warning message in text.default(x1, y1, words[i], cex = size[i], offset = 0, srt = rotWord * :\n",
            "“font family 'Microsoft YaHei' not found, will use 'wqy-microhei' instead”\n",
            "Warning message in strwidth(words[i], cex = size[i], ...):\n",
            "“\"order.colors\" is not a graphical parameter”\n",
            "Warning message in strwidth(words[i], cex = size[i], ...):\n",
            "“font family 'Microsoft YaHei' not found, will use 'wqy-microhei' instead”\n",
            "Warning message in strheight(words[i], cex = size[i], ...):\n",
            "“\"order.colors\" is not a graphical parameter”\n",
            "Warning message in text.default(x1, y1, words[i], cex = size[i], offset = 0, srt = rotWord * :\n",
            "“\"order.colors\" is not a graphical parameter”\n",
            "Warning message in text.default(x1, y1, words[i], cex = size[i], offset = 0, srt = rotWord * :\n",
            "“font family 'Microsoft YaHei' not found, will use 'wqy-microhei' instead”\n",
            "Warning message in text.default(x1, y1, words[i], cex = size[i], offset = 0, srt = rotWord * :\n",
            "“font family 'Microsoft YaHei' not found, will use 'wqy-microhei' instead”\n",
            "Warning message in text.default(x1, y1, words[i], cex = size[i], offset = 0, srt = rotWord * :\n",
            "“font family 'Microsoft YaHei' not found, will use 'wqy-microhei' instead”\n",
            "Warning message in text.default(x1, y1, words[i], cex = size[i], offset = 0, srt = rotWord * :\n",
            "“font family 'Microsoft YaHei' not found, will use 'wqy-microhei' instead”\n",
            "Warning message in strwidth(words[i], cex = size[i], ...):\n",
            "“\"order.colors\" is not a graphical parameter”\n",
            "Warning message in strwidth(words[i], cex = size[i], ...):\n",
            "“font family 'Microsoft YaHei' not found, will use 'wqy-microhei' instead”\n",
            "Warning message in strheight(words[i], cex = size[i], ...):\n",
            "“\"order.colors\" is not a graphical parameter”\n",
            "Warning message in text.default(x1, y1, words[i], cex = size[i], offset = 0, srt = rotWord * :\n",
            "“\"order.colors\" is not a graphical parameter”\n",
            "Warning message in text.default(x1, y1, words[i], cex = size[i], offset = 0, srt = rotWord * :\n",
            "“font family 'Microsoft YaHei' not found, will use 'wqy-microhei' instead”\n",
            "Warning message in text.default(x1, y1, words[i], cex = size[i], offset = 0, srt = rotWord * :\n",
            "“font family 'Microsoft YaHei' not found, will use 'wqy-microhei' instead”\n",
            "Warning message in text.default(x1, y1, words[i], cex = size[i], offset = 0, srt = rotWord * :\n",
            "“font family 'Microsoft YaHei' not found, will use 'wqy-microhei' instead”\n",
            "Warning message in text.default(x1, y1, words[i], cex = size[i], offset = 0, srt = rotWord * :\n",
            "“font family 'Microsoft YaHei' not found, will use 'wqy-microhei' instead”\n",
            "Warning message in text.default(x1, y1, words[i], cex = size[i], offset = 0, srt = rotWord * :\n",
            "“font family 'Microsoft YaHei' not found, will use 'wqy-microhei' instead”\n",
            "Warning message in strwidth(words[i], cex = size[i], ...):\n",
            "“\"order.colors\" is not a graphical parameter”\n",
            "Warning message in strwidth(words[i], cex = size[i], ...):\n",
            "“font family 'Microsoft YaHei' not found, will use 'wqy-microhei' instead”\n",
            "Warning message in strheight(words[i], cex = size[i], ...):\n",
            "“\"order.colors\" is not a graphical parameter”\n",
            "Warning message in text.default(x1, y1, words[i], cex = size[i], offset = 0, srt = rotWord * :\n",
            "“\"order.colors\" is not a graphical parameter”\n",
            "Warning message in text.default(x1, y1, words[i], cex = size[i], offset = 0, srt = rotWord * :\n",
            "“font family 'Microsoft YaHei' not found, will use 'wqy-microhei' instead”\n",
            "Warning message in text.default(x1, y1, words[i], cex = size[i], offset = 0, srt = rotWord * :\n",
            "“font family 'Microsoft YaHei' not found, will use 'wqy-microhei' instead”\n",
            "Warning message in text.default(x1, y1, words[i], cex = size[i], offset = 0, srt = rotWord * :\n",
            "“font family 'Microsoft YaHei' not found, will use 'wqy-microhei' instead”\n",
            "Warning message in text.default(x1, y1, words[i], cex = size[i], offset = 0, srt = rotWord * :\n",
            "“font family 'Microsoft YaHei' not found, will use 'wqy-microhei' instead”\n"
          ],
          "name": "stderr"
        },
        {
          "output_type": "display_data",
          "data": {
            "image/png": "[encoded data removed]",
            "text/plain": [
              "plot without title"
            ]
          },
          "metadata": {
            "tags": [],
            "image/png": {
              "width": 420,
              "height": 420
            }
          }
        }
      ]
    }
  ]
}