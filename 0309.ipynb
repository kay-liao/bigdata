{
  "nbformat": 4,
  "nbformat_minor": 0,
  "metadata": {
    "colab": {
      "name": "0309.ipynb",
      "provenance": [],
      "collapsed_sections": [],
      "include_colab_link": true
    },
    "kernelspec": {
      "name": "ir",
      "display_name": "R"
    }
  },
  "cells": [
    {
      "cell_type": "markdown",
      "metadata": {
        "id": "view-in-github",
        "colab_type": "text"
      },
      "source": [
        "<a href=\"https://colab.research.google.com/github/kay-liao/bigdata/blob/main/0309.ipynb\" target=\"_parent\"><img src=\"https://colab.research.google.com/assets/colab-badge.svg\" alt=\"Open In Colab\"/></a>"
      ]
    },
    {
      "cell_type": "code",
      "metadata": {
        "id": "kPVXoMCgNJoO"
      },
      "source": [
        "a <- 5\r\n",
        "b <- 10\r\n",
        "c <- 3.8"
      ],
      "execution_count": 7,
      "outputs": []
    },
    {
      "cell_type": "code",
      "metadata": {
        "colab": {
          "base_uri": "https://localhost:8080/"
        },
        "id": "HfobWXdeECMs",
        "outputId": "672a32b6-62cf-4e80-932f-3cb5814bad18"
      },
      "source": [
        "str(a)\r\n",
        "str(b)\r\n",
        "str(c)"
      ],
      "execution_count": 8,
      "outputs": [
        {
          "output_type": "stream",
          "text": [
            " num 5\n",
            " num 10\n",
            " num 3.8\n"
          ],
          "name": "stdout"
        }
      ]
    },
    {
      "cell_type": "code",
      "metadata": {
        "colab": {
          "base_uri": "https://localhost:8080/",
          "height": 69
        },
        "id": "hlNnkW9TIXD8",
        "outputId": "49ee4ea1-87ee-4ac6-fe80-e6f1b983ec7f"
      },
      "source": [
        "is.numeric(a)\r\n",
        "is.numeric(b)\r\n",
        "is.numeric(c)"
      ],
      "execution_count": 9,
      "outputs": [
        {
          "output_type": "display_data",
          "data": {
            "text/plain": [
              "[1] TRUE"
            ],
            "text/latex": "TRUE",
            "text/markdown": "TRUE",
            "text/html": [
              "TRUE"
            ]
          },
          "metadata": {
            "tags": []
          }
        },
        {
          "output_type": "display_data",
          "data": {
            "text/plain": [
              "[1] TRUE"
            ],
            "text/latex": "TRUE",
            "text/markdown": "TRUE",
            "text/html": [
              "TRUE"
            ]
          },
          "metadata": {
            "tags": []
          }
        },
        {
          "output_type": "display_data",
          "data": {
            "text/plain": [
              "[1] TRUE"
            ],
            "text/latex": "TRUE",
            "text/markdown": "TRUE",
            "text/html": [
              "TRUE"
            ]
          },
          "metadata": {
            "tags": []
          }
        }
      ]
    },
    {
      "cell_type": "code",
      "metadata": {
        "colab": {
          "base_uri": "https://localhost:8080/",
          "height": 69
        },
        "id": "gBEHqrg_EU9e",
        "outputId": "64fc3c46-40f0-4fe0-a4d9-91a94959be0b"
      },
      "source": [
        "is.integer(a)\r\n",
        "is.integer(b)\r\n",
        "is.integer(c)"
      ],
      "execution_count": 10,
      "outputs": [
        {
          "output_type": "display_data",
          "data": {
            "text/plain": [
              "[1] FALSE"
            ],
            "text/latex": "FALSE",
            "text/markdown": "FALSE",
            "text/html": [
              "FALSE"
            ]
          },
          "metadata": {
            "tags": []
          }
        },
        {
          "output_type": "display_data",
          "data": {
            "text/plain": [
              "[1] FALSE"
            ],
            "text/latex": "FALSE",
            "text/markdown": "FALSE",
            "text/html": [
              "FALSE"
            ]
          },
          "metadata": {
            "tags": []
          }
        },
        {
          "output_type": "display_data",
          "data": {
            "text/plain": [
              "[1] FALSE"
            ],
            "text/latex": "FALSE",
            "text/markdown": "FALSE",
            "text/html": [
              "FALSE"
            ]
          },
          "metadata": {
            "tags": []
          }
        }
      ]
    },
    {
      "cell_type": "code",
      "metadata": {
        "id": "p9n6UJWLI-RT"
      },
      "source": [
        "d <- \"Hello\"\r\n",
        "e <- \"Kay\""
      ],
      "execution_count": 14,
      "outputs": []
    },
    {
      "cell_type": "code",
      "metadata": {
        "colab": {
          "base_uri": "https://localhost:8080/"
        },
        "id": "gq93CsKfJHB7",
        "outputId": "0a297858-8595-4a9c-9273-41bd5b7dd48f"
      },
      "source": [
        "str(d)\r\n",
        "str(e)"
      ],
      "execution_count": 15,
      "outputs": [
        {
          "output_type": "stream",
          "text": [
            " chr \"Hello\"\n",
            " chr \"Kay\"\n"
          ],
          "name": "stdout"
        }
      ]
    },
    {
      "cell_type": "code",
      "metadata": {
        "id": "YTapqOXGJ24c"
      },
      "source": [
        "f <- c(5, 4, 3, 2, 1)\r\n",
        "g <- c(\"SharaLin\",\"OliviaTsao\",\"XuanYiWu\")"
      ],
      "execution_count": 17,
      "outputs": []
    },
    {
      "cell_type": "code",
      "metadata": {
        "colab": {
          "base_uri": "https://localhost:8080/",
          "height": 69
        },
        "id": "-N4PqNXaK-8R",
        "outputId": "5ccc5f4a-e3d5-4889-dd20-56c1409c57d8"
      },
      "source": [
        "f[2]\r\n",
        "g[3]\r\n",
        "g[c(1,2)]"
      ],
      "execution_count": 18,
      "outputs": [
        {
          "output_type": "display_data",
          "data": {
            "text/plain": [
              "[1] 4"
            ],
            "text/latex": "4",
            "text/markdown": "4",
            "text/html": [
              "4"
            ]
          },
          "metadata": {
            "tags": []
          }
        },
        {
          "output_type": "display_data",
          "data": {
            "text/plain": [
              "[1] \"XuanYiWu\""
            ],
            "text/latex": "'XuanYiWu'",
            "text/markdown": "'XuanYiWu'",
            "text/html": [
              "'XuanYiWu'"
            ]
          },
          "metadata": {
            "tags": []
          }
        },
        {
          "output_type": "display_data",
          "data": {
            "text/plain": [
              "[1] \"SharaLin\"   \"OliviaTsao\""
            ],
            "text/latex": "\\begin{enumerate*}\n\\item 'SharaLin'\n\\item 'OliviaTsao'\n\\end{enumerate*}\n",
            "text/markdown": "1. 'SharaLin'\n2. 'OliviaTsao'\n\n\n",
            "text/html": [
              "<style>\n",
              ".list-inline {list-style: none; margin:0; padding: 0}\n",
              ".list-inline>li {display: inline-block}\n",
              ".list-inline>li:not(:last-child)::after {content: \"\\00b7\"; padding: 0 .5ex}\n",
              "</style>\n",
              "<ol class=list-inline><li>'SharaLin'</li><li>'OliviaTsao'</li></ol>\n"
            ]
          },
          "metadata": {
            "tags": []
          }
        }
      ]
    },
    {
      "cell_type": "code",
      "metadata": {
        "id": "vFuR3KE6M97S"
      },
      "source": [
        "h <- c(1, 2, 3, 4, 5, 6, 7, 8, 9)\r\n",
        "i <- c(2, 3, 4, 5, 6, 7, 8, 9, 10)"
      ],
      "execution_count": 19,
      "outputs": []
    },
    {
      "cell_type": "code",
      "metadata": {
        "colab": {
          "base_uri": "https://localhost:8080/",
          "height": 87
        },
        "id": "2Gu87gDiNLjp",
        "outputId": "ab979970-f5e8-4f1a-bb9a-110e44c6fca5"
      },
      "source": [
        "h * i\r\n",
        "h^2\r\n",
        "h^3\r\n",
        "i > 5"
      ],
      "execution_count": 23,
      "outputs": [
        {
          "output_type": "display_data",
          "data": {
            "text/plain": [
              "[1]  2  6 12 20 30 42 56 72 90"
            ],
            "text/latex": "\\begin{enumerate*}\n\\item 2\n\\item 6\n\\item 12\n\\item 20\n\\item 30\n\\item 42\n\\item 56\n\\item 72\n\\item 90\n\\end{enumerate*}\n",
            "text/markdown": "1. 2\n2. 6\n3. 12\n4. 20\n5. 30\n6. 42\n7. 56\n8. 72\n9. 90\n\n\n",
            "text/html": [
              "<style>\n",
              ".list-inline {list-style: none; margin:0; padding: 0}\n",
              ".list-inline>li {display: inline-block}\n",
              ".list-inline>li:not(:last-child)::after {content: \"\\00b7\"; padding: 0 .5ex}\n",
              "</style>\n",
              "<ol class=list-inline><li>2</li><li>6</li><li>12</li><li>20</li><li>30</li><li>42</li><li>56</li><li>72</li><li>90</li></ol>\n"
            ]
          },
          "metadata": {
            "tags": []
          }
        },
        {
          "output_type": "display_data",
          "data": {
            "text/plain": [
              "[1]  1  4  9 16 25 36 49 64 81"
            ],
            "text/latex": "\\begin{enumerate*}\n\\item 1\n\\item 4\n\\item 9\n\\item 16\n\\item 25\n\\item 36\n\\item 49\n\\item 64\n\\item 81\n\\end{enumerate*}\n",
            "text/markdown": "1. 1\n2. 4\n3. 9\n4. 16\n5. 25\n6. 36\n7. 49\n8. 64\n9. 81\n\n\n",
            "text/html": [
              "<style>\n",
              ".list-inline {list-style: none; margin:0; padding: 0}\n",
              ".list-inline>li {display: inline-block}\n",
              ".list-inline>li:not(:last-child)::after {content: \"\\00b7\"; padding: 0 .5ex}\n",
              "</style>\n",
              "<ol class=list-inline><li>1</li><li>4</li><li>9</li><li>16</li><li>25</li><li>36</li><li>49</li><li>64</li><li>81</li></ol>\n"
            ]
          },
          "metadata": {
            "tags": []
          }
        },
        {
          "output_type": "display_data",
          "data": {
            "text/plain": [
              "[1]   1   8  27  64 125 216 343 512 729"
            ],
            "text/latex": "\\begin{enumerate*}\n\\item 1\n\\item 8\n\\item 27\n\\item 64\n\\item 125\n\\item 216\n\\item 343\n\\item 512\n\\item 729\n\\end{enumerate*}\n",
            "text/markdown": "1. 1\n2. 8\n3. 27\n4. 64\n5. 125\n6. 216\n7. 343\n8. 512\n9. 729\n\n\n",
            "text/html": [
              "<style>\n",
              ".list-inline {list-style: none; margin:0; padding: 0}\n",
              ".list-inline>li {display: inline-block}\n",
              ".list-inline>li:not(:last-child)::after {content: \"\\00b7\"; padding: 0 .5ex}\n",
              "</style>\n",
              "<ol class=list-inline><li>1</li><li>8</li><li>27</li><li>64</li><li>125</li><li>216</li><li>343</li><li>512</li><li>729</li></ol>\n"
            ]
          },
          "metadata": {
            "tags": []
          }
        },
        {
          "output_type": "display_data",
          "data": {
            "text/plain": [
              "[1] FALSE FALSE FALSE FALSE  TRUE  TRUE  TRUE  TRUE  TRUE"
            ],
            "text/latex": "\\begin{enumerate*}\n\\item FALSE\n\\item FALSE\n\\item FALSE\n\\item FALSE\n\\item TRUE\n\\item TRUE\n\\item TRUE\n\\item TRUE\n\\item TRUE\n\\end{enumerate*}\n",
            "text/markdown": "1. FALSE\n2. FALSE\n3. FALSE\n4. FALSE\n5. TRUE\n6. TRUE\n7. TRUE\n8. TRUE\n9. TRUE\n\n\n",
            "text/html": [
              "<style>\n",
              ".list-inline {list-style: none; margin:0; padding: 0}\n",
              ".list-inline>li {display: inline-block}\n",
              ".list-inline>li:not(:last-child)::after {content: \"\\00b7\"; padding: 0 .5ex}\n",
              "</style>\n",
              "<ol class=list-inline><li>FALSE</li><li>FALSE</li><li>FALSE</li><li>FALSE</li><li>TRUE</li><li>TRUE</li><li>TRUE</li><li>TRUE</li><li>TRUE</li></ol>\n"
            ]
          },
          "metadata": {
            "tags": []
          }
        }
      ]
    },
    {
      "cell_type": "code",
      "metadata": {
        "id": "FumDPMIFN4xj"
      },
      "source": [
        "gender <- c(\"boy\", \"girl\", \"boy\", \"boy\", \"girl\", \"中\")"
      ],
      "execution_count": 24,
      "outputs": []
    },
    {
      "cell_type": "code",
      "metadata": {
        "colab": {
          "base_uri": "https://localhost:8080/",
          "height": 35
        },
        "id": "HfCOu8ZnPOz0",
        "outputId": "a05b109d-2516-4402-9a35-9f6b52726f81"
      },
      "source": [
        "gender"
      ],
      "execution_count": 25,
      "outputs": [
        {
          "output_type": "display_data",
          "data": {
            "text/plain": [
              "[1] \"boy\"  \"girl\" \"boy\"  \"boy\"  \"girl\" \"中\"  "
            ],
            "text/latex": "\\begin{enumerate*}\n\\item 'boy'\n\\item 'girl'\n\\item 'boy'\n\\item 'boy'\n\\item 'girl'\n\\item '中'\n\\end{enumerate*}\n",
            "text/markdown": "1. 'boy'\n2. 'girl'\n3. 'boy'\n4. 'boy'\n5. 'girl'\n6. '中'\n\n\n",
            "text/html": [
              "<style>\n",
              ".list-inline {list-style: none; margin:0; padding: 0}\n",
              ".list-inline>li {display: inline-block}\n",
              ".list-inline>li:not(:last-child)::after {content: \"\\00b7\"; padding: 0 .5ex}\n",
              "</style>\n",
              "<ol class=list-inline><li>'boy'</li><li>'girl'</li><li>'boy'</li><li>'boy'</li><li>'girl'</li><li>'中'</li></ol>\n"
            ]
          },
          "metadata": {
            "tags": []
          }
        }
      ]
    },
    {
      "cell_type": "code",
      "metadata": {
        "id": "OLrldG1BPS18"
      },
      "source": [
        "gender <- factor(gender)"
      ],
      "execution_count": 26,
      "outputs": []
    },
    {
      "cell_type": "code",
      "metadata": {
        "colab": {
          "base_uri": "https://localhost:8080/",
          "height": 69
        },
        "id": "DaW1tWMBPbSy",
        "outputId": "0e68c9eb-95b7-4f14-893a-2292691a7c86"
      },
      "source": [
        "gender"
      ],
      "execution_count": 27,
      "outputs": [
        {
          "output_type": "display_data",
          "data": {
            "text/plain": [
              "[1] boy  girl boy  boy  girl 中  \n",
              "Levels: boy girl 中"
            ],
            "text/latex": "\\begin{enumerate*}\n\\item boy\n\\item girl\n\\item boy\n\\item boy\n\\item girl\n\\item 中\n\\end{enumerate*}\n\n\\emph{Levels}: \\begin{enumerate*}\n\\item 'boy'\n\\item 'girl'\n\\item '中'\n\\end{enumerate*}\n",
            "text/markdown": "1. boy\n2. girl\n3. boy\n4. boy\n5. girl\n6. 中\n\n\n\n**Levels**: 1. 'boy'\n2. 'girl'\n3. '中'\n\n\n",
            "text/html": [
              "<style>\n",
              ".list-inline {list-style: none; margin:0; padding: 0}\n",
              ".list-inline>li {display: inline-block}\n",
              ".list-inline>li:not(:last-child)::after {content: \"\\00b7\"; padding: 0 .5ex}\n",
              "</style>\n",
              "<ol class=list-inline><li>boy</li><li>girl</li><li>boy</li><li>boy</li><li>girl</li><li>中</li></ol>\n",
              "\n",
              "<details>\n",
              "\t<summary style=display:list-item;cursor:pointer>\n",
              "\t\t<strong>Levels</strong>:\n",
              "\t</summary>\n",
              "\t<style>\n",
              "\t.list-inline {list-style: none; margin:0; padding: 0}\n",
              "\t.list-inline>li {display: inline-block}\n",
              "\t.list-inline>li:not(:last-child)::after {content: \"\\00b7\"; padding: 0 .5ex}\n",
              "\t</style>\n",
              "\t<ol class=list-inline><li>'boy'</li><li>'girl'</li><li>'中'</li></ol>\n",
              "</details>"
            ]
          },
          "metadata": {
            "tags": []
          }
        }
      ]
    },
    {
      "cell_type": "code",
      "metadata": {
        "colab": {
          "base_uri": "https://localhost:8080/",
          "height": 35
        },
        "id": "JwB8JyljPhQr",
        "outputId": "bb1079e9-db19-4a56-aac2-a5babb68a72c"
      },
      "source": [
        "levels(gender)"
      ],
      "execution_count": 28,
      "outputs": [
        {
          "output_type": "display_data",
          "data": {
            "text/plain": [
              "[1] \"boy\"  \"girl\" \"中\"  "
            ],
            "text/latex": "\\begin{enumerate*}\n\\item 'boy'\n\\item 'girl'\n\\item '中'\n\\end{enumerate*}\n",
            "text/markdown": "1. 'boy'\n2. 'girl'\n3. '中'\n\n\n",
            "text/html": [
              "<style>\n",
              ".list-inline {list-style: none; margin:0; padding: 0}\n",
              ".list-inline>li {display: inline-block}\n",
              ".list-inline>li:not(:last-child)::after {content: \"\\00b7\"; padding: 0 .5ex}\n",
              "</style>\n",
              "<ol class=list-inline><li>'boy'</li><li>'girl'</li><li>'中'</li></ol>\n"
            ]
          },
          "metadata": {
            "tags": []
          }
        }
      ]
    },
    {
      "cell_type": "code",
      "metadata": {
        "id": "UaoFpGf9QD1W"
      },
      "source": [
        "j <- matrix(c(1:6), nrow=3, ncol=2)"
      ],
      "execution_count": 31,
      "outputs": []
    },
    {
      "cell_type": "code",
      "metadata": {
        "colab": {
          "base_uri": "https://localhost:8080/",
          "height": 196
        },
        "id": "YlXrc0MdQbm_",
        "outputId": "d5ca3905-c2bc-4a28-cc09-d7c16d9f4fb9"
      },
      "source": [
        "j"
      ],
      "execution_count": 30,
      "outputs": [
        {
          "output_type": "display_data",
          "data": {
            "text/plain": [
              "     [,1] [,2]\n",
              "[1,] 1    4   \n",
              "[2,] 2    5   \n",
              "[3,] 3    6   "
            ],
            "text/latex": "A matrix: 3 × 2 of type int\n\\begin{tabular}{ll}\n\t 1 & 4\\\\\n\t 2 & 5\\\\\n\t 3 & 6\\\\\n\\end{tabular}\n",
            "text/markdown": "\nA matrix: 3 × 2 of type int\n\n| 1 | 4 |\n| 2 | 5 |\n| 3 | 6 |\n\n",
            "text/html": [
              "<table class=\"dataframe\">\n",
              "<caption>A matrix: 3 × 2 of type int</caption>\n",
              "<tbody>\n",
              "\t<tr><td>1</td><td>4</td></tr>\n",
              "\t<tr><td>2</td><td>5</td></tr>\n",
              "\t<tr><td>3</td><td>6</td></tr>\n",
              "</tbody>\n",
              "</table>\n"
            ]
          },
          "metadata": {
            "tags": []
          }
        }
      ]
    },
    {
      "cell_type": "code",
      "metadata": {
        "id": "bHe3xv9iQfj_"
      },
      "source": [
        "k <- matrix(c(7:12), nrow=2, ncol=3)"
      ],
      "execution_count": 32,
      "outputs": []
    },
    {
      "cell_type": "code",
      "metadata": {
        "colab": {
          "base_uri": "https://localhost:8080/",
          "height": 113
        },
        "id": "5l1dFWnCQ0II",
        "outputId": "128abc84-3ecf-407a-c8a1-8f18ad42a112"
      },
      "source": [
        "k"
      ],
      "execution_count": 33,
      "outputs": [
        {
          "output_type": "display_data",
          "data": {
            "text/plain": [
              "     [,1] [,2] [,3]\n",
              "[1,] 7     9   11  \n",
              "[2,] 8    10   12  "
            ],
            "text/latex": "A matrix: 2 × 3 of type int\n\\begin{tabular}{lll}\n\t 7 &  9 & 11\\\\\n\t 8 & 10 & 12\\\\\n\\end{tabular}\n",
            "text/markdown": "\nA matrix: 2 × 3 of type int\n\n| 7 |  9 | 11 |\n| 8 | 10 | 12 |\n\n",
            "text/html": [
              "<table class=\"dataframe\">\n",
              "<caption>A matrix: 2 × 3 of type int</caption>\n",
              "<tbody>\n",
              "\t<tr><td>7</td><td> 9</td><td>11</td></tr>\n",
              "\t<tr><td>8</td><td>10</td><td>12</td></tr>\n",
              "</tbody>\n",
              "</table>\n"
            ]
          },
          "metadata": {
            "tags": []
          }
        }
      ]
    },
    {
      "cell_type": "code",
      "metadata": {
        "colab": {
          "base_uri": "https://localhost:8080/",
          "height": 121
        },
        "id": "NBkLDO-kRFjg",
        "outputId": "5e6b1e39-5810-4af1-8be6-ed7ab3331543"
      },
      "source": [
        "j[2,2]\r\n",
        "j[2,]\r\n",
        "j[,2]\r\n",
        "k[2,2]\r\n",
        "k[2,]\r\n",
        "k[,2]"
      ],
      "execution_count": 35,
      "outputs": [
        {
          "output_type": "display_data",
          "data": {
            "text/plain": [
              "[1] 5"
            ],
            "text/latex": "5",
            "text/markdown": "5",
            "text/html": [
              "5"
            ]
          },
          "metadata": {
            "tags": []
          }
        },
        {
          "output_type": "display_data",
          "data": {
            "text/plain": [
              "[1] 2 5"
            ],
            "text/latex": "\\begin{enumerate*}\n\\item 2\n\\item 5\n\\end{enumerate*}\n",
            "text/markdown": "1. 2\n2. 5\n\n\n",
            "text/html": [
              "<style>\n",
              ".list-inline {list-style: none; margin:0; padding: 0}\n",
              ".list-inline>li {display: inline-block}\n",
              ".list-inline>li:not(:last-child)::after {content: \"\\00b7\"; padding: 0 .5ex}\n",
              "</style>\n",
              "<ol class=list-inline><li>2</li><li>5</li></ol>\n"
            ]
          },
          "metadata": {
            "tags": []
          }
        },
        {
          "output_type": "display_data",
          "data": {
            "text/plain": [
              "[1] 4 5 6"
            ],
            "text/latex": "\\begin{enumerate*}\n\\item 4\n\\item 5\n\\item 6\n\\end{enumerate*}\n",
            "text/markdown": "1. 4\n2. 5\n3. 6\n\n\n",
            "text/html": [
              "<style>\n",
              ".list-inline {list-style: none; margin:0; padding: 0}\n",
              ".list-inline>li {display: inline-block}\n",
              ".list-inline>li:not(:last-child)::after {content: \"\\00b7\"; padding: 0 .5ex}\n",
              "</style>\n",
              "<ol class=list-inline><li>4</li><li>5</li><li>6</li></ol>\n"
            ]
          },
          "metadata": {
            "tags": []
          }
        },
        {
          "output_type": "display_data",
          "data": {
            "text/plain": [
              "[1] 10"
            ],
            "text/latex": "10",
            "text/markdown": "10",
            "text/html": [
              "10"
            ]
          },
          "metadata": {
            "tags": []
          }
        },
        {
          "output_type": "display_data",
          "data": {
            "text/plain": [
              "[1]  8 10 12"
            ],
            "text/latex": "\\begin{enumerate*}\n\\item 8\n\\item 10\n\\item 12\n\\end{enumerate*}\n",
            "text/markdown": "1. 8\n2. 10\n3. 12\n\n\n",
            "text/html": [
              "<style>\n",
              ".list-inline {list-style: none; margin:0; padding: 0}\n",
              ".list-inline>li {display: inline-block}\n",
              ".list-inline>li:not(:last-child)::after {content: \"\\00b7\"; padding: 0 .5ex}\n",
              "</style>\n",
              "<ol class=list-inline><li>8</li><li>10</li><li>12</li></ol>\n"
            ]
          },
          "metadata": {
            "tags": []
          }
        },
        {
          "output_type": "display_data",
          "data": {
            "text/plain": [
              "[1]  9 10"
            ],
            "text/latex": "\\begin{enumerate*}\n\\item 9\n\\item 10\n\\end{enumerate*}\n",
            "text/markdown": "1. 9\n2. 10\n\n\n",
            "text/html": [
              "<style>\n",
              ".list-inline {list-style: none; margin:0; padding: 0}\n",
              ".list-inline>li {display: inline-block}\n",
              ".list-inline>li:not(:last-child)::after {content: \"\\00b7\"; padding: 0 .5ex}\n",
              "</style>\n",
              "<ol class=list-inline><li>9</li><li>10</li></ol>\n"
            ]
          },
          "metadata": {
            "tags": []
          }
        }
      ]
    },
    {
      "cell_type": "code",
      "metadata": {
        "colab": {
          "base_uri": "https://localhost:8080/"
        },
        "id": "msJfpSyrR_Px",
        "outputId": "0c918790-4a06-40de-d1aa-8f1623690e93"
      },
      "source": [
        "install.packages(\"SportsAnalytics\")"
      ],
      "execution_count": 36,
      "outputs": [
        {
          "output_type": "stream",
          "text": [
            "Installing package into ‘/usr/local/lib/R/site-library’\n",
            "(as ‘lib’ is unspecified)\n",
            "\n"
          ],
          "name": "stderr"
        }
      ]
    },
    {
      "cell_type": "code",
      "metadata": {
        "id": "u0N4DfixSOfL"
      },
      "source": [
        "library(SportsAnalytics)"
      ],
      "execution_count": 38,
      "outputs": []
    },
    {
      "cell_type": "code",
      "metadata": {
        "id": "i0s-Twm2SXDf"
      },
      "source": [
        "NBA1516 <- fetch_NBAPlayerStatistics(\"15-16\")"
      ],
      "execution_count": 39,
      "outputs": []
    },
    {
      "cell_type": "code",
      "metadata": {
        "colab": {
          "base_uri": "https://localhost:8080/"
        },
        "id": "vCJYVdDRSjZF",
        "outputId": "cacf762e-d5fe-4ce6-d371-25d7040ffcce"
      },
      "source": [
        "str(NBA1516)"
      ],
      "execution_count": 40,
      "outputs": [
        {
          "output_type": "stream",
          "text": [
            "'data.frame':\t476 obs. of  25 variables:\n",
            " $ League             : Factor w/ 1 level \"NBA\": 1 1 1 1 1 1 1 1 1 1 ...\n",
            " $ Name               : chr  \"Quincy Acy\" \"Jordan Adams\" \"Steven Adams\" \"Arron Afflalo\" ...\n",
            " $ Team               : Factor w/ 31 levels \"ATL\",\"BOS\",\"BRO\",..: 27 15 22 20 19 13 28 26 12 15 ...\n",
            " $ Position           : Factor w/ 5 levels \"C\",\"PF\",\"PG\",..: 4 5 1 5 1 1 2 2 2 5 ...\n",
            " $ GamesPlayed        : int  59 2 80 71 59 60 74 9 79 64 ...\n",
            " $ TotalMinutesPlayed : int  877 15 2019 2359 863 802 2260 37 1601 1622 ...\n",
            " $ FieldGoalsMade     : int  119 2 261 354 150 134 536 5 191 215 ...\n",
            " $ FieldGoalsAttempted: int  214 6 426 799 314 225 1045 10 370 469 ...\n",
            " $ ThreesMade         : int  19 0 0 91 0 0 0 0 0 15 ...\n",
            " $ ThreesAttempted    : int  49 1 0 238 1 0 16 0 0 42 ...\n",
            " $ FreeThrowsMade     : int  50 3 114 110 52 60 259 0 46 90 ...\n",
            " $ FreeThrowsAttempted: int  68 5 196 131 62 84 302 0 73 138 ...\n",
            " $ OffensiveRebounds  : int  65 0 218 23 75 86 175 2 162 104 ...\n",
            " $ TotalRebounds      : int  188 2 531 266 269 288 631 6 424 297 ...\n",
            " $ Assists            : int  27 3 61 145 32 50 110 0 76 70 ...\n",
            " $ Steals             : int  29 3 42 25 19 47 38 1 26 109 ...\n",
            " $ Turnovers          : int  27 2 84 82 54 64 99 1 69 78 ...\n",
            " $ Blocks             : int  24 0 89 10 36 68 81 2 42 18 ...\n",
            " $ PersonalFouls      : int  103 2 223 142 134 139 151 1 147 175 ...\n",
            " $ Disqualifications  : int  0 0 2 1 0 1 0 0 1 1 ...\n",
            " $ TotalPoints        : int  307 7 636 909 352 328 1331 10 428 535 ...\n",
            " $ Technicals         : int  3 0 2 1 2 0 0 0 0 1 ...\n",
            " $ Ejections          : int  0 0 0 0 0 0 0 0 0 0 ...\n",
            " $ FlagrantFouls      : int  0 0 0 0 0 0 0 0 0 0 ...\n",
            " $ GamesStarted       : int  29 0 80 57 17 5 74 0 28 56 ...\n"
          ],
          "name": "stdout"
        }
      ]
    },
    {
      "cell_type": "code",
      "metadata": {
        "colab": {
          "base_uri": "https://localhost:8080/",
          "height": 405
        },
        "id": "XfSB0LxkSytM",
        "outputId": "3ee42df6-3728-4190-b459-a4f38d906190"
      },
      "source": [
        "head(NBA1516)"
      ],
      "execution_count": 41,
      "outputs": [
        {
          "output_type": "display_data",
          "data": {
            "text/plain": [
              "  League Name          Team Position GamesPlayed TotalMinutesPlayed\n",
              "1 NBA    Quincy Acy    SAC  SF       59           877              \n",
              "2 NBA    Jordan Adams  MEM  SG        2            15              \n",
              "3 NBA    Steven Adams  OKL  C        80          2019              \n",
              "4 NBA    Arron Afflalo NYK  SG       71          2359              \n",
              "5 NBA    Alexis Ajinca NOR  C        59           863              \n",
              "6 NBA    Cole Aldrich  LAC  C        60           802              \n",
              "  FieldGoalsMade FieldGoalsAttempted ThreesMade ThreesAttempted ⋯ Steals\n",
              "1 119            214                 19          49             ⋯ 29    \n",
              "2   2              6                  0           1             ⋯  3    \n",
              "3 261            426                  0           0             ⋯ 42    \n",
              "4 354            799                 91         238             ⋯ 25    \n",
              "5 150            314                  0           1             ⋯ 19    \n",
              "6 134            225                  0           0             ⋯ 47    \n",
              "  Turnovers Blocks PersonalFouls Disqualifications TotalPoints Technicals\n",
              "1 27        24     103           0                 307         3         \n",
              "2  2         0       2           0                   7         0         \n",
              "3 84        89     223           2                 636         2         \n",
              "4 82        10     142           1                 909         1         \n",
              "5 54        36     134           0                 352         2         \n",
              "6 64        68     139           1                 328         0         \n",
              "  Ejections FlagrantFouls GamesStarted\n",
              "1 0         0             29          \n",
              "2 0         0              0          \n",
              "3 0         0             80          \n",
              "4 0         0             57          \n",
              "5 0         0             17          \n",
              "6 0         0              5          "
            ],
            "text/latex": "A data.frame: 6 × 25\n\\begin{tabular}{r|lllllllllllllllllllll}\n  & League & Name & Team & Position & GamesPlayed & TotalMinutesPlayed & FieldGoalsMade & FieldGoalsAttempted & ThreesMade & ThreesAttempted & ⋯ & Steals & Turnovers & Blocks & PersonalFouls & Disqualifications & TotalPoints & Technicals & Ejections & FlagrantFouls & GamesStarted\\\\\n  & <fct> & <chr> & <fct> & <fct> & <int> & <int> & <int> & <int> & <int> & <int> & ⋯ & <int> & <int> & <int> & <int> & <int> & <int> & <int> & <int> & <int> & <int>\\\\\n\\hline\n\t1 & NBA & Quincy Acy    & SAC & SF & 59 &  877 & 119 & 214 & 19 &  49 & ⋯ & 29 & 27 & 24 & 103 & 0 & 307 & 3 & 0 & 0 & 29\\\\\n\t2 & NBA & Jordan Adams  & MEM & SG &  2 &   15 &   2 &   6 &  0 &   1 & ⋯ &  3 &  2 &  0 &   2 & 0 &   7 & 0 & 0 & 0 &  0\\\\\n\t3 & NBA & Steven Adams  & OKL & C  & 80 & 2019 & 261 & 426 &  0 &   0 & ⋯ & 42 & 84 & 89 & 223 & 2 & 636 & 2 & 0 & 0 & 80\\\\\n\t4 & NBA & Arron Afflalo & NYK & SG & 71 & 2359 & 354 & 799 & 91 & 238 & ⋯ & 25 & 82 & 10 & 142 & 1 & 909 & 1 & 0 & 0 & 57\\\\\n\t5 & NBA & Alexis Ajinca & NOR & C  & 59 &  863 & 150 & 314 &  0 &   1 & ⋯ & 19 & 54 & 36 & 134 & 0 & 352 & 2 & 0 & 0 & 17\\\\\n\t6 & NBA & Cole Aldrich  & LAC & C  & 60 &  802 & 134 & 225 &  0 &   0 & ⋯ & 47 & 64 & 68 & 139 & 1 & 328 & 0 & 0 & 0 &  5\\\\\n\\end{tabular}\n",
            "text/markdown": "\nA data.frame: 6 × 25\n\n| <!--/--> | League &lt;fct&gt; | Name &lt;chr&gt; | Team &lt;fct&gt; | Position &lt;fct&gt; | GamesPlayed &lt;int&gt; | TotalMinutesPlayed &lt;int&gt; | FieldGoalsMade &lt;int&gt; | FieldGoalsAttempted &lt;int&gt; | ThreesMade &lt;int&gt; | ThreesAttempted &lt;int&gt; | ⋯ ⋯ | Steals &lt;int&gt; | Turnovers &lt;int&gt; | Blocks &lt;int&gt; | PersonalFouls &lt;int&gt; | Disqualifications &lt;int&gt; | TotalPoints &lt;int&gt; | Technicals &lt;int&gt; | Ejections &lt;int&gt; | FlagrantFouls &lt;int&gt; | GamesStarted &lt;int&gt; |\n|---|---|---|---|---|---|---|---|---|---|---|---|---|---|---|---|---|---|---|---|---|---|\n| 1 | NBA | Quincy Acy    | SAC | SF | 59 |  877 | 119 | 214 | 19 |  49 | ⋯ | 29 | 27 | 24 | 103 | 0 | 307 | 3 | 0 | 0 | 29 |\n| 2 | NBA | Jordan Adams  | MEM | SG |  2 |   15 |   2 |   6 |  0 |   1 | ⋯ |  3 |  2 |  0 |   2 | 0 |   7 | 0 | 0 | 0 |  0 |\n| 3 | NBA | Steven Adams  | OKL | C  | 80 | 2019 | 261 | 426 |  0 |   0 | ⋯ | 42 | 84 | 89 | 223 | 2 | 636 | 2 | 0 | 0 | 80 |\n| 4 | NBA | Arron Afflalo | NYK | SG | 71 | 2359 | 354 | 799 | 91 | 238 | ⋯ | 25 | 82 | 10 | 142 | 1 | 909 | 1 | 0 | 0 | 57 |\n| 5 | NBA | Alexis Ajinca | NOR | C  | 59 |  863 | 150 | 314 |  0 |   1 | ⋯ | 19 | 54 | 36 | 134 | 0 | 352 | 2 | 0 | 0 | 17 |\n| 6 | NBA | Cole Aldrich  | LAC | C  | 60 |  802 | 134 | 225 |  0 |   0 | ⋯ | 47 | 64 | 68 | 139 | 1 | 328 | 0 | 0 | 0 |  5 |\n\n",
            "text/html": [
              "<table class=\"dataframe\">\n",
              "<caption>A data.frame: 6 × 25</caption>\n",
              "<thead>\n",
              "\t<tr><th></th><th scope=col>League</th><th scope=col>Name</th><th scope=col>Team</th><th scope=col>Position</th><th scope=col>GamesPlayed</th><th scope=col>TotalMinutesPlayed</th><th scope=col>FieldGoalsMade</th><th scope=col>FieldGoalsAttempted</th><th scope=col>ThreesMade</th><th scope=col>ThreesAttempted</th><th scope=col>⋯</th><th scope=col>Steals</th><th scope=col>Turnovers</th><th scope=col>Blocks</th><th scope=col>PersonalFouls</th><th scope=col>Disqualifications</th><th scope=col>TotalPoints</th><th scope=col>Technicals</th><th scope=col>Ejections</th><th scope=col>FlagrantFouls</th><th scope=col>GamesStarted</th></tr>\n",
              "\t<tr><th></th><th scope=col>&lt;fct&gt;</th><th scope=col>&lt;chr&gt;</th><th scope=col>&lt;fct&gt;</th><th scope=col>&lt;fct&gt;</th><th scope=col>&lt;int&gt;</th><th scope=col>&lt;int&gt;</th><th scope=col>&lt;int&gt;</th><th scope=col>&lt;int&gt;</th><th scope=col>&lt;int&gt;</th><th scope=col>&lt;int&gt;</th><th scope=col>⋯</th><th scope=col>&lt;int&gt;</th><th scope=col>&lt;int&gt;</th><th scope=col>&lt;int&gt;</th><th scope=col>&lt;int&gt;</th><th scope=col>&lt;int&gt;</th><th scope=col>&lt;int&gt;</th><th scope=col>&lt;int&gt;</th><th scope=col>&lt;int&gt;</th><th scope=col>&lt;int&gt;</th><th scope=col>&lt;int&gt;</th></tr>\n",
              "</thead>\n",
              "<tbody>\n",
              "\t<tr><th scope=row>1</th><td>NBA</td><td>Quincy Acy   </td><td>SAC</td><td>SF</td><td>59</td><td> 877</td><td>119</td><td>214</td><td>19</td><td> 49</td><td>⋯</td><td>29</td><td>27</td><td>24</td><td>103</td><td>0</td><td>307</td><td>3</td><td>0</td><td>0</td><td>29</td></tr>\n",
              "\t<tr><th scope=row>2</th><td>NBA</td><td>Jordan Adams </td><td>MEM</td><td>SG</td><td> 2</td><td>  15</td><td>  2</td><td>  6</td><td> 0</td><td>  1</td><td>⋯</td><td> 3</td><td> 2</td><td> 0</td><td>  2</td><td>0</td><td>  7</td><td>0</td><td>0</td><td>0</td><td> 0</td></tr>\n",
              "\t<tr><th scope=row>3</th><td>NBA</td><td>Steven Adams </td><td>OKL</td><td>C </td><td>80</td><td>2019</td><td>261</td><td>426</td><td> 0</td><td>  0</td><td>⋯</td><td>42</td><td>84</td><td>89</td><td>223</td><td>2</td><td>636</td><td>2</td><td>0</td><td>0</td><td>80</td></tr>\n",
              "\t<tr><th scope=row>4</th><td>NBA</td><td>Arron Afflalo</td><td>NYK</td><td>SG</td><td>71</td><td>2359</td><td>354</td><td>799</td><td>91</td><td>238</td><td>⋯</td><td>25</td><td>82</td><td>10</td><td>142</td><td>1</td><td>909</td><td>1</td><td>0</td><td>0</td><td>57</td></tr>\n",
              "\t<tr><th scope=row>5</th><td>NBA</td><td>Alexis Ajinca</td><td>NOR</td><td>C </td><td>59</td><td> 863</td><td>150</td><td>314</td><td> 0</td><td>  1</td><td>⋯</td><td>19</td><td>54</td><td>36</td><td>134</td><td>0</td><td>352</td><td>2</td><td>0</td><td>0</td><td>17</td></tr>\n",
              "\t<tr><th scope=row>6</th><td>NBA</td><td>Cole Aldrich </td><td>LAC</td><td>C </td><td>60</td><td> 802</td><td>134</td><td>225</td><td> 0</td><td>  0</td><td>⋯</td><td>47</td><td>64</td><td>68</td><td>139</td><td>1</td><td>328</td><td>0</td><td>0</td><td>0</td><td> 5</td></tr>\n",
              "</tbody>\n",
              "</table>\n"
            ]
          },
          "metadata": {
            "tags": []
          }
        }
      ]
    },
    {
      "cell_type": "code",
      "metadata": {
        "colab": {
          "base_uri": "https://localhost:8080/",
          "height": 213
        },
        "id": "3B667CaNS3jv",
        "outputId": "bece01af-d68b-416c-da30-d944abea3901"
      },
      "source": [
        "NBA1516[grepl(\"Curry\",NBA1516$Name),]"
      ],
      "execution_count": 46,
      "outputs": [
        {
          "output_type": "display_data",
          "data": {
            "text/plain": [
              "    League Name          Team Position GamesPlayed TotalMinutesPlayed\n",
              "105 NBA    Seth Curry    SAC  SG       44           694              \n",
              "106 NBA    Stephen Curry GSW  PG       79          2705              \n",
              "    FieldGoalsMade FieldGoalsAttempted ThreesMade ThreesAttempted ⋯ Steals\n",
              "105 102             224                 50        111             ⋯  22   \n",
              "106 805            1597                402        887             ⋯ 169   \n",
              "    Turnovers Blocks PersonalFouls Disqualifications TotalPoints Technicals\n",
              "105  36        3      41           0                  299        0         \n",
              "106 261       16     161           0                 2375        1         \n",
              "    Ejections FlagrantFouls GamesStarted\n",
              "105 0         0              9          \n",
              "106 0         0             79          "
            ],
            "text/latex": "A data.frame: 2 × 25\n\\begin{tabular}{r|lllllllllllllllllllll}\n  & League & Name & Team & Position & GamesPlayed & TotalMinutesPlayed & FieldGoalsMade & FieldGoalsAttempted & ThreesMade & ThreesAttempted & ⋯ & Steals & Turnovers & Blocks & PersonalFouls & Disqualifications & TotalPoints & Technicals & Ejections & FlagrantFouls & GamesStarted\\\\\n  & <fct> & <chr> & <fct> & <fct> & <int> & <int> & <int> & <int> & <int> & <int> & ⋯ & <int> & <int> & <int> & <int> & <int> & <int> & <int> & <int> & <int> & <int>\\\\\n\\hline\n\t105 & NBA & Seth Curry    & SAC & SG & 44 &  694 & 102 &  224 &  50 & 111 & ⋯ &  22 &  36 &  3 &  41 & 0 &  299 & 0 & 0 & 0 &  9\\\\\n\t106 & NBA & Stephen Curry & GSW & PG & 79 & 2705 & 805 & 1597 & 402 & 887 & ⋯ & 169 & 261 & 16 & 161 & 0 & 2375 & 1 & 0 & 0 & 79\\\\\n\\end{tabular}\n",
            "text/markdown": "\nA data.frame: 2 × 25\n\n| <!--/--> | League &lt;fct&gt; | Name &lt;chr&gt; | Team &lt;fct&gt; | Position &lt;fct&gt; | GamesPlayed &lt;int&gt; | TotalMinutesPlayed &lt;int&gt; | FieldGoalsMade &lt;int&gt; | FieldGoalsAttempted &lt;int&gt; | ThreesMade &lt;int&gt; | ThreesAttempted &lt;int&gt; | ⋯ ⋯ | Steals &lt;int&gt; | Turnovers &lt;int&gt; | Blocks &lt;int&gt; | PersonalFouls &lt;int&gt; | Disqualifications &lt;int&gt; | TotalPoints &lt;int&gt; | Technicals &lt;int&gt; | Ejections &lt;int&gt; | FlagrantFouls &lt;int&gt; | GamesStarted &lt;int&gt; |\n|---|---|---|---|---|---|---|---|---|---|---|---|---|---|---|---|---|---|---|---|---|---|\n| 105 | NBA | Seth Curry    | SAC | SG | 44 |  694 | 102 |  224 |  50 | 111 | ⋯ |  22 |  36 |  3 |  41 | 0 |  299 | 0 | 0 | 0 |  9 |\n| 106 | NBA | Stephen Curry | GSW | PG | 79 | 2705 | 805 | 1597 | 402 | 887 | ⋯ | 169 | 261 | 16 | 161 | 0 | 2375 | 1 | 0 | 0 | 79 |\n\n",
            "text/html": [
              "<table class=\"dataframe\">\n",
              "<caption>A data.frame: 2 × 25</caption>\n",
              "<thead>\n",
              "\t<tr><th></th><th scope=col>League</th><th scope=col>Name</th><th scope=col>Team</th><th scope=col>Position</th><th scope=col>GamesPlayed</th><th scope=col>TotalMinutesPlayed</th><th scope=col>FieldGoalsMade</th><th scope=col>FieldGoalsAttempted</th><th scope=col>ThreesMade</th><th scope=col>ThreesAttempted</th><th scope=col>⋯</th><th scope=col>Steals</th><th scope=col>Turnovers</th><th scope=col>Blocks</th><th scope=col>PersonalFouls</th><th scope=col>Disqualifications</th><th scope=col>TotalPoints</th><th scope=col>Technicals</th><th scope=col>Ejections</th><th scope=col>FlagrantFouls</th><th scope=col>GamesStarted</th></tr>\n",
              "\t<tr><th></th><th scope=col>&lt;fct&gt;</th><th scope=col>&lt;chr&gt;</th><th scope=col>&lt;fct&gt;</th><th scope=col>&lt;fct&gt;</th><th scope=col>&lt;int&gt;</th><th scope=col>&lt;int&gt;</th><th scope=col>&lt;int&gt;</th><th scope=col>&lt;int&gt;</th><th scope=col>&lt;int&gt;</th><th scope=col>&lt;int&gt;</th><th scope=col>⋯</th><th scope=col>&lt;int&gt;</th><th scope=col>&lt;int&gt;</th><th scope=col>&lt;int&gt;</th><th scope=col>&lt;int&gt;</th><th scope=col>&lt;int&gt;</th><th scope=col>&lt;int&gt;</th><th scope=col>&lt;int&gt;</th><th scope=col>&lt;int&gt;</th><th scope=col>&lt;int&gt;</th><th scope=col>&lt;int&gt;</th></tr>\n",
              "</thead>\n",
              "<tbody>\n",
              "\t<tr><th scope=row>105</th><td>NBA</td><td>Seth Curry   </td><td>SAC</td><td>SG</td><td>44</td><td> 694</td><td>102</td><td> 224</td><td> 50</td><td>111</td><td>⋯</td><td> 22</td><td> 36</td><td> 3</td><td> 41</td><td>0</td><td> 299</td><td>0</td><td>0</td><td>0</td><td> 9</td></tr>\n",
              "\t<tr><th scope=row>106</th><td>NBA</td><td>Stephen Curry</td><td>GSW</td><td>PG</td><td>79</td><td>2705</td><td>805</td><td>1597</td><td>402</td><td>887</td><td>⋯</td><td>169</td><td>261</td><td>16</td><td>161</td><td>0</td><td>2375</td><td>1</td><td>0</td><td>0</td><td>79</td></tr>\n",
              "</tbody>\n",
              "</table>\n"
            ]
          },
          "metadata": {
            "tags": []
          }
        }
      ]
    },
    {
      "cell_type": "code",
      "metadata": {
        "colab": {
          "base_uri": "https://localhost:8080/",
          "height": 837
        },
        "id": "1nOBmaA6U_ue",
        "outputId": "c5d659f4-8442-4448-aa60-19ddeb400705"
      },
      "source": [
        "subset(NBA1516, Team==\"SAC\")"
      ],
      "execution_count": 53,
      "outputs": [
        {
          "output_type": "display_data",
          "data": {
            "text/plain": [
              "    League Name             Team Position GamesPlayed TotalMinutesPlayed\n",
              "1   NBA    Quincy Acy       SAC  SF       59           877              \n",
              "15  NBA    James Anderson   SAC  SG       51           721              \n",
              "45  NBA    Marco Belinelli  SAC  SF       68          1670              \n",
              "72  NBA    Caron Butler     SAC  SF       17           176              \n",
              "83  NBA    Omri Casspi      SAC  SF       69          1883              \n",
              "84  NBA    Wil Cauley-stein SAC  C        66          1411              \n",
              "92  NBA    Darren Collison  SAC  PG       74          2216              \n",
              "98  NBA    Demarcus Cousins SAC  C        65          2245              \n",
              "105 NBA    Seth Curry       SAC  SG       44           694              \n",
              "124 NBA    Duje Dukan       SAC  PF        1            24              \n",
              "152 NBA    Rudy Gay         SAC  SF       70          2383              \n",
              "254 NBA    Kosta Koufos     SAC  C        78          1489              \n",
              "295 NBA    Ben Mclemore     SAC  SG       68          1444              \n",
              "313 NBA    Eric Moreland    SAC  PF        9            47              \n",
              "379 NBA    Rajon Rondo      SAC  PG       72          2537              \n",
              "    FieldGoalsMade FieldGoalsAttempted ThreesMade ThreesAttempted ⋯ Steals\n",
              "1   119             214                 19         49             ⋯  29   \n",
              "15   67             178                 23         86             ⋯  21   \n",
              "45  245             635                 91        297             ⋯  37   \n",
              "72   25              59                  3         18             ⋯   9   \n",
              "83  300             623                112        274             ⋯  56   \n",
              "84  191             339                  0          2             ⋯  48   \n",
              "92  377             776                 87        217             ⋯  76   \n",
              "98  601            1332                 70        210             ⋯ 101   \n",
              "105 102             224                 50        111             ⋯  22   \n",
              "124   2              10                  2          5             ⋯   1   \n",
              "152 466            1007                 74        215             ⋯ 100   \n",
              "254 235             443                  0          0             ⋯  40   \n",
              "295 195             455                 67        185             ⋯  52   \n",
              "313   3               6                  0          0             ⋯   0   \n",
              "379 355             782                 62        170             ⋯ 142   \n",
              "    Turnovers Blocks PersonalFouls Disqualifications TotalPoints Technicals\n",
              "1    27       24     103           0                  307         3        \n",
              "15   42       14      54           0                  179         0        \n",
              "45   80        2      91           0                  696         0        \n",
              "72    3        1      19           0                   63         0        \n",
              "83   94       17     154           1                  815         4        \n",
              "84   46       66     146           1                  463         0        \n",
              "92  129        4     142           0                 1035         1        \n",
              "98  249       91     236           7                 1748        11        \n",
              "105  36        3      41           0                  299         0        \n",
              "124   0        0       2           0                    6         0        \n",
              "152 139       51     184           1                 1204         1        \n",
              "254  48       70     185           1                  527         2        \n",
              "295  99       10     140           0                  531         0        \n",
              "313   3        4       4           0                    8         0        \n",
              "379 279       10     175           1                  859         3        \n",
              "    Ejections FlagrantFouls GamesStarted\n",
              "1   0         0             29          \n",
              "15  0         0             15          \n",
              "45  0         0              7          \n",
              "72  0         0              1          \n",
              "83  0         0             21          \n",
              "84  0         0             39          \n",
              "92  0         0             15          \n",
              "98  0         0             65          \n",
              "105 0         0              9          \n",
              "124 0         0              0          \n",
              "152 0         0             70          \n",
              "254 0         0             14          \n",
              "295 0         0             53          \n",
              "313 0         0              0          \n",
              "379 0         0             72          "
            ],
            "text/latex": "A data.frame: 15 × 25\n\\begin{tabular}{r|lllllllllllllllllllll}\n  & League & Name & Team & Position & GamesPlayed & TotalMinutesPlayed & FieldGoalsMade & FieldGoalsAttempted & ThreesMade & ThreesAttempted & ⋯ & Steals & Turnovers & Blocks & PersonalFouls & Disqualifications & TotalPoints & Technicals & Ejections & FlagrantFouls & GamesStarted\\\\\n  & <fct> & <chr> & <fct> & <fct> & <int> & <int> & <int> & <int> & <int> & <int> & ⋯ & <int> & <int> & <int> & <int> & <int> & <int> & <int> & <int> & <int> & <int>\\\\\n\\hline\n\t1 & NBA & Quincy Acy       & SAC & SF & 59 &  877 & 119 &  214 &  19 &  49 & ⋯ &  29 &  27 & 24 & 103 & 0 &  307 &  3 & 0 & 0 & 29\\\\\n\t15 & NBA & James Anderson   & SAC & SG & 51 &  721 &  67 &  178 &  23 &  86 & ⋯ &  21 &  42 & 14 &  54 & 0 &  179 &  0 & 0 & 0 & 15\\\\\n\t45 & NBA & Marco Belinelli  & SAC & SF & 68 & 1670 & 245 &  635 &  91 & 297 & ⋯ &  37 &  80 &  2 &  91 & 0 &  696 &  0 & 0 & 0 &  7\\\\\n\t72 & NBA & Caron Butler     & SAC & SF & 17 &  176 &  25 &   59 &   3 &  18 & ⋯ &   9 &   3 &  1 &  19 & 0 &   63 &  0 & 0 & 0 &  1\\\\\n\t83 & NBA & Omri Casspi      & SAC & SF & 69 & 1883 & 300 &  623 & 112 & 274 & ⋯ &  56 &  94 & 17 & 154 & 1 &  815 &  4 & 0 & 0 & 21\\\\\n\t84 & NBA & Wil Cauley-stein & SAC & C  & 66 & 1411 & 191 &  339 &   0 &   2 & ⋯ &  48 &  46 & 66 & 146 & 1 &  463 &  0 & 0 & 0 & 39\\\\\n\t92 & NBA & Darren Collison  & SAC & PG & 74 & 2216 & 377 &  776 &  87 & 217 & ⋯ &  76 & 129 &  4 & 142 & 0 & 1035 &  1 & 0 & 0 & 15\\\\\n\t98 & NBA & Demarcus Cousins & SAC & C  & 65 & 2245 & 601 & 1332 &  70 & 210 & ⋯ & 101 & 249 & 91 & 236 & 7 & 1748 & 11 & 0 & 0 & 65\\\\\n\t105 & NBA & Seth Curry       & SAC & SG & 44 &  694 & 102 &  224 &  50 & 111 & ⋯ &  22 &  36 &  3 &  41 & 0 &  299 &  0 & 0 & 0 &  9\\\\\n\t124 & NBA & Duje Dukan       & SAC & PF &  1 &   24 &   2 &   10 &   2 &   5 & ⋯ &   1 &   0 &  0 &   2 & 0 &    6 &  0 & 0 & 0 &  0\\\\\n\t152 & NBA & Rudy Gay         & SAC & SF & 70 & 2383 & 466 & 1007 &  74 & 215 & ⋯ & 100 & 139 & 51 & 184 & 1 & 1204 &  1 & 0 & 0 & 70\\\\\n\t254 & NBA & Kosta Koufos     & SAC & C  & 78 & 1489 & 235 &  443 &   0 &   0 & ⋯ &  40 &  48 & 70 & 185 & 1 &  527 &  2 & 0 & 0 & 14\\\\\n\t295 & NBA & Ben Mclemore     & SAC & SG & 68 & 1444 & 195 &  455 &  67 & 185 & ⋯ &  52 &  99 & 10 & 140 & 0 &  531 &  0 & 0 & 0 & 53\\\\\n\t313 & NBA & Eric Moreland    & SAC & PF &  9 &   47 &   3 &    6 &   0 &   0 & ⋯ &   0 &   3 &  4 &   4 & 0 &    8 &  0 & 0 & 0 &  0\\\\\n\t379 & NBA & Rajon Rondo      & SAC & PG & 72 & 2537 & 355 &  782 &  62 & 170 & ⋯ & 142 & 279 & 10 & 175 & 1 &  859 &  3 & 0 & 0 & 72\\\\\n\\end{tabular}\n",
            "text/markdown": "\nA data.frame: 15 × 25\n\n| <!--/--> | League &lt;fct&gt; | Name &lt;chr&gt; | Team &lt;fct&gt; | Position &lt;fct&gt; | GamesPlayed &lt;int&gt; | TotalMinutesPlayed &lt;int&gt; | FieldGoalsMade &lt;int&gt; | FieldGoalsAttempted &lt;int&gt; | ThreesMade &lt;int&gt; | ThreesAttempted &lt;int&gt; | ⋯ ⋯ | Steals &lt;int&gt; | Turnovers &lt;int&gt; | Blocks &lt;int&gt; | PersonalFouls &lt;int&gt; | Disqualifications &lt;int&gt; | TotalPoints &lt;int&gt; | Technicals &lt;int&gt; | Ejections &lt;int&gt; | FlagrantFouls &lt;int&gt; | GamesStarted &lt;int&gt; |\n|---|---|---|---|---|---|---|---|---|---|---|---|---|---|---|---|---|---|---|---|---|---|\n| 1 | NBA | Quincy Acy       | SAC | SF | 59 |  877 | 119 |  214 |  19 |  49 | ⋯ |  29 |  27 | 24 | 103 | 0 |  307 |  3 | 0 | 0 | 29 |\n| 15 | NBA | James Anderson   | SAC | SG | 51 |  721 |  67 |  178 |  23 |  86 | ⋯ |  21 |  42 | 14 |  54 | 0 |  179 |  0 | 0 | 0 | 15 |\n| 45 | NBA | Marco Belinelli  | SAC | SF | 68 | 1670 | 245 |  635 |  91 | 297 | ⋯ |  37 |  80 |  2 |  91 | 0 |  696 |  0 | 0 | 0 |  7 |\n| 72 | NBA | Caron Butler     | SAC | SF | 17 |  176 |  25 |   59 |   3 |  18 | ⋯ |   9 |   3 |  1 |  19 | 0 |   63 |  0 | 0 | 0 |  1 |\n| 83 | NBA | Omri Casspi      | SAC | SF | 69 | 1883 | 300 |  623 | 112 | 274 | ⋯ |  56 |  94 | 17 | 154 | 1 |  815 |  4 | 0 | 0 | 21 |\n| 84 | NBA | Wil Cauley-stein | SAC | C  | 66 | 1411 | 191 |  339 |   0 |   2 | ⋯ |  48 |  46 | 66 | 146 | 1 |  463 |  0 | 0 | 0 | 39 |\n| 92 | NBA | Darren Collison  | SAC | PG | 74 | 2216 | 377 |  776 |  87 | 217 | ⋯ |  76 | 129 |  4 | 142 | 0 | 1035 |  1 | 0 | 0 | 15 |\n| 98 | NBA | Demarcus Cousins | SAC | C  | 65 | 2245 | 601 | 1332 |  70 | 210 | ⋯ | 101 | 249 | 91 | 236 | 7 | 1748 | 11 | 0 | 0 | 65 |\n| 105 | NBA | Seth Curry       | SAC | SG | 44 |  694 | 102 |  224 |  50 | 111 | ⋯ |  22 |  36 |  3 |  41 | 0 |  299 |  0 | 0 | 0 |  9 |\n| 124 | NBA | Duje Dukan       | SAC | PF |  1 |   24 |   2 |   10 |   2 |   5 | ⋯ |   1 |   0 |  0 |   2 | 0 |    6 |  0 | 0 | 0 |  0 |\n| 152 | NBA | Rudy Gay         | SAC | SF | 70 | 2383 | 466 | 1007 |  74 | 215 | ⋯ | 100 | 139 | 51 | 184 | 1 | 1204 |  1 | 0 | 0 | 70 |\n| 254 | NBA | Kosta Koufos     | SAC | C  | 78 | 1489 | 235 |  443 |   0 |   0 | ⋯ |  40 |  48 | 70 | 185 | 1 |  527 |  2 | 0 | 0 | 14 |\n| 295 | NBA | Ben Mclemore     | SAC | SG | 68 | 1444 | 195 |  455 |  67 | 185 | ⋯ |  52 |  99 | 10 | 140 | 0 |  531 |  0 | 0 | 0 | 53 |\n| 313 | NBA | Eric Moreland    | SAC | PF |  9 |   47 |   3 |    6 |   0 |   0 | ⋯ |   0 |   3 |  4 |   4 | 0 |    8 |  0 | 0 | 0 |  0 |\n| 379 | NBA | Rajon Rondo      | SAC | PG | 72 | 2537 | 355 |  782 |  62 | 170 | ⋯ | 142 | 279 | 10 | 175 | 1 |  859 |  3 | 0 | 0 | 72 |\n\n",
            "text/html": [
              "<table class=\"dataframe\">\n",
              "<caption>A data.frame: 15 × 25</caption>\n",
              "<thead>\n",
              "\t<tr><th></th><th scope=col>League</th><th scope=col>Name</th><th scope=col>Team</th><th scope=col>Position</th><th scope=col>GamesPlayed</th><th scope=col>TotalMinutesPlayed</th><th scope=col>FieldGoalsMade</th><th scope=col>FieldGoalsAttempted</th><th scope=col>ThreesMade</th><th scope=col>ThreesAttempted</th><th scope=col>⋯</th><th scope=col>Steals</th><th scope=col>Turnovers</th><th scope=col>Blocks</th><th scope=col>PersonalFouls</th><th scope=col>Disqualifications</th><th scope=col>TotalPoints</th><th scope=col>Technicals</th><th scope=col>Ejections</th><th scope=col>FlagrantFouls</th><th scope=col>GamesStarted</th></tr>\n",
              "\t<tr><th></th><th scope=col>&lt;fct&gt;</th><th scope=col>&lt;chr&gt;</th><th scope=col>&lt;fct&gt;</th><th scope=col>&lt;fct&gt;</th><th scope=col>&lt;int&gt;</th><th scope=col>&lt;int&gt;</th><th scope=col>&lt;int&gt;</th><th scope=col>&lt;int&gt;</th><th scope=col>&lt;int&gt;</th><th scope=col>&lt;int&gt;</th><th scope=col>⋯</th><th scope=col>&lt;int&gt;</th><th scope=col>&lt;int&gt;</th><th scope=col>&lt;int&gt;</th><th scope=col>&lt;int&gt;</th><th scope=col>&lt;int&gt;</th><th scope=col>&lt;int&gt;</th><th scope=col>&lt;int&gt;</th><th scope=col>&lt;int&gt;</th><th scope=col>&lt;int&gt;</th><th scope=col>&lt;int&gt;</th></tr>\n",
              "</thead>\n",
              "<tbody>\n",
              "\t<tr><th scope=row>1</th><td>NBA</td><td>Quincy Acy      </td><td>SAC</td><td>SF</td><td>59</td><td> 877</td><td>119</td><td> 214</td><td> 19</td><td> 49</td><td>⋯</td><td> 29</td><td> 27</td><td>24</td><td>103</td><td>0</td><td> 307</td><td> 3</td><td>0</td><td>0</td><td>29</td></tr>\n",
              "\t<tr><th scope=row>15</th><td>NBA</td><td>James Anderson  </td><td>SAC</td><td>SG</td><td>51</td><td> 721</td><td> 67</td><td> 178</td><td> 23</td><td> 86</td><td>⋯</td><td> 21</td><td> 42</td><td>14</td><td> 54</td><td>0</td><td> 179</td><td> 0</td><td>0</td><td>0</td><td>15</td></tr>\n",
              "\t<tr><th scope=row>45</th><td>NBA</td><td>Marco Belinelli </td><td>SAC</td><td>SF</td><td>68</td><td>1670</td><td>245</td><td> 635</td><td> 91</td><td>297</td><td>⋯</td><td> 37</td><td> 80</td><td> 2</td><td> 91</td><td>0</td><td> 696</td><td> 0</td><td>0</td><td>0</td><td> 7</td></tr>\n",
              "\t<tr><th scope=row>72</th><td>NBA</td><td>Caron Butler    </td><td>SAC</td><td>SF</td><td>17</td><td> 176</td><td> 25</td><td>  59</td><td>  3</td><td> 18</td><td>⋯</td><td>  9</td><td>  3</td><td> 1</td><td> 19</td><td>0</td><td>  63</td><td> 0</td><td>0</td><td>0</td><td> 1</td></tr>\n",
              "\t<tr><th scope=row>83</th><td>NBA</td><td>Omri Casspi     </td><td>SAC</td><td>SF</td><td>69</td><td>1883</td><td>300</td><td> 623</td><td>112</td><td>274</td><td>⋯</td><td> 56</td><td> 94</td><td>17</td><td>154</td><td>1</td><td> 815</td><td> 4</td><td>0</td><td>0</td><td>21</td></tr>\n",
              "\t<tr><th scope=row>84</th><td>NBA</td><td>Wil Cauley-stein</td><td>SAC</td><td>C </td><td>66</td><td>1411</td><td>191</td><td> 339</td><td>  0</td><td>  2</td><td>⋯</td><td> 48</td><td> 46</td><td>66</td><td>146</td><td>1</td><td> 463</td><td> 0</td><td>0</td><td>0</td><td>39</td></tr>\n",
              "\t<tr><th scope=row>92</th><td>NBA</td><td>Darren Collison </td><td>SAC</td><td>PG</td><td>74</td><td>2216</td><td>377</td><td> 776</td><td> 87</td><td>217</td><td>⋯</td><td> 76</td><td>129</td><td> 4</td><td>142</td><td>0</td><td>1035</td><td> 1</td><td>0</td><td>0</td><td>15</td></tr>\n",
              "\t<tr><th scope=row>98</th><td>NBA</td><td>Demarcus Cousins</td><td>SAC</td><td>C </td><td>65</td><td>2245</td><td>601</td><td>1332</td><td> 70</td><td>210</td><td>⋯</td><td>101</td><td>249</td><td>91</td><td>236</td><td>7</td><td>1748</td><td>11</td><td>0</td><td>0</td><td>65</td></tr>\n",
              "\t<tr><th scope=row>105</th><td>NBA</td><td>Seth Curry      </td><td>SAC</td><td>SG</td><td>44</td><td> 694</td><td>102</td><td> 224</td><td> 50</td><td>111</td><td>⋯</td><td> 22</td><td> 36</td><td> 3</td><td> 41</td><td>0</td><td> 299</td><td> 0</td><td>0</td><td>0</td><td> 9</td></tr>\n",
              "\t<tr><th scope=row>124</th><td>NBA</td><td>Duje Dukan      </td><td>SAC</td><td>PF</td><td> 1</td><td>  24</td><td>  2</td><td>  10</td><td>  2</td><td>  5</td><td>⋯</td><td>  1</td><td>  0</td><td> 0</td><td>  2</td><td>0</td><td>   6</td><td> 0</td><td>0</td><td>0</td><td> 0</td></tr>\n",
              "\t<tr><th scope=row>152</th><td>NBA</td><td>Rudy Gay        </td><td>SAC</td><td>SF</td><td>70</td><td>2383</td><td>466</td><td>1007</td><td> 74</td><td>215</td><td>⋯</td><td>100</td><td>139</td><td>51</td><td>184</td><td>1</td><td>1204</td><td> 1</td><td>0</td><td>0</td><td>70</td></tr>\n",
              "\t<tr><th scope=row>254</th><td>NBA</td><td>Kosta Koufos    </td><td>SAC</td><td>C </td><td>78</td><td>1489</td><td>235</td><td> 443</td><td>  0</td><td>  0</td><td>⋯</td><td> 40</td><td> 48</td><td>70</td><td>185</td><td>1</td><td> 527</td><td> 2</td><td>0</td><td>0</td><td>14</td></tr>\n",
              "\t<tr><th scope=row>295</th><td>NBA</td><td>Ben Mclemore    </td><td>SAC</td><td>SG</td><td>68</td><td>1444</td><td>195</td><td> 455</td><td> 67</td><td>185</td><td>⋯</td><td> 52</td><td> 99</td><td>10</td><td>140</td><td>0</td><td> 531</td><td> 0</td><td>0</td><td>0</td><td>53</td></tr>\n",
              "\t<tr><th scope=row>313</th><td>NBA</td><td>Eric Moreland   </td><td>SAC</td><td>PF</td><td> 9</td><td>  47</td><td>  3</td><td>   6</td><td>  0</td><td>  0</td><td>⋯</td><td>  0</td><td>  3</td><td> 4</td><td>  4</td><td>0</td><td>   8</td><td> 0</td><td>0</td><td>0</td><td> 0</td></tr>\n",
              "\t<tr><th scope=row>379</th><td>NBA</td><td>Rajon Rondo     </td><td>SAC</td><td>PG</td><td>72</td><td>2537</td><td>355</td><td> 782</td><td> 62</td><td>170</td><td>⋯</td><td>142</td><td>279</td><td>10</td><td>175</td><td>1</td><td> 859</td><td> 3</td><td>0</td><td>0</td><td>72</td></tr>\n",
              "</tbody>\n",
              "</table>\n"
            ]
          },
          "metadata": {
            "tags": []
          }
        }
      ]
    },
    {
      "cell_type": "code",
      "metadata": {
        "colab": {
          "base_uri": "https://localhost:8080/",
          "height": 1000
        },
        "id": "Sf_nGhk4WnWM",
        "outputId": "de26a84a-c8b6-4dc6-dc71-b865d82011ab"
      },
      "source": [
        "subset(NBA1516, Position==\"SG\")"
      ],
      "execution_count": 54,
      "outputs": [
        {
          "output_type": "display_data",
          "data": {
            "text/plain": [
              "    League Name             Team Position GamesPlayed TotalMinutesPlayed\n",
              "2   NBA    Jordan Adams     MEM  SG        2            15              \n",
              "4   NBA    Arron Afflalo    NYK  SG       71          2359              \n",
              "10  NBA    Tony Allen       MEM  SG       64          1622              \n",
              "14  NBA    Alan Anderson    WAS  SG       13           193              \n",
              "15  NBA    James Anderson   SAC  SG       51           721              \n",
              "16  NBA    Justin Anderson  DAL  SG       55           644              \n",
              "32  NBA    Leandro Barbosa  GSW  SG       68          1079              \n",
              "37  NBA    Will Barton      DEN  SG       82          2355              \n",
              "42  NBA    Kent Bazemore    ATL  SG       75          2077              \n",
              "43  NBA    Bradley Beal     WAS  SG       55          1709              \n",
              "54  NBA    Bojan Bogdanovic BRO  SG       79          2114              \n",
              "57  NBA    Devin Booker     PHO  SG       76          2110              \n",
              "62  NBA    Corey Brewer     HOU  SG       82          1670              \n",
              "66  NBA    Markel Brown     BRO  SG       62           989              \n",
              "67  NBA    Kobe Bryant      LAL  SG       66          1861              \n",
              "73  NBA    Jimmy Butler     CHI  SG       67          2473              \n",
              "77  NBA    Ke Caldwell-pope DET  SG       76          2789              \n",
              "81  NBA    Vince Carter     MEM  SG       60          1009              \n",
              "88  NBA    Ian Clark        GSW  SG       66           579              \n",
              "95  NBA    Pat Connaughton  POR  SG       34           147              \n",
              "101 NBA    Jamal Crawford   LAC  SG       79          2126              \n",
              "104 NBA    Jared Cunningham MIL  SG       45           415              \n",
              "105 NBA    Seth Curry       SAC  SG       44           694              \n",
              "107 NBA    Troy Daniels     CHA  SG       43           478              \n",
              "112 NBA    Bry Dejean-jones NOR  SG       11           271              \n",
              "116 NBA    Demar Derozan    TOR  SG       78          2804              \n",
              "121 NBA    Goran Dragic     MIA  SG       72          2362              \n",
              "123 NBA    Jared Dudley     WAS  SG       81          2098              \n",
              "126 NBA    Mike Dunleavy    CHI  SG       31           702              \n",
              "129 NBA    Jarell Eddie     WAS  SG       26           147              \n",
              "⋮   ⋮      ⋮                ⋮    ⋮        ⋮           ⋮                 \n",
              "363 NBA    Norman Powell    TOR  SG       49           729              \n",
              "364 NBA    Phil Pressey     PHO  SG       22           280              \n",
              "370 NBA    J.j. Redick      LAC  SG       75          2098              \n",
              "372 NBA    Josh Richardson  MIA  SG       52          1105              \n",
              "373 NBA    Austin Rivers    LAC  SG       67          1466              \n",
              "374 NBA    Andre Roberson   OKL  SG       70          1552              \n",
              "385 NBA    Brandon Rush     GSW  SG       72          1050              \n",
              "388 NBA    Jakarr Sampson   DEN  SG       73          1166              \n",
              "392 NBA    Thabo Sefolosha  ATL  SG       75          1749              \n",
              "395 NBA    Iman Shumpert    CLE  SG       54          1319              \n",
              "396 NBA    Jonathon Simmons SAN  SG       55           811              \n",
              "403 NBA    J.r. Smith       CLE  SG       77          2367              \n",
              "410 NBA    Nik Stauskas     PHI  SG       73          1798              \n",
              "420 NBA    Garrett Temple   WAS  SG       80          1951              \n",
              "421 NBA    Jason Terry      HOU  SG       72          1261              \n",
              "424 NBA    Hollis Thompson  PHI  SG       77          2158              \n",
              "426 NBA    Klay Thompson    GSW  SG       80          2661              \n",
              "428 NBA    Marcus Thornton  WAS  SG       61          1110              \n",
              "430 NBA    Axel Toupane     DEN  SG       21           307              \n",
              "433 NBA    Evan Turner      BOS  SG       81          2270              \n",
              "439 NBA    Rashad Vaughn    MIL  SG       70          1000              \n",
              "443 NBA    Sasha Vujacic    NYK  SG       61           910              \n",
              "444 NBA    Dwyane Wade      MIA  SG       74          2258              \n",
              "445 NBA    Dion Waiters     OKL  SG       78          2157              \n",
              "451 NBA    Sonny Weems      PHI  SG       43           501              \n",
              "457 NBA    C.j. Wilcox      LAC  SG       23           168              \n",
              "461 NBA    Elliot Williams  MEM  SG        5            46              \n",
              "462 NBA    Louis Williams   LAL  SG       67          1911              \n",
              "470 NBA    Tony Wroten      PHI  SG        8           145              \n",
              "471 NBA    James Young      BOS  SG       29           200              \n",
              "    FieldGoalsMade FieldGoalsAttempted ThreesMade ThreesAttempted ⋯ Steals\n",
              "2     2               6                  0          1             ⋯   3   \n",
              "4   354             799                 91        238             ⋯  25   \n",
              "10  215             469                 15         42             ⋯ 109   \n",
              "14   21              59                 12         37             ⋯   4   \n",
              "15   67             178                 23         86             ⋯  21   \n",
              "16   71             176                 22         83             ⋯  19   \n",
              "32  171             370                 39        111             ⋯  44   \n",
              "37  426             984                112        324             ⋯  71   \n",
              "42  320             724                109        304             ⋯  98   \n",
              "43  359             799                105        271             ⋯  54   \n",
              "54  324             749                129        337             ⋯  29   \n",
              "57  367             867                 99        289             ⋯  44   \n",
              "62  212             552                 61        225             ⋯  84   \n",
              "66  127             322                 38        121             ⋯  38   \n",
              "67  398            1112                133        466             ⋯  62   \n",
              "73  470            1034                 64        206             ⋯ 110   \n",
              "77  403             960                114        368             ⋯ 110   \n",
              "81  133             343                 59        169             ⋯  38   \n",
              "88   89             202                 30         84             ⋯  17   \n",
              "95   13              49                  5         21             ⋯   2   \n",
              "101 379             940                117        345             ⋯  52   \n",
              "104  36             105                 12         39             ⋯  14   \n",
              "105 102             224                 50        111             ⋯  22   \n",
              "107  89             187                 59        122             ⋯  11   \n",
              "112  27              67                 11         30             ⋯  10   \n",
              "116 614            1377                 47        139             ⋯  82   \n",
              "121 417             875                 64        205             ⋯  71   \n",
              "123 233             487                100        239             ⋯  75   \n",
              "126  77             188                 39         99             ⋯  14   \n",
              "129  20              65                 15         47             ⋯   5   \n",
              "⋮   ⋮              ⋮                   ⋮          ⋮               ⋱ ⋮     \n",
              "363  97             229                 36         88             ⋯ 29    \n",
              "364  30              77                  4         17             ⋯ 17    \n",
              "370 422             880                200        420             ⋯ 42    \n",
              "372 123             272                 53        115             ⋯ 36    \n",
              "373 226             516                 62        185             ⋯ 48    \n",
              "374 136             274                 32        103             ⋯ 54    \n",
              "385 111             260                 65        157             ⋯ 21    \n",
              "388 140             318                 14         63             ⋯ 23    \n",
              "392 188             374                 42        125             ⋯ 84    \n",
              "395 114             305                 43        146             ⋯ 54    \n",
              "396 122             241                 18         47             ⋯ 24    \n",
              "403 353             849                204        510             ⋯ 81    \n",
              "410 210             542                106        324             ⋯ 44    \n",
              "420 201             505                 89        257             ⋯ 69    \n",
              "421 151             376                 93        261             ⋯ 47    \n",
              "424 270             681                149        393             ⋯ 36    \n",
              "426 651            1386                276        648             ⋯ 60    \n",
              "428 216             542                 91        271             ⋯ 47    \n",
              "430  25              70                 13         40             ⋯  7    \n",
              "433 343             753                 20         83             ⋯ 80    \n",
              "439  82             266                 44        147             ⋯ 29    \n",
              "443 106             277                 52        143             ⋯ 34    \n",
              "444 540            1183                  7         44             ⋯ 79    \n",
              "445 282             705                 86        241             ⋯ 81    \n",
              "451  42             111                 15         42             ⋯ 10    \n",
              "457  26              66                  9         23             ⋯ 10    \n",
              "461   2              10                  1          4             ⋯  1    \n",
              "462 283             695                110        321             ⋯ 62    \n",
              "470  22              65                  3         17             ⋯  3    \n",
              "471  11              36                  6         26             ⋯  6    \n",
              "    Turnovers Blocks PersonalFouls Disqualifications TotalPoints Technicals\n",
              "2     2        0       2           0                    7        0         \n",
              "4    82       10     142           1                  909        1         \n",
              "10   78       18     175           1                  535        1         \n",
              "14    2        1      25           0                   65        0         \n",
              "15   42       14      54           0                  179        0         \n",
              "16   24       25      45           0                  208        0         \n",
              "32   53       10     107           0                  433        1         \n",
              "37  139       39     147           0                 1180        2         \n",
              "42  138       38     176           2                  872        4         \n",
              "43  112       11     117           0                  958        0         \n",
              "54  115        5     119           0                  887        2         \n",
              "57  160       20     225           5                 1048        0         \n",
              "62   78       19     168           1                  590        0         \n",
              "66   54       15      94           1                  363        1         \n",
              "67  130       13     115           0                 1161        1         \n",
              "73  132       43     124           1                 1399        1         \n",
              "77  105       17     167           0                 1105        3         \n",
              "81   35       16     101           0                  395        1         \n",
              "88   43       13      58           0                  236        1         \n",
              "95   10        0       6           0                   36        0         \n",
              "101 113       12     122           0                 1120        3         \n",
              "104  21        2      42           0                  120        0         \n",
              "105  36        3      41           0                  299        0         \n",
              "107  24        3      40           0                  242        0         \n",
              "112  11        2      16           0                   76        0         \n",
              "116 174       21     167           0                 1830        2         \n",
              "121 185       17     188           1                 1018        1         \n",
              "123  80       18     190           1                  638        1         \n",
              "126  26       10      66           0                  222        0         \n",
              "129   1        1       5           0                   63        0         \n",
              "⋮   ⋮         ⋮      ⋮             ⋮                 ⋮           ⋮         \n",
              "363  32       10      59           0                  273        0         \n",
              "364  33        4      28           0                   77        0         \n",
              "370  79        5     135           0                 1226        1         \n",
              "372  35       25     107           0                  341        0         \n",
              "373  61       10     137           1                  593        2         \n",
              "374  35       42     133           0                  337        1         \n",
              "385  33       23      57           1                  305        0         \n",
              "388  70       33     142           1                  374        2         \n",
              "392  68       37     109           0                  480        0         \n",
              "395  56       19     119           1                  311        1         \n",
              "396  53        5     103           0                  331        0         \n",
              "403  59       21     204           1                  955        3         \n",
              "410  93       20     111           0                  617        0         \n",
              "420  64       18     195           3                  582        0         \n",
              "421  49        9      91           0                  422        1         \n",
              "424  76       24     187           2                  758        0         \n",
              "426 138       50     152           0                 1771        0         \n",
              "428  51        4      90           0                  590        0         \n",
              "430   6        6      40           0                   76        0         \n",
              "433 169       28     139           0                  854        2         \n",
              "439  28       16      73           0                  220        0         \n",
              "443  44        5      83           0                  296        1         \n",
              "444 203       42     116           0                 1409        3         \n",
              "445 120       15     143           0                  762        4         \n",
              "451  41        1      47           0                  107        0         \n",
              "457   2        2      15           0                   70        0         \n",
              "461   1        0       2           0                    8        0         \n",
              "462 107       19     107           1                 1028        1         \n",
              "470  29        0      11           0                   67        0         \n",
              "471   5        1      17           0                   29        0         \n",
              "    Ejections FlagrantFouls GamesStarted\n",
              "2   0         0              0          \n",
              "4   0         0             57          \n",
              "10  0         0             56          \n",
              "14  0         0              0          \n",
              "15  0         0             15          \n",
              "16  0         0              9          \n",
              "32  0         0              0          \n",
              "37  0         0              1          \n",
              "42  0         0             68          \n",
              "43  0         0             35          \n",
              "54  0         0             39          \n",
              "57  0         0             51          \n",
              "62  0         0             12          \n",
              "66  0         0              6          \n",
              "67  0         0             66          \n",
              "73  0         0             67          \n",
              "77  0         0             76          \n",
              "81  0         0              3          \n",
              "88  0         0              1          \n",
              "95  0         0              0          \n",
              "101 0         0              5          \n",
              "104 0         0              3          \n",
              "105 0         0              9          \n",
              "107 0         0              0          \n",
              "112 0         0             11          \n",
              "116 0         0             78          \n",
              "121 0         0             72          \n",
              "123 0         0             41          \n",
              "126 0         0             30          \n",
              "129 0         0              0          \n",
              "⋮   ⋮         ⋮             ⋮           \n",
              "363 0         0             24          \n",
              "364 0         0              0          \n",
              "370 0         0             75          \n",
              "372 0         0              2          \n",
              "373 0         0              7          \n",
              "374 0         0             70          \n",
              "385 0         0             25          \n",
              "388 0         0             40          \n",
              "392 0         0             11          \n",
              "395 0         0              5          \n",
              "396 0         0              2          \n",
              "403 0         0             77          \n",
              "410 0         0             35          \n",
              "420 0         0             43          \n",
              "421 0         0              7          \n",
              "424 0         0             17          \n",
              "426 0         0             80          \n",
              "428 0         0              8          \n",
              "430 0         0              0          \n",
              "433 0         0             12          \n",
              "439 0         0              6          \n",
              "443 0         0             25          \n",
              "444 0         0             73          \n",
              "445 0         0             15          \n",
              "451 0         0              0          \n",
              "457 0         0              0          \n",
              "461 0         0              0          \n",
              "462 0         0             35          \n",
              "470 0         0              3          \n",
              "471 0         0              0          "
            ],
            "text/latex": "A data.frame: 109 × 25\n\\begin{tabular}{r|lllllllllllllllllllll}\n  & League & Name & Team & Position & GamesPlayed & TotalMinutesPlayed & FieldGoalsMade & FieldGoalsAttempted & ThreesMade & ThreesAttempted & ⋯ & Steals & Turnovers & Blocks & PersonalFouls & Disqualifications & TotalPoints & Technicals & Ejections & FlagrantFouls & GamesStarted\\\\\n  & <fct> & <chr> & <fct> & <fct> & <int> & <int> & <int> & <int> & <int> & <int> & ⋯ & <int> & <int> & <int> & <int> & <int> & <int> & <int> & <int> & <int> & <int>\\\\\n\\hline\n\t2 & NBA & Jordan Adams     & MEM & SG &  2 &   15 &   2 &    6 &   0 &   1 & ⋯ &   3 &   2 &  0 &   2 & 0 &    7 & 0 & 0 & 0 &  0\\\\\n\t4 & NBA & Arron Afflalo    & NYK & SG & 71 & 2359 & 354 &  799 &  91 & 238 & ⋯ &  25 &  82 & 10 & 142 & 1 &  909 & 1 & 0 & 0 & 57\\\\\n\t10 & NBA & Tony Allen       & MEM & SG & 64 & 1622 & 215 &  469 &  15 &  42 & ⋯ & 109 &  78 & 18 & 175 & 1 &  535 & 1 & 0 & 0 & 56\\\\\n\t14 & NBA & Alan Anderson    & WAS & SG & 13 &  193 &  21 &   59 &  12 &  37 & ⋯ &   4 &   2 &  1 &  25 & 0 &   65 & 0 & 0 & 0 &  0\\\\\n\t15 & NBA & James Anderson   & SAC & SG & 51 &  721 &  67 &  178 &  23 &  86 & ⋯ &  21 &  42 & 14 &  54 & 0 &  179 & 0 & 0 & 0 & 15\\\\\n\t16 & NBA & Justin Anderson  & DAL & SG & 55 &  644 &  71 &  176 &  22 &  83 & ⋯ &  19 &  24 & 25 &  45 & 0 &  208 & 0 & 0 & 0 &  9\\\\\n\t32 & NBA & Leandro Barbosa  & GSW & SG & 68 & 1079 & 171 &  370 &  39 & 111 & ⋯ &  44 &  53 & 10 & 107 & 0 &  433 & 1 & 0 & 0 &  0\\\\\n\t37 & NBA & Will Barton      & DEN & SG & 82 & 2355 & 426 &  984 & 112 & 324 & ⋯ &  71 & 139 & 39 & 147 & 0 & 1180 & 2 & 0 & 0 &  1\\\\\n\t42 & NBA & Kent Bazemore    & ATL & SG & 75 & 2077 & 320 &  724 & 109 & 304 & ⋯ &  98 & 138 & 38 & 176 & 2 &  872 & 4 & 0 & 0 & 68\\\\\n\t43 & NBA & Bradley Beal     & WAS & SG & 55 & 1709 & 359 &  799 & 105 & 271 & ⋯ &  54 & 112 & 11 & 117 & 0 &  958 & 0 & 0 & 0 & 35\\\\\n\t54 & NBA & Bojan Bogdanovic & BRO & SG & 79 & 2114 & 324 &  749 & 129 & 337 & ⋯ &  29 & 115 &  5 & 119 & 0 &  887 & 2 & 0 & 0 & 39\\\\\n\t57 & NBA & Devin Booker     & PHO & SG & 76 & 2110 & 367 &  867 &  99 & 289 & ⋯ &  44 & 160 & 20 & 225 & 5 & 1048 & 0 & 0 & 0 & 51\\\\\n\t62 & NBA & Corey Brewer     & HOU & SG & 82 & 1670 & 212 &  552 &  61 & 225 & ⋯ &  84 &  78 & 19 & 168 & 1 &  590 & 0 & 0 & 0 & 12\\\\\n\t66 & NBA & Markel Brown     & BRO & SG & 62 &  989 & 127 &  322 &  38 & 121 & ⋯ &  38 &  54 & 15 &  94 & 1 &  363 & 1 & 0 & 0 &  6\\\\\n\t67 & NBA & Kobe Bryant      & LAL & SG & 66 & 1861 & 398 & 1112 & 133 & 466 & ⋯ &  62 & 130 & 13 & 115 & 0 & 1161 & 1 & 0 & 0 & 66\\\\\n\t73 & NBA & Jimmy Butler     & CHI & SG & 67 & 2473 & 470 & 1034 &  64 & 206 & ⋯ & 110 & 132 & 43 & 124 & 1 & 1399 & 1 & 0 & 0 & 67\\\\\n\t77 & NBA & Ke Caldwell-pope & DET & SG & 76 & 2789 & 403 &  960 & 114 & 368 & ⋯ & 110 & 105 & 17 & 167 & 0 & 1105 & 3 & 0 & 0 & 76\\\\\n\t81 & NBA & Vince Carter     & MEM & SG & 60 & 1009 & 133 &  343 &  59 & 169 & ⋯ &  38 &  35 & 16 & 101 & 0 &  395 & 1 & 0 & 0 &  3\\\\\n\t88 & NBA & Ian Clark        & GSW & SG & 66 &  579 &  89 &  202 &  30 &  84 & ⋯ &  17 &  43 & 13 &  58 & 0 &  236 & 1 & 0 & 0 &  1\\\\\n\t95 & NBA & Pat Connaughton  & POR & SG & 34 &  147 &  13 &   49 &   5 &  21 & ⋯ &   2 &  10 &  0 &   6 & 0 &   36 & 0 & 0 & 0 &  0\\\\\n\t101 & NBA & Jamal Crawford   & LAC & SG & 79 & 2126 & 379 &  940 & 117 & 345 & ⋯ &  52 & 113 & 12 & 122 & 0 & 1120 & 3 & 0 & 0 &  5\\\\\n\t104 & NBA & Jared Cunningham & MIL & SG & 45 &  415 &  36 &  105 &  12 &  39 & ⋯ &  14 &  21 &  2 &  42 & 0 &  120 & 0 & 0 & 0 &  3\\\\\n\t105 & NBA & Seth Curry       & SAC & SG & 44 &  694 & 102 &  224 &  50 & 111 & ⋯ &  22 &  36 &  3 &  41 & 0 &  299 & 0 & 0 & 0 &  9\\\\\n\t107 & NBA & Troy Daniels     & CHA & SG & 43 &  478 &  89 &  187 &  59 & 122 & ⋯ &  11 &  24 &  3 &  40 & 0 &  242 & 0 & 0 & 0 &  0\\\\\n\t112 & NBA & Bry Dejean-jones & NOR & SG & 11 &  271 &  27 &   67 &  11 &  30 & ⋯ &  10 &  11 &  2 &  16 & 0 &   76 & 0 & 0 & 0 & 11\\\\\n\t116 & NBA & Demar Derozan    & TOR & SG & 78 & 2804 & 614 & 1377 &  47 & 139 & ⋯ &  82 & 174 & 21 & 167 & 0 & 1830 & 2 & 0 & 0 & 78\\\\\n\t121 & NBA & Goran Dragic     & MIA & SG & 72 & 2362 & 417 &  875 &  64 & 205 & ⋯ &  71 & 185 & 17 & 188 & 1 & 1018 & 1 & 0 & 0 & 72\\\\\n\t123 & NBA & Jared Dudley     & WAS & SG & 81 & 2098 & 233 &  487 & 100 & 239 & ⋯ &  75 &  80 & 18 & 190 & 1 &  638 & 1 & 0 & 0 & 41\\\\\n\t126 & NBA & Mike Dunleavy    & CHI & SG & 31 &  702 &  77 &  188 &  39 &  99 & ⋯ &  14 &  26 & 10 &  66 & 0 &  222 & 0 & 0 & 0 & 30\\\\\n\t129 & NBA & Jarell Eddie     & WAS & SG & 26 &  147 &  20 &   65 &  15 &  47 & ⋯ &   5 &   1 &  1 &   5 & 0 &   63 & 0 & 0 & 0 &  0\\\\\n\t⋮ & ⋮ & ⋮ & ⋮ & ⋮ & ⋮ & ⋮ & ⋮ & ⋮ & ⋮ & ⋮ & ⋱ & ⋮ & ⋮ & ⋮ & ⋮ & ⋮ & ⋮ & ⋮ & ⋮ & ⋮ & ⋮\\\\\n\t363 & NBA & Norman Powell    & TOR & SG & 49 &  729 &  97 &  229 &  36 &  88 & ⋯ & 29 &  32 & 10 &  59 & 0 &  273 & 0 & 0 & 0 & 24\\\\\n\t364 & NBA & Phil Pressey     & PHO & SG & 22 &  280 &  30 &   77 &   4 &  17 & ⋯ & 17 &  33 &  4 &  28 & 0 &   77 & 0 & 0 & 0 &  0\\\\\n\t370 & NBA & J.j. Redick      & LAC & SG & 75 & 2098 & 422 &  880 & 200 & 420 & ⋯ & 42 &  79 &  5 & 135 & 0 & 1226 & 1 & 0 & 0 & 75\\\\\n\t372 & NBA & Josh Richardson  & MIA & SG & 52 & 1105 & 123 &  272 &  53 & 115 & ⋯ & 36 &  35 & 25 & 107 & 0 &  341 & 0 & 0 & 0 &  2\\\\\n\t373 & NBA & Austin Rivers    & LAC & SG & 67 & 1466 & 226 &  516 &  62 & 185 & ⋯ & 48 &  61 & 10 & 137 & 1 &  593 & 2 & 0 & 0 &  7\\\\\n\t374 & NBA & Andre Roberson   & OKL & SG & 70 & 1552 & 136 &  274 &  32 & 103 & ⋯ & 54 &  35 & 42 & 133 & 0 &  337 & 1 & 0 & 0 & 70\\\\\n\t385 & NBA & Brandon Rush     & GSW & SG & 72 & 1050 & 111 &  260 &  65 & 157 & ⋯ & 21 &  33 & 23 &  57 & 1 &  305 & 0 & 0 & 0 & 25\\\\\n\t388 & NBA & Jakarr Sampson   & DEN & SG & 73 & 1166 & 140 &  318 &  14 &  63 & ⋯ & 23 &  70 & 33 & 142 & 1 &  374 & 2 & 0 & 0 & 40\\\\\n\t392 & NBA & Thabo Sefolosha  & ATL & SG & 75 & 1749 & 188 &  374 &  42 & 125 & ⋯ & 84 &  68 & 37 & 109 & 0 &  480 & 0 & 0 & 0 & 11\\\\\n\t395 & NBA & Iman Shumpert    & CLE & SG & 54 & 1319 & 114 &  305 &  43 & 146 & ⋯ & 54 &  56 & 19 & 119 & 1 &  311 & 1 & 0 & 0 &  5\\\\\n\t396 & NBA & Jonathon Simmons & SAN & SG & 55 &  811 & 122 &  241 &  18 &  47 & ⋯ & 24 &  53 &  5 & 103 & 0 &  331 & 0 & 0 & 0 &  2\\\\\n\t403 & NBA & J.r. Smith       & CLE & SG & 77 & 2367 & 353 &  849 & 204 & 510 & ⋯ & 81 &  59 & 21 & 204 & 1 &  955 & 3 & 0 & 0 & 77\\\\\n\t410 & NBA & Nik Stauskas     & PHI & SG & 73 & 1798 & 210 &  542 & 106 & 324 & ⋯ & 44 &  93 & 20 & 111 & 0 &  617 & 0 & 0 & 0 & 35\\\\\n\t420 & NBA & Garrett Temple   & WAS & SG & 80 & 1951 & 201 &  505 &  89 & 257 & ⋯ & 69 &  64 & 18 & 195 & 3 &  582 & 0 & 0 & 0 & 43\\\\\n\t421 & NBA & Jason Terry      & HOU & SG & 72 & 1261 & 151 &  376 &  93 & 261 & ⋯ & 47 &  49 &  9 &  91 & 0 &  422 & 1 & 0 & 0 &  7\\\\\n\t424 & NBA & Hollis Thompson  & PHI & SG & 77 & 2158 & 270 &  681 & 149 & 393 & ⋯ & 36 &  76 & 24 & 187 & 2 &  758 & 0 & 0 & 0 & 17\\\\\n\t426 & NBA & Klay Thompson    & GSW & SG & 80 & 2661 & 651 & 1386 & 276 & 648 & ⋯ & 60 & 138 & 50 & 152 & 0 & 1771 & 0 & 0 & 0 & 80\\\\\n\t428 & NBA & Marcus Thornton  & WAS & SG & 61 & 1110 & 216 &  542 &  91 & 271 & ⋯ & 47 &  51 &  4 &  90 & 0 &  590 & 0 & 0 & 0 &  8\\\\\n\t430 & NBA & Axel Toupane     & DEN & SG & 21 &  307 &  25 &   70 &  13 &  40 & ⋯ &  7 &   6 &  6 &  40 & 0 &   76 & 0 & 0 & 0 &  0\\\\\n\t433 & NBA & Evan Turner      & BOS & SG & 81 & 2270 & 343 &  753 &  20 &  83 & ⋯ & 80 & 169 & 28 & 139 & 0 &  854 & 2 & 0 & 0 & 12\\\\\n\t439 & NBA & Rashad Vaughn    & MIL & SG & 70 & 1000 &  82 &  266 &  44 & 147 & ⋯ & 29 &  28 & 16 &  73 & 0 &  220 & 0 & 0 & 0 &  6\\\\\n\t443 & NBA & Sasha Vujacic    & NYK & SG & 61 &  910 & 106 &  277 &  52 & 143 & ⋯ & 34 &  44 &  5 &  83 & 0 &  296 & 1 & 0 & 0 & 25\\\\\n\t444 & NBA & Dwyane Wade      & MIA & SG & 74 & 2258 & 540 & 1183 &   7 &  44 & ⋯ & 79 & 203 & 42 & 116 & 0 & 1409 & 3 & 0 & 0 & 73\\\\\n\t445 & NBA & Dion Waiters     & OKL & SG & 78 & 2157 & 282 &  705 &  86 & 241 & ⋯ & 81 & 120 & 15 & 143 & 0 &  762 & 4 & 0 & 0 & 15\\\\\n\t451 & NBA & Sonny Weems      & PHI & SG & 43 &  501 &  42 &  111 &  15 &  42 & ⋯ & 10 &  41 &  1 &  47 & 0 &  107 & 0 & 0 & 0 &  0\\\\\n\t457 & NBA & C.j. Wilcox      & LAC & SG & 23 &  168 &  26 &   66 &   9 &  23 & ⋯ & 10 &   2 &  2 &  15 & 0 &   70 & 0 & 0 & 0 &  0\\\\\n\t461 & NBA & Elliot Williams  & MEM & SG &  5 &   46 &   2 &   10 &   1 &   4 & ⋯ &  1 &   1 &  0 &   2 & 0 &    8 & 0 & 0 & 0 &  0\\\\\n\t462 & NBA & Louis Williams   & LAL & SG & 67 & 1911 & 283 &  695 & 110 & 321 & ⋯ & 62 & 107 & 19 & 107 & 1 & 1028 & 1 & 0 & 0 & 35\\\\\n\t470 & NBA & Tony Wroten      & PHI & SG &  8 &  145 &  22 &   65 &   3 &  17 & ⋯ &  3 &  29 &  0 &  11 & 0 &   67 & 0 & 0 & 0 &  3\\\\\n\t471 & NBA & James Young      & BOS & SG & 29 &  200 &  11 &   36 &   6 &  26 & ⋯ &  6 &   5 &  1 &  17 & 0 &   29 & 0 & 0 & 0 &  0\\\\\n\\end{tabular}\n",
            "text/markdown": "\nA data.frame: 109 × 25\n\n| <!--/--> | League &lt;fct&gt; | Name &lt;chr&gt; | Team &lt;fct&gt; | Position &lt;fct&gt; | GamesPlayed &lt;int&gt; | TotalMinutesPlayed &lt;int&gt; | FieldGoalsMade &lt;int&gt; | FieldGoalsAttempted &lt;int&gt; | ThreesMade &lt;int&gt; | ThreesAttempted &lt;int&gt; | ⋯ ⋯ | Steals &lt;int&gt; | Turnovers &lt;int&gt; | Blocks &lt;int&gt; | PersonalFouls &lt;int&gt; | Disqualifications &lt;int&gt; | TotalPoints &lt;int&gt; | Technicals &lt;int&gt; | Ejections &lt;int&gt; | FlagrantFouls &lt;int&gt; | GamesStarted &lt;int&gt; |\n|---|---|---|---|---|---|---|---|---|---|---|---|---|---|---|---|---|---|---|---|---|---|\n| 2 | NBA | Jordan Adams     | MEM | SG |  2 |   15 |   2 |    6 |   0 |   1 | ⋯ |   3 |   2 |  0 |   2 | 0 |    7 | 0 | 0 | 0 |  0 |\n| 4 | NBA | Arron Afflalo    | NYK | SG | 71 | 2359 | 354 |  799 |  91 | 238 | ⋯ |  25 |  82 | 10 | 142 | 1 |  909 | 1 | 0 | 0 | 57 |\n| 10 | NBA | Tony Allen       | MEM | SG | 64 | 1622 | 215 |  469 |  15 |  42 | ⋯ | 109 |  78 | 18 | 175 | 1 |  535 | 1 | 0 | 0 | 56 |\n| 14 | NBA | Alan Anderson    | WAS | SG | 13 |  193 |  21 |   59 |  12 |  37 | ⋯ |   4 |   2 |  1 |  25 | 0 |   65 | 0 | 0 | 0 |  0 |\n| 15 | NBA | James Anderson   | SAC | SG | 51 |  721 |  67 |  178 |  23 |  86 | ⋯ |  21 |  42 | 14 |  54 | 0 |  179 | 0 | 0 | 0 | 15 |\n| 16 | NBA | Justin Anderson  | DAL | SG | 55 |  644 |  71 |  176 |  22 |  83 | ⋯ |  19 |  24 | 25 |  45 | 0 |  208 | 0 | 0 | 0 |  9 |\n| 32 | NBA | Leandro Barbosa  | GSW | SG | 68 | 1079 | 171 |  370 |  39 | 111 | ⋯ |  44 |  53 | 10 | 107 | 0 |  433 | 1 | 0 | 0 |  0 |\n| 37 | NBA | Will Barton      | DEN | SG | 82 | 2355 | 426 |  984 | 112 | 324 | ⋯ |  71 | 139 | 39 | 147 | 0 | 1180 | 2 | 0 | 0 |  1 |\n| 42 | NBA | Kent Bazemore    | ATL | SG | 75 | 2077 | 320 |  724 | 109 | 304 | ⋯ |  98 | 138 | 38 | 176 | 2 |  872 | 4 | 0 | 0 | 68 |\n| 43 | NBA | Bradley Beal     | WAS | SG | 55 | 1709 | 359 |  799 | 105 | 271 | ⋯ |  54 | 112 | 11 | 117 | 0 |  958 | 0 | 0 | 0 | 35 |\n| 54 | NBA | Bojan Bogdanovic | BRO | SG | 79 | 2114 | 324 |  749 | 129 | 337 | ⋯ |  29 | 115 |  5 | 119 | 0 |  887 | 2 | 0 | 0 | 39 |\n| 57 | NBA | Devin Booker     | PHO | SG | 76 | 2110 | 367 |  867 |  99 | 289 | ⋯ |  44 | 160 | 20 | 225 | 5 | 1048 | 0 | 0 | 0 | 51 |\n| 62 | NBA | Corey Brewer     | HOU | SG | 82 | 1670 | 212 |  552 |  61 | 225 | ⋯ |  84 |  78 | 19 | 168 | 1 |  590 | 0 | 0 | 0 | 12 |\n| 66 | NBA | Markel Brown     | BRO | SG | 62 |  989 | 127 |  322 |  38 | 121 | ⋯ |  38 |  54 | 15 |  94 | 1 |  363 | 1 | 0 | 0 |  6 |\n| 67 | NBA | Kobe Bryant      | LAL | SG | 66 | 1861 | 398 | 1112 | 133 | 466 | ⋯ |  62 | 130 | 13 | 115 | 0 | 1161 | 1 | 0 | 0 | 66 |\n| 73 | NBA | Jimmy Butler     | CHI | SG | 67 | 2473 | 470 | 1034 |  64 | 206 | ⋯ | 110 | 132 | 43 | 124 | 1 | 1399 | 1 | 0 | 0 | 67 |\n| 77 | NBA | Ke Caldwell-pope | DET | SG | 76 | 2789 | 403 |  960 | 114 | 368 | ⋯ | 110 | 105 | 17 | 167 | 0 | 1105 | 3 | 0 | 0 | 76 |\n| 81 | NBA | Vince Carter     | MEM | SG | 60 | 1009 | 133 |  343 |  59 | 169 | ⋯ |  38 |  35 | 16 | 101 | 0 |  395 | 1 | 0 | 0 |  3 |\n| 88 | NBA | Ian Clark        | GSW | SG | 66 |  579 |  89 |  202 |  30 |  84 | ⋯ |  17 |  43 | 13 |  58 | 0 |  236 | 1 | 0 | 0 |  1 |\n| 95 | NBA | Pat Connaughton  | POR | SG | 34 |  147 |  13 |   49 |   5 |  21 | ⋯ |   2 |  10 |  0 |   6 | 0 |   36 | 0 | 0 | 0 |  0 |\n| 101 | NBA | Jamal Crawford   | LAC | SG | 79 | 2126 | 379 |  940 | 117 | 345 | ⋯ |  52 | 113 | 12 | 122 | 0 | 1120 | 3 | 0 | 0 |  5 |\n| 104 | NBA | Jared Cunningham | MIL | SG | 45 |  415 |  36 |  105 |  12 |  39 | ⋯ |  14 |  21 |  2 |  42 | 0 |  120 | 0 | 0 | 0 |  3 |\n| 105 | NBA | Seth Curry       | SAC | SG | 44 |  694 | 102 |  224 |  50 | 111 | ⋯ |  22 |  36 |  3 |  41 | 0 |  299 | 0 | 0 | 0 |  9 |\n| 107 | NBA | Troy Daniels     | CHA | SG | 43 |  478 |  89 |  187 |  59 | 122 | ⋯ |  11 |  24 |  3 |  40 | 0 |  242 | 0 | 0 | 0 |  0 |\n| 112 | NBA | Bry Dejean-jones | NOR | SG | 11 |  271 |  27 |   67 |  11 |  30 | ⋯ |  10 |  11 |  2 |  16 | 0 |   76 | 0 | 0 | 0 | 11 |\n| 116 | NBA | Demar Derozan    | TOR | SG | 78 | 2804 | 614 | 1377 |  47 | 139 | ⋯ |  82 | 174 | 21 | 167 | 0 | 1830 | 2 | 0 | 0 | 78 |\n| 121 | NBA | Goran Dragic     | MIA | SG | 72 | 2362 | 417 |  875 |  64 | 205 | ⋯ |  71 | 185 | 17 | 188 | 1 | 1018 | 1 | 0 | 0 | 72 |\n| 123 | NBA | Jared Dudley     | WAS | SG | 81 | 2098 | 233 |  487 | 100 | 239 | ⋯ |  75 |  80 | 18 | 190 | 1 |  638 | 1 | 0 | 0 | 41 |\n| 126 | NBA | Mike Dunleavy    | CHI | SG | 31 |  702 |  77 |  188 |  39 |  99 | ⋯ |  14 |  26 | 10 |  66 | 0 |  222 | 0 | 0 | 0 | 30 |\n| 129 | NBA | Jarell Eddie     | WAS | SG | 26 |  147 |  20 |   65 |  15 |  47 | ⋯ |   5 |   1 |  1 |   5 | 0 |   63 | 0 | 0 | 0 |  0 |\n| ⋮ | ⋮ | ⋮ | ⋮ | ⋮ | ⋮ | ⋮ | ⋮ | ⋮ | ⋮ | ⋮ | ⋱ | ⋮ | ⋮ | ⋮ | ⋮ | ⋮ | ⋮ | ⋮ | ⋮ | ⋮ | ⋮ |\n| 363 | NBA | Norman Powell    | TOR | SG | 49 |  729 |  97 |  229 |  36 |  88 | ⋯ | 29 |  32 | 10 |  59 | 0 |  273 | 0 | 0 | 0 | 24 |\n| 364 | NBA | Phil Pressey     | PHO | SG | 22 |  280 |  30 |   77 |   4 |  17 | ⋯ | 17 |  33 |  4 |  28 | 0 |   77 | 0 | 0 | 0 |  0 |\n| 370 | NBA | J.j. Redick      | LAC | SG | 75 | 2098 | 422 |  880 | 200 | 420 | ⋯ | 42 |  79 |  5 | 135 | 0 | 1226 | 1 | 0 | 0 | 75 |\n| 372 | NBA | Josh Richardson  | MIA | SG | 52 | 1105 | 123 |  272 |  53 | 115 | ⋯ | 36 |  35 | 25 | 107 | 0 |  341 | 0 | 0 | 0 |  2 |\n| 373 | NBA | Austin Rivers    | LAC | SG | 67 | 1466 | 226 |  516 |  62 | 185 | ⋯ | 48 |  61 | 10 | 137 | 1 |  593 | 2 | 0 | 0 |  7 |\n| 374 | NBA | Andre Roberson   | OKL | SG | 70 | 1552 | 136 |  274 |  32 | 103 | ⋯ | 54 |  35 | 42 | 133 | 0 |  337 | 1 | 0 | 0 | 70 |\n| 385 | NBA | Brandon Rush     | GSW | SG | 72 | 1050 | 111 |  260 |  65 | 157 | ⋯ | 21 |  33 | 23 |  57 | 1 |  305 | 0 | 0 | 0 | 25 |\n| 388 | NBA | Jakarr Sampson   | DEN | SG | 73 | 1166 | 140 |  318 |  14 |  63 | ⋯ | 23 |  70 | 33 | 142 | 1 |  374 | 2 | 0 | 0 | 40 |\n| 392 | NBA | Thabo Sefolosha  | ATL | SG | 75 | 1749 | 188 |  374 |  42 | 125 | ⋯ | 84 |  68 | 37 | 109 | 0 |  480 | 0 | 0 | 0 | 11 |\n| 395 | NBA | Iman Shumpert    | CLE | SG | 54 | 1319 | 114 |  305 |  43 | 146 | ⋯ | 54 |  56 | 19 | 119 | 1 |  311 | 1 | 0 | 0 |  5 |\n| 396 | NBA | Jonathon Simmons | SAN | SG | 55 |  811 | 122 |  241 |  18 |  47 | ⋯ | 24 |  53 |  5 | 103 | 0 |  331 | 0 | 0 | 0 |  2 |\n| 403 | NBA | J.r. Smith       | CLE | SG | 77 | 2367 | 353 |  849 | 204 | 510 | ⋯ | 81 |  59 | 21 | 204 | 1 |  955 | 3 | 0 | 0 | 77 |\n| 410 | NBA | Nik Stauskas     | PHI | SG | 73 | 1798 | 210 |  542 | 106 | 324 | ⋯ | 44 |  93 | 20 | 111 | 0 |  617 | 0 | 0 | 0 | 35 |\n| 420 | NBA | Garrett Temple   | WAS | SG | 80 | 1951 | 201 |  505 |  89 | 257 | ⋯ | 69 |  64 | 18 | 195 | 3 |  582 | 0 | 0 | 0 | 43 |\n| 421 | NBA | Jason Terry      | HOU | SG | 72 | 1261 | 151 |  376 |  93 | 261 | ⋯ | 47 |  49 |  9 |  91 | 0 |  422 | 1 | 0 | 0 |  7 |\n| 424 | NBA | Hollis Thompson  | PHI | SG | 77 | 2158 | 270 |  681 | 149 | 393 | ⋯ | 36 |  76 | 24 | 187 | 2 |  758 | 0 | 0 | 0 | 17 |\n| 426 | NBA | Klay Thompson    | GSW | SG | 80 | 2661 | 651 | 1386 | 276 | 648 | ⋯ | 60 | 138 | 50 | 152 | 0 | 1771 | 0 | 0 | 0 | 80 |\n| 428 | NBA | Marcus Thornton  | WAS | SG | 61 | 1110 | 216 |  542 |  91 | 271 | ⋯ | 47 |  51 |  4 |  90 | 0 |  590 | 0 | 0 | 0 |  8 |\n| 430 | NBA | Axel Toupane     | DEN | SG | 21 |  307 |  25 |   70 |  13 |  40 | ⋯ |  7 |   6 |  6 |  40 | 0 |   76 | 0 | 0 | 0 |  0 |\n| 433 | NBA | Evan Turner      | BOS | SG | 81 | 2270 | 343 |  753 |  20 |  83 | ⋯ | 80 | 169 | 28 | 139 | 0 |  854 | 2 | 0 | 0 | 12 |\n| 439 | NBA | Rashad Vaughn    | MIL | SG | 70 | 1000 |  82 |  266 |  44 | 147 | ⋯ | 29 |  28 | 16 |  73 | 0 |  220 | 0 | 0 | 0 |  6 |\n| 443 | NBA | Sasha Vujacic    | NYK | SG | 61 |  910 | 106 |  277 |  52 | 143 | ⋯ | 34 |  44 |  5 |  83 | 0 |  296 | 1 | 0 | 0 | 25 |\n| 444 | NBA | Dwyane Wade      | MIA | SG | 74 | 2258 | 540 | 1183 |   7 |  44 | ⋯ | 79 | 203 | 42 | 116 | 0 | 1409 | 3 | 0 | 0 | 73 |\n| 445 | NBA | Dion Waiters     | OKL | SG | 78 | 2157 | 282 |  705 |  86 | 241 | ⋯ | 81 | 120 | 15 | 143 | 0 |  762 | 4 | 0 | 0 | 15 |\n| 451 | NBA | Sonny Weems      | PHI | SG | 43 |  501 |  42 |  111 |  15 |  42 | ⋯ | 10 |  41 |  1 |  47 | 0 |  107 | 0 | 0 | 0 |  0 |\n| 457 | NBA | C.j. Wilcox      | LAC | SG | 23 |  168 |  26 |   66 |   9 |  23 | ⋯ | 10 |   2 |  2 |  15 | 0 |   70 | 0 | 0 | 0 |  0 |\n| 461 | NBA | Elliot Williams  | MEM | SG |  5 |   46 |   2 |   10 |   1 |   4 | ⋯ |  1 |   1 |  0 |   2 | 0 |    8 | 0 | 0 | 0 |  0 |\n| 462 | NBA | Louis Williams   | LAL | SG | 67 | 1911 | 283 |  695 | 110 | 321 | ⋯ | 62 | 107 | 19 | 107 | 1 | 1028 | 1 | 0 | 0 | 35 |\n| 470 | NBA | Tony Wroten      | PHI | SG |  8 |  145 |  22 |   65 |   3 |  17 | ⋯ |  3 |  29 |  0 |  11 | 0 |   67 | 0 | 0 | 0 |  3 |\n| 471 | NBA | James Young      | BOS | SG | 29 |  200 |  11 |   36 |   6 |  26 | ⋯ |  6 |   5 |  1 |  17 | 0 |   29 | 0 | 0 | 0 |  0 |\n\n",
            "text/html": [
              "<table class=\"dataframe\">\n",
              "<caption>A data.frame: 109 × 25</caption>\n",
              "<thead>\n",
              "\t<tr><th></th><th scope=col>League</th><th scope=col>Name</th><th scope=col>Team</th><th scope=col>Position</th><th scope=col>GamesPlayed</th><th scope=col>TotalMinutesPlayed</th><th scope=col>FieldGoalsMade</th><th scope=col>FieldGoalsAttempted</th><th scope=col>ThreesMade</th><th scope=col>ThreesAttempted</th><th scope=col>⋯</th><th scope=col>Steals</th><th scope=col>Turnovers</th><th scope=col>Blocks</th><th scope=col>PersonalFouls</th><th scope=col>Disqualifications</th><th scope=col>TotalPoints</th><th scope=col>Technicals</th><th scope=col>Ejections</th><th scope=col>FlagrantFouls</th><th scope=col>GamesStarted</th></tr>\n",
              "\t<tr><th></th><th scope=col>&lt;fct&gt;</th><th scope=col>&lt;chr&gt;</th><th scope=col>&lt;fct&gt;</th><th scope=col>&lt;fct&gt;</th><th scope=col>&lt;int&gt;</th><th scope=col>&lt;int&gt;</th><th scope=col>&lt;int&gt;</th><th scope=col>&lt;int&gt;</th><th scope=col>&lt;int&gt;</th><th scope=col>&lt;int&gt;</th><th scope=col>⋯</th><th scope=col>&lt;int&gt;</th><th scope=col>&lt;int&gt;</th><th scope=col>&lt;int&gt;</th><th scope=col>&lt;int&gt;</th><th scope=col>&lt;int&gt;</th><th scope=col>&lt;int&gt;</th><th scope=col>&lt;int&gt;</th><th scope=col>&lt;int&gt;</th><th scope=col>&lt;int&gt;</th><th scope=col>&lt;int&gt;</th></tr>\n",
              "</thead>\n",
              "<tbody>\n",
              "\t<tr><th scope=row>2</th><td>NBA</td><td>Jordan Adams    </td><td>MEM</td><td>SG</td><td> 2</td><td>  15</td><td>  2</td><td>   6</td><td>  0</td><td>  1</td><td>⋯</td><td>  3</td><td>  2</td><td> 0</td><td>  2</td><td>0</td><td>   7</td><td>0</td><td>0</td><td>0</td><td> 0</td></tr>\n",
              "\t<tr><th scope=row>4</th><td>NBA</td><td>Arron Afflalo   </td><td>NYK</td><td>SG</td><td>71</td><td>2359</td><td>354</td><td> 799</td><td> 91</td><td>238</td><td>⋯</td><td> 25</td><td> 82</td><td>10</td><td>142</td><td>1</td><td> 909</td><td>1</td><td>0</td><td>0</td><td>57</td></tr>\n",
              "\t<tr><th scope=row>10</th><td>NBA</td><td>Tony Allen      </td><td>MEM</td><td>SG</td><td>64</td><td>1622</td><td>215</td><td> 469</td><td> 15</td><td> 42</td><td>⋯</td><td>109</td><td> 78</td><td>18</td><td>175</td><td>1</td><td> 535</td><td>1</td><td>0</td><td>0</td><td>56</td></tr>\n",
              "\t<tr><th scope=row>14</th><td>NBA</td><td>Alan Anderson   </td><td>WAS</td><td>SG</td><td>13</td><td> 193</td><td> 21</td><td>  59</td><td> 12</td><td> 37</td><td>⋯</td><td>  4</td><td>  2</td><td> 1</td><td> 25</td><td>0</td><td>  65</td><td>0</td><td>0</td><td>0</td><td> 0</td></tr>\n",
              "\t<tr><th scope=row>15</th><td>NBA</td><td>James Anderson  </td><td>SAC</td><td>SG</td><td>51</td><td> 721</td><td> 67</td><td> 178</td><td> 23</td><td> 86</td><td>⋯</td><td> 21</td><td> 42</td><td>14</td><td> 54</td><td>0</td><td> 179</td><td>0</td><td>0</td><td>0</td><td>15</td></tr>\n",
              "\t<tr><th scope=row>16</th><td>NBA</td><td>Justin Anderson </td><td>DAL</td><td>SG</td><td>55</td><td> 644</td><td> 71</td><td> 176</td><td> 22</td><td> 83</td><td>⋯</td><td> 19</td><td> 24</td><td>25</td><td> 45</td><td>0</td><td> 208</td><td>0</td><td>0</td><td>0</td><td> 9</td></tr>\n",
              "\t<tr><th scope=row>32</th><td>NBA</td><td>Leandro Barbosa </td><td>GSW</td><td>SG</td><td>68</td><td>1079</td><td>171</td><td> 370</td><td> 39</td><td>111</td><td>⋯</td><td> 44</td><td> 53</td><td>10</td><td>107</td><td>0</td><td> 433</td><td>1</td><td>0</td><td>0</td><td> 0</td></tr>\n",
              "\t<tr><th scope=row>37</th><td>NBA</td><td>Will Barton     </td><td>DEN</td><td>SG</td><td>82</td><td>2355</td><td>426</td><td> 984</td><td>112</td><td>324</td><td>⋯</td><td> 71</td><td>139</td><td>39</td><td>147</td><td>0</td><td>1180</td><td>2</td><td>0</td><td>0</td><td> 1</td></tr>\n",
              "\t<tr><th scope=row>42</th><td>NBA</td><td>Kent Bazemore   </td><td>ATL</td><td>SG</td><td>75</td><td>2077</td><td>320</td><td> 724</td><td>109</td><td>304</td><td>⋯</td><td> 98</td><td>138</td><td>38</td><td>176</td><td>2</td><td> 872</td><td>4</td><td>0</td><td>0</td><td>68</td></tr>\n",
              "\t<tr><th scope=row>43</th><td>NBA</td><td>Bradley Beal    </td><td>WAS</td><td>SG</td><td>55</td><td>1709</td><td>359</td><td> 799</td><td>105</td><td>271</td><td>⋯</td><td> 54</td><td>112</td><td>11</td><td>117</td><td>0</td><td> 958</td><td>0</td><td>0</td><td>0</td><td>35</td></tr>\n",
              "\t<tr><th scope=row>54</th><td>NBA</td><td>Bojan Bogdanovic</td><td>BRO</td><td>SG</td><td>79</td><td>2114</td><td>324</td><td> 749</td><td>129</td><td>337</td><td>⋯</td><td> 29</td><td>115</td><td> 5</td><td>119</td><td>0</td><td> 887</td><td>2</td><td>0</td><td>0</td><td>39</td></tr>\n",
              "\t<tr><th scope=row>57</th><td>NBA</td><td>Devin Booker    </td><td>PHO</td><td>SG</td><td>76</td><td>2110</td><td>367</td><td> 867</td><td> 99</td><td>289</td><td>⋯</td><td> 44</td><td>160</td><td>20</td><td>225</td><td>5</td><td>1048</td><td>0</td><td>0</td><td>0</td><td>51</td></tr>\n",
              "\t<tr><th scope=row>62</th><td>NBA</td><td>Corey Brewer    </td><td>HOU</td><td>SG</td><td>82</td><td>1670</td><td>212</td><td> 552</td><td> 61</td><td>225</td><td>⋯</td><td> 84</td><td> 78</td><td>19</td><td>168</td><td>1</td><td> 590</td><td>0</td><td>0</td><td>0</td><td>12</td></tr>\n",
              "\t<tr><th scope=row>66</th><td>NBA</td><td>Markel Brown    </td><td>BRO</td><td>SG</td><td>62</td><td> 989</td><td>127</td><td> 322</td><td> 38</td><td>121</td><td>⋯</td><td> 38</td><td> 54</td><td>15</td><td> 94</td><td>1</td><td> 363</td><td>1</td><td>0</td><td>0</td><td> 6</td></tr>\n",
              "\t<tr><th scope=row>67</th><td>NBA</td><td>Kobe Bryant     </td><td>LAL</td><td>SG</td><td>66</td><td>1861</td><td>398</td><td>1112</td><td>133</td><td>466</td><td>⋯</td><td> 62</td><td>130</td><td>13</td><td>115</td><td>0</td><td>1161</td><td>1</td><td>0</td><td>0</td><td>66</td></tr>\n",
              "\t<tr><th scope=row>73</th><td>NBA</td><td>Jimmy Butler    </td><td>CHI</td><td>SG</td><td>67</td><td>2473</td><td>470</td><td>1034</td><td> 64</td><td>206</td><td>⋯</td><td>110</td><td>132</td><td>43</td><td>124</td><td>1</td><td>1399</td><td>1</td><td>0</td><td>0</td><td>67</td></tr>\n",
              "\t<tr><th scope=row>77</th><td>NBA</td><td>Ke Caldwell-pope</td><td>DET</td><td>SG</td><td>76</td><td>2789</td><td>403</td><td> 960</td><td>114</td><td>368</td><td>⋯</td><td>110</td><td>105</td><td>17</td><td>167</td><td>0</td><td>1105</td><td>3</td><td>0</td><td>0</td><td>76</td></tr>\n",
              "\t<tr><th scope=row>81</th><td>NBA</td><td>Vince Carter    </td><td>MEM</td><td>SG</td><td>60</td><td>1009</td><td>133</td><td> 343</td><td> 59</td><td>169</td><td>⋯</td><td> 38</td><td> 35</td><td>16</td><td>101</td><td>0</td><td> 395</td><td>1</td><td>0</td><td>0</td><td> 3</td></tr>\n",
              "\t<tr><th scope=row>88</th><td>NBA</td><td>Ian Clark       </td><td>GSW</td><td>SG</td><td>66</td><td> 579</td><td> 89</td><td> 202</td><td> 30</td><td> 84</td><td>⋯</td><td> 17</td><td> 43</td><td>13</td><td> 58</td><td>0</td><td> 236</td><td>1</td><td>0</td><td>0</td><td> 1</td></tr>\n",
              "\t<tr><th scope=row>95</th><td>NBA</td><td>Pat Connaughton </td><td>POR</td><td>SG</td><td>34</td><td> 147</td><td> 13</td><td>  49</td><td>  5</td><td> 21</td><td>⋯</td><td>  2</td><td> 10</td><td> 0</td><td>  6</td><td>0</td><td>  36</td><td>0</td><td>0</td><td>0</td><td> 0</td></tr>\n",
              "\t<tr><th scope=row>101</th><td>NBA</td><td>Jamal Crawford  </td><td>LAC</td><td>SG</td><td>79</td><td>2126</td><td>379</td><td> 940</td><td>117</td><td>345</td><td>⋯</td><td> 52</td><td>113</td><td>12</td><td>122</td><td>0</td><td>1120</td><td>3</td><td>0</td><td>0</td><td> 5</td></tr>\n",
              "\t<tr><th scope=row>104</th><td>NBA</td><td>Jared Cunningham</td><td>MIL</td><td>SG</td><td>45</td><td> 415</td><td> 36</td><td> 105</td><td> 12</td><td> 39</td><td>⋯</td><td> 14</td><td> 21</td><td> 2</td><td> 42</td><td>0</td><td> 120</td><td>0</td><td>0</td><td>0</td><td> 3</td></tr>\n",
              "\t<tr><th scope=row>105</th><td>NBA</td><td>Seth Curry      </td><td>SAC</td><td>SG</td><td>44</td><td> 694</td><td>102</td><td> 224</td><td> 50</td><td>111</td><td>⋯</td><td> 22</td><td> 36</td><td> 3</td><td> 41</td><td>0</td><td> 299</td><td>0</td><td>0</td><td>0</td><td> 9</td></tr>\n",
              "\t<tr><th scope=row>107</th><td>NBA</td><td>Troy Daniels    </td><td>CHA</td><td>SG</td><td>43</td><td> 478</td><td> 89</td><td> 187</td><td> 59</td><td>122</td><td>⋯</td><td> 11</td><td> 24</td><td> 3</td><td> 40</td><td>0</td><td> 242</td><td>0</td><td>0</td><td>0</td><td> 0</td></tr>\n",
              "\t<tr><th scope=row>112</th><td>NBA</td><td>Bry Dejean-jones</td><td>NOR</td><td>SG</td><td>11</td><td> 271</td><td> 27</td><td>  67</td><td> 11</td><td> 30</td><td>⋯</td><td> 10</td><td> 11</td><td> 2</td><td> 16</td><td>0</td><td>  76</td><td>0</td><td>0</td><td>0</td><td>11</td></tr>\n",
              "\t<tr><th scope=row>116</th><td>NBA</td><td>Demar Derozan   </td><td>TOR</td><td>SG</td><td>78</td><td>2804</td><td>614</td><td>1377</td><td> 47</td><td>139</td><td>⋯</td><td> 82</td><td>174</td><td>21</td><td>167</td><td>0</td><td>1830</td><td>2</td><td>0</td><td>0</td><td>78</td></tr>\n",
              "\t<tr><th scope=row>121</th><td>NBA</td><td>Goran Dragic    </td><td>MIA</td><td>SG</td><td>72</td><td>2362</td><td>417</td><td> 875</td><td> 64</td><td>205</td><td>⋯</td><td> 71</td><td>185</td><td>17</td><td>188</td><td>1</td><td>1018</td><td>1</td><td>0</td><td>0</td><td>72</td></tr>\n",
              "\t<tr><th scope=row>123</th><td>NBA</td><td>Jared Dudley    </td><td>WAS</td><td>SG</td><td>81</td><td>2098</td><td>233</td><td> 487</td><td>100</td><td>239</td><td>⋯</td><td> 75</td><td> 80</td><td>18</td><td>190</td><td>1</td><td> 638</td><td>1</td><td>0</td><td>0</td><td>41</td></tr>\n",
              "\t<tr><th scope=row>126</th><td>NBA</td><td>Mike Dunleavy   </td><td>CHI</td><td>SG</td><td>31</td><td> 702</td><td> 77</td><td> 188</td><td> 39</td><td> 99</td><td>⋯</td><td> 14</td><td> 26</td><td>10</td><td> 66</td><td>0</td><td> 222</td><td>0</td><td>0</td><td>0</td><td>30</td></tr>\n",
              "\t<tr><th scope=row>129</th><td>NBA</td><td>Jarell Eddie    </td><td>WAS</td><td>SG</td><td>26</td><td> 147</td><td> 20</td><td>  65</td><td> 15</td><td> 47</td><td>⋯</td><td>  5</td><td>  1</td><td> 1</td><td>  5</td><td>0</td><td>  63</td><td>0</td><td>0</td><td>0</td><td> 0</td></tr>\n",
              "\t<tr><th scope=row>⋮</th><td>⋮</td><td>⋮</td><td>⋮</td><td>⋮</td><td>⋮</td><td>⋮</td><td>⋮</td><td>⋮</td><td>⋮</td><td>⋮</td><td>⋱</td><td>⋮</td><td>⋮</td><td>⋮</td><td>⋮</td><td>⋮</td><td>⋮</td><td>⋮</td><td>⋮</td><td>⋮</td><td>⋮</td></tr>\n",
              "\t<tr><th scope=row>363</th><td>NBA</td><td>Norman Powell   </td><td>TOR</td><td>SG</td><td>49</td><td> 729</td><td> 97</td><td> 229</td><td> 36</td><td> 88</td><td>⋯</td><td>29</td><td> 32</td><td>10</td><td> 59</td><td>0</td><td> 273</td><td>0</td><td>0</td><td>0</td><td>24</td></tr>\n",
              "\t<tr><th scope=row>364</th><td>NBA</td><td>Phil Pressey    </td><td>PHO</td><td>SG</td><td>22</td><td> 280</td><td> 30</td><td>  77</td><td>  4</td><td> 17</td><td>⋯</td><td>17</td><td> 33</td><td> 4</td><td> 28</td><td>0</td><td>  77</td><td>0</td><td>0</td><td>0</td><td> 0</td></tr>\n",
              "\t<tr><th scope=row>370</th><td>NBA</td><td>J.j. Redick     </td><td>LAC</td><td>SG</td><td>75</td><td>2098</td><td>422</td><td> 880</td><td>200</td><td>420</td><td>⋯</td><td>42</td><td> 79</td><td> 5</td><td>135</td><td>0</td><td>1226</td><td>1</td><td>0</td><td>0</td><td>75</td></tr>\n",
              "\t<tr><th scope=row>372</th><td>NBA</td><td>Josh Richardson </td><td>MIA</td><td>SG</td><td>52</td><td>1105</td><td>123</td><td> 272</td><td> 53</td><td>115</td><td>⋯</td><td>36</td><td> 35</td><td>25</td><td>107</td><td>0</td><td> 341</td><td>0</td><td>0</td><td>0</td><td> 2</td></tr>\n",
              "\t<tr><th scope=row>373</th><td>NBA</td><td>Austin Rivers   </td><td>LAC</td><td>SG</td><td>67</td><td>1466</td><td>226</td><td> 516</td><td> 62</td><td>185</td><td>⋯</td><td>48</td><td> 61</td><td>10</td><td>137</td><td>1</td><td> 593</td><td>2</td><td>0</td><td>0</td><td> 7</td></tr>\n",
              "\t<tr><th scope=row>374</th><td>NBA</td><td>Andre Roberson  </td><td>OKL</td><td>SG</td><td>70</td><td>1552</td><td>136</td><td> 274</td><td> 32</td><td>103</td><td>⋯</td><td>54</td><td> 35</td><td>42</td><td>133</td><td>0</td><td> 337</td><td>1</td><td>0</td><td>0</td><td>70</td></tr>\n",
              "\t<tr><th scope=row>385</th><td>NBA</td><td>Brandon Rush    </td><td>GSW</td><td>SG</td><td>72</td><td>1050</td><td>111</td><td> 260</td><td> 65</td><td>157</td><td>⋯</td><td>21</td><td> 33</td><td>23</td><td> 57</td><td>1</td><td> 305</td><td>0</td><td>0</td><td>0</td><td>25</td></tr>\n",
              "\t<tr><th scope=row>388</th><td>NBA</td><td>Jakarr Sampson  </td><td>DEN</td><td>SG</td><td>73</td><td>1166</td><td>140</td><td> 318</td><td> 14</td><td> 63</td><td>⋯</td><td>23</td><td> 70</td><td>33</td><td>142</td><td>1</td><td> 374</td><td>2</td><td>0</td><td>0</td><td>40</td></tr>\n",
              "\t<tr><th scope=row>392</th><td>NBA</td><td>Thabo Sefolosha </td><td>ATL</td><td>SG</td><td>75</td><td>1749</td><td>188</td><td> 374</td><td> 42</td><td>125</td><td>⋯</td><td>84</td><td> 68</td><td>37</td><td>109</td><td>0</td><td> 480</td><td>0</td><td>0</td><td>0</td><td>11</td></tr>\n",
              "\t<tr><th scope=row>395</th><td>NBA</td><td>Iman Shumpert   </td><td>CLE</td><td>SG</td><td>54</td><td>1319</td><td>114</td><td> 305</td><td> 43</td><td>146</td><td>⋯</td><td>54</td><td> 56</td><td>19</td><td>119</td><td>1</td><td> 311</td><td>1</td><td>0</td><td>0</td><td> 5</td></tr>\n",
              "\t<tr><th scope=row>396</th><td>NBA</td><td>Jonathon Simmons</td><td>SAN</td><td>SG</td><td>55</td><td> 811</td><td>122</td><td> 241</td><td> 18</td><td> 47</td><td>⋯</td><td>24</td><td> 53</td><td> 5</td><td>103</td><td>0</td><td> 331</td><td>0</td><td>0</td><td>0</td><td> 2</td></tr>\n",
              "\t<tr><th scope=row>403</th><td>NBA</td><td>J.r. Smith      </td><td>CLE</td><td>SG</td><td>77</td><td>2367</td><td>353</td><td> 849</td><td>204</td><td>510</td><td>⋯</td><td>81</td><td> 59</td><td>21</td><td>204</td><td>1</td><td> 955</td><td>3</td><td>0</td><td>0</td><td>77</td></tr>\n",
              "\t<tr><th scope=row>410</th><td>NBA</td><td>Nik Stauskas    </td><td>PHI</td><td>SG</td><td>73</td><td>1798</td><td>210</td><td> 542</td><td>106</td><td>324</td><td>⋯</td><td>44</td><td> 93</td><td>20</td><td>111</td><td>0</td><td> 617</td><td>0</td><td>0</td><td>0</td><td>35</td></tr>\n",
              "\t<tr><th scope=row>420</th><td>NBA</td><td>Garrett Temple  </td><td>WAS</td><td>SG</td><td>80</td><td>1951</td><td>201</td><td> 505</td><td> 89</td><td>257</td><td>⋯</td><td>69</td><td> 64</td><td>18</td><td>195</td><td>3</td><td> 582</td><td>0</td><td>0</td><td>0</td><td>43</td></tr>\n",
              "\t<tr><th scope=row>421</th><td>NBA</td><td>Jason Terry     </td><td>HOU</td><td>SG</td><td>72</td><td>1261</td><td>151</td><td> 376</td><td> 93</td><td>261</td><td>⋯</td><td>47</td><td> 49</td><td> 9</td><td> 91</td><td>0</td><td> 422</td><td>1</td><td>0</td><td>0</td><td> 7</td></tr>\n",
              "\t<tr><th scope=row>424</th><td>NBA</td><td>Hollis Thompson </td><td>PHI</td><td>SG</td><td>77</td><td>2158</td><td>270</td><td> 681</td><td>149</td><td>393</td><td>⋯</td><td>36</td><td> 76</td><td>24</td><td>187</td><td>2</td><td> 758</td><td>0</td><td>0</td><td>0</td><td>17</td></tr>\n",
              "\t<tr><th scope=row>426</th><td>NBA</td><td>Klay Thompson   </td><td>GSW</td><td>SG</td><td>80</td><td>2661</td><td>651</td><td>1386</td><td>276</td><td>648</td><td>⋯</td><td>60</td><td>138</td><td>50</td><td>152</td><td>0</td><td>1771</td><td>0</td><td>0</td><td>0</td><td>80</td></tr>\n",
              "\t<tr><th scope=row>428</th><td>NBA</td><td>Marcus Thornton </td><td>WAS</td><td>SG</td><td>61</td><td>1110</td><td>216</td><td> 542</td><td> 91</td><td>271</td><td>⋯</td><td>47</td><td> 51</td><td> 4</td><td> 90</td><td>0</td><td> 590</td><td>0</td><td>0</td><td>0</td><td> 8</td></tr>\n",
              "\t<tr><th scope=row>430</th><td>NBA</td><td>Axel Toupane    </td><td>DEN</td><td>SG</td><td>21</td><td> 307</td><td> 25</td><td>  70</td><td> 13</td><td> 40</td><td>⋯</td><td> 7</td><td>  6</td><td> 6</td><td> 40</td><td>0</td><td>  76</td><td>0</td><td>0</td><td>0</td><td> 0</td></tr>\n",
              "\t<tr><th scope=row>433</th><td>NBA</td><td>Evan Turner     </td><td>BOS</td><td>SG</td><td>81</td><td>2270</td><td>343</td><td> 753</td><td> 20</td><td> 83</td><td>⋯</td><td>80</td><td>169</td><td>28</td><td>139</td><td>0</td><td> 854</td><td>2</td><td>0</td><td>0</td><td>12</td></tr>\n",
              "\t<tr><th scope=row>439</th><td>NBA</td><td>Rashad Vaughn   </td><td>MIL</td><td>SG</td><td>70</td><td>1000</td><td> 82</td><td> 266</td><td> 44</td><td>147</td><td>⋯</td><td>29</td><td> 28</td><td>16</td><td> 73</td><td>0</td><td> 220</td><td>0</td><td>0</td><td>0</td><td> 6</td></tr>\n",
              "\t<tr><th scope=row>443</th><td>NBA</td><td>Sasha Vujacic   </td><td>NYK</td><td>SG</td><td>61</td><td> 910</td><td>106</td><td> 277</td><td> 52</td><td>143</td><td>⋯</td><td>34</td><td> 44</td><td> 5</td><td> 83</td><td>0</td><td> 296</td><td>1</td><td>0</td><td>0</td><td>25</td></tr>\n",
              "\t<tr><th scope=row>444</th><td>NBA</td><td>Dwyane Wade     </td><td>MIA</td><td>SG</td><td>74</td><td>2258</td><td>540</td><td>1183</td><td>  7</td><td> 44</td><td>⋯</td><td>79</td><td>203</td><td>42</td><td>116</td><td>0</td><td>1409</td><td>3</td><td>0</td><td>0</td><td>73</td></tr>\n",
              "\t<tr><th scope=row>445</th><td>NBA</td><td>Dion Waiters    </td><td>OKL</td><td>SG</td><td>78</td><td>2157</td><td>282</td><td> 705</td><td> 86</td><td>241</td><td>⋯</td><td>81</td><td>120</td><td>15</td><td>143</td><td>0</td><td> 762</td><td>4</td><td>0</td><td>0</td><td>15</td></tr>\n",
              "\t<tr><th scope=row>451</th><td>NBA</td><td>Sonny Weems     </td><td>PHI</td><td>SG</td><td>43</td><td> 501</td><td> 42</td><td> 111</td><td> 15</td><td> 42</td><td>⋯</td><td>10</td><td> 41</td><td> 1</td><td> 47</td><td>0</td><td> 107</td><td>0</td><td>0</td><td>0</td><td> 0</td></tr>\n",
              "\t<tr><th scope=row>457</th><td>NBA</td><td>C.j. Wilcox     </td><td>LAC</td><td>SG</td><td>23</td><td> 168</td><td> 26</td><td>  66</td><td>  9</td><td> 23</td><td>⋯</td><td>10</td><td>  2</td><td> 2</td><td> 15</td><td>0</td><td>  70</td><td>0</td><td>0</td><td>0</td><td> 0</td></tr>\n",
              "\t<tr><th scope=row>461</th><td>NBA</td><td>Elliot Williams </td><td>MEM</td><td>SG</td><td> 5</td><td>  46</td><td>  2</td><td>  10</td><td>  1</td><td>  4</td><td>⋯</td><td> 1</td><td>  1</td><td> 0</td><td>  2</td><td>0</td><td>   8</td><td>0</td><td>0</td><td>0</td><td> 0</td></tr>\n",
              "\t<tr><th scope=row>462</th><td>NBA</td><td>Louis Williams  </td><td>LAL</td><td>SG</td><td>67</td><td>1911</td><td>283</td><td> 695</td><td>110</td><td>321</td><td>⋯</td><td>62</td><td>107</td><td>19</td><td>107</td><td>1</td><td>1028</td><td>1</td><td>0</td><td>0</td><td>35</td></tr>\n",
              "\t<tr><th scope=row>470</th><td>NBA</td><td>Tony Wroten     </td><td>PHI</td><td>SG</td><td> 8</td><td> 145</td><td> 22</td><td>  65</td><td>  3</td><td> 17</td><td>⋯</td><td> 3</td><td> 29</td><td> 0</td><td> 11</td><td>0</td><td>  67</td><td>0</td><td>0</td><td>0</td><td> 3</td></tr>\n",
              "\t<tr><th scope=row>471</th><td>NBA</td><td>James Young     </td><td>BOS</td><td>SG</td><td>29</td><td> 200</td><td> 11</td><td>  36</td><td>  6</td><td> 26</td><td>⋯</td><td> 6</td><td>  5</td><td> 1</td><td> 17</td><td>0</td><td>  29</td><td>0</td><td>0</td><td>0</td><td> 0</td></tr>\n",
              "</tbody>\n",
              "</table>\n"
            ]
          },
          "metadata": {
            "tags": []
          }
        }
      ]
    }
  ]
}