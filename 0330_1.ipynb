{
  "nbformat": 4,
  "nbformat_minor": 0,
  "metadata": {
    "colab": {
      "name": "0330-1.ipynb",
      "provenance": [],
      "collapsed_sections": [],
      "include_colab_link": true
    },
    "kernelspec": {
      "name": "ir",
      "display_name": "R"
    }
  },
  "cells": [
    {
      "cell_type": "markdown",
      "metadata": {
        "id": "view-in-github",
        "colab_type": "text"
      },
      "source": [
        "<a href=\"https://colab.research.google.com/github/kay-liao/bigdata/blob/main/0330_1.ipynb\" target=\"_parent\"><img src=\"https://colab.research.google.com/assets/colab-badge.svg\" alt=\"Open In Colab\"/></a>"
      ]
    },
    {
      "cell_type": "code",
      "metadata": {
        "id": "kPVXoMCgNJoO",
        "colab": {
          "base_uri": "https://localhost:8080/"
        },
        "outputId": "3999fb25-4e1a-43d8-aedc-010b2c19169c"
      },
      "source": [
        "install.packages(\"rJava\")\n",
        "install.packages(\"jiebaR\")\n",
        "install.packages(\"tmcn\")\n",
        "install.packages(\"dplyr\")\n",
        "install.packages(\"lubridate\")\n",
        "install.packages(\"stringr\")\n",
        "install.packages(\"wordcloud\")\n",
        "install.packages(\"wordcloud2\")\n",
        "install.packages(\"Rwordseg\", repos = \"http://R-Forge.R-project.org\")"
      ],
      "execution_count": null,
      "outputs": [
        {
          "output_type": "stream",
          "text": [
            "Installing package into ‘/usr/local/lib/R/site-library’\n",
            "(as ‘lib’ is unspecified)\n",
            "\n",
            "Installing package into ‘/usr/local/lib/R/site-library’\n",
            "(as ‘lib’ is unspecified)\n",
            "\n",
            "also installing the dependency ‘jiebaRD’\n",
            "\n",
            "\n",
            "Installing package into ‘/usr/local/lib/R/site-library’\n",
            "(as ‘lib’ is unspecified)\n",
            "\n",
            "Installing package into ‘/usr/local/lib/R/site-library’\n",
            "(as ‘lib’ is unspecified)\n",
            "\n",
            "Installing package into ‘/usr/local/lib/R/site-library’\n",
            "(as ‘lib’ is unspecified)\n",
            "\n",
            "Installing package into ‘/usr/local/lib/R/site-library’\n",
            "(as ‘lib’ is unspecified)\n",
            "\n",
            "Installing package into ‘/usr/local/lib/R/site-library’\n",
            "(as ‘lib’ is unspecified)\n",
            "\n",
            "Installing package into ‘/usr/local/lib/R/site-library’\n",
            "(as ‘lib’ is unspecified)\n",
            "\n",
            "Installing package into ‘/usr/local/lib/R/site-library’\n",
            "(as ‘lib’ is unspecified)\n",
            "\n",
            "Warning message:\n",
            "“dependency ‘HMM’ is not available”\n",
            "Warning message in install.packages(\"Rwordseg\", repos = \"http://R-Forge.R-project.org\"):\n",
            "“installation of package ‘Rwordseg’ had non-zero exit status”\n"
          ],
          "name": "stderr"
        }
      ]
    },
    {
      "cell_type": "code",
      "metadata": {
        "colab": {
          "base_uri": "https://localhost:8080/"
        },
        "id": "YSRcZ95FPGQE",
        "outputId": "060cca9d-0190-47a5-bcf2-360e092bf41c"
      },
      "source": [
        "library(dplyr)\n",
        "library(lubridate)\n",
        "library(stringr)\n",
        "library(jiebaR)\n",
        "library(wordcloud) # 非互動式文字雲 \n",
        "library(wordcloud2) # 互動式文字雲 "
      ],
      "execution_count": null,
      "outputs": [
        {
          "output_type": "stream",
          "text": [
            "\n",
            "Attaching package: ‘dplyr’\n",
            "\n",
            "\n",
            "The following objects are masked from ‘package:stats’:\n",
            "\n",
            "    filter, lag\n",
            "\n",
            "\n",
            "The following objects are masked from ‘package:base’:\n",
            "\n",
            "    intersect, setdiff, setequal, union\n",
            "\n",
            "\n",
            "Warning message in system(\"timedatectl\", intern = TRUE):\n",
            "“running command 'timedatectl' had status 1”\n",
            "\n",
            "Attaching package: ‘lubridate’\n",
            "\n",
            "\n",
            "The following objects are masked from ‘package:base’:\n",
            "\n",
            "    date, intersect, setdiff, union\n",
            "\n",
            "\n",
            "Loading required package: jiebaRD\n",
            "\n",
            "Loading required package: RColorBrewer\n",
            "\n"
          ],
          "name": "stderr"
        }
      ]
    },
    {
      "cell_type": "code",
      "metadata": {
        "id": "NywpqrQVPgW-"
      },
      "source": [
        "content <- \"嚴重特殊傳染性肺炎疫情持續在全球蔓延，已造成三千多萬人感染，死亡人數破百萬，歐美醫療體系幾近崩潰，各種行動限制對於各國之經濟更有莫大的衝擊。然而台灣未實行大規模封鎖行動，維持正常上班上課與各種經濟活動，至今無大規模疫情爆發，醫療體系也仍能正常提供名眾服務，顯示台灣的防疫政策正確而有效，獲得世界各國高度肯定。國家衛生研究院群體健康科學研究所與感染症與疫苗研究所合作，利用真實數據與數學模型實驗，良好的邊境控管，詳盡的疫情調查，確實的隔離與檢疫，以及民眾遵行防疫措施，為台灣抗疫四大支柱。台灣也對世界各國提供各項協助與經驗分享，期望幫助各國盡快從疫情得陰霾中走出。\""
      ],
      "execution_count": null,
      "outputs": []
    },
    {
      "cell_type": "code",
      "metadata": {
        "colab": {
          "base_uri": "https://localhost:8080/",
          "height": 87
        },
        "id": "8lICyjUiQm2g",
        "outputId": "de4f281f-da54-4578-8751-f811ee041d9f"
      },
      "source": [
        "content"
      ],
      "execution_count": null,
      "outputs": [
        {
          "output_type": "display_data",
          "data": {
            "text/plain": [
              "[1] \"嚴重特殊傳染性肺炎疫情持續在全球蔓延，已造成三千多萬人感染，死亡人數破百萬，歐美醫療體系幾近崩潰，各種行動限制對於各國之經濟更有莫大的衝擊。然而台灣未實行大規模封鎖行動，維持正常上班上課與各種經濟活動，至今無大規模疫情爆發，醫療體系也仍能正常提供名眾服務，顯示台灣的防疫政策正確而有效，獲得世界各國高度肯定。國家衛生研究院群體健康科學研究所與感染症與疫苗研究所合作，利用真實數據與數學模型實驗，良好的邊境控管，詳盡的疫情調查，確實的隔離與檢疫，以及民眾遵行防疫措施，為台灣抗疫四大支柱。台灣也對世界各國提供各項協助與經驗分享，期望幫助各國盡快從疫情得陰霾中走出。\""
            ],
            "text/latex": "'嚴重特殊傳染性肺炎疫情持續在全球蔓延，已造成三千多萬人感染，死亡人數破百萬，歐美醫療體系幾近崩潰，各種行動限制對於各國之經濟更有莫大的衝擊。然而台灣未實行大規模封鎖行動，維持正常上班上課與各種經濟活動，至今無大規模疫情爆發，醫療體系也仍能正常提供名眾服務，顯示台灣的防疫政策正確而有效，獲得世界各國高度肯定。國家衛生研究院群體健康科學研究所與感染症與疫苗研究所合作，利用真實數據與數學模型實驗，良好的邊境控管，詳盡的疫情調查，確實的隔離與檢疫，以及民眾遵行防疫措施，為台灣抗疫四大支柱。台灣也對世界各國提供各項協助與經驗分享，期望幫助各國盡快從疫情得陰霾中走出。'",
            "text/markdown": "'嚴重特殊傳染性肺炎疫情持續在全球蔓延，已造成三千多萬人感染，死亡人數破百萬，歐美醫療體系幾近崩潰，各種行動限制對於各國之經濟更有莫大的衝擊。然而台灣未實行大規模封鎖行動，維持正常上班上課與各種經濟活動，至今無大規模疫情爆發，醫療體系也仍能正常提供名眾服務，顯示台灣的防疫政策正確而有效，獲得世界各國高度肯定。國家衛生研究院群體健康科學研究所與感染症與疫苗研究所合作，利用真實數據與數學模型實驗，良好的邊境控管，詳盡的疫情調查，確實的隔離與檢疫，以及民眾遵行防疫措施，為台灣抗疫四大支柱。台灣也對世界各國提供各項協助與經驗分享，期望幫助各國盡快從疫情得陰霾中走出。'",
            "text/html": [
              "'嚴重特殊傳染性肺炎疫情持續在全球蔓延，已造成三千多萬人感染，死亡人數破百萬，歐美醫療體系幾近崩潰，各種行動限制對於各國之經濟更有莫大的衝擊。然而台灣未實行大規模封鎖行動，維持正常上班上課與各種經濟活動，至今無大規模疫情爆發，醫療體系也仍能正常提供名眾服務，顯示台灣的防疫政策正確而有效，獲得世界各國高度肯定。國家衛生研究院群體健康科學研究所與感染症與疫苗研究所合作，利用真實數據與數學模型實驗，良好的邊境控管，詳盡的疫情調查，確實的隔離與檢疫，以及民眾遵行防疫措施，為台灣抗疫四大支柱。台灣也對世界各國提供各項協助與經驗分享，期望幫助各國盡快從疫情得陰霾中走出。'"
            ]
          },
          "metadata": {
            "tags": []
          }
        }
      ]
    },
    {
      "cell_type": "code",
      "metadata": {
        "id": "jy_auNywQNtS"
      },
      "source": [
        "cutter <- worker(bylines = F) "
      ],
      "execution_count": null,
      "outputs": []
    },
    {
      "cell_type": "code",
      "metadata": {
        "colab": {
          "base_uri": "https://localhost:8080/",
          "height": 121
        },
        "id": "ZfuGfvPqQYrs",
        "outputId": "9c2e6864-970a-4749-da01-520af9a05f7d"
      },
      "source": [
        "cutter[content]"
      ],
      "execution_count": null,
      "outputs": [
        {
          "output_type": "display_data",
          "data": {
            "text/plain": [
              "  [1] \"嚴重\"           \"特殊\"           \"傳染性\"         \"肺炎\"          \n",
              "  [5] \"疫情\"           \"持續\"           \"在\"             \"全球\"          \n",
              "  [9] \"蔓延\"           \"已\"             \"造成\"           \"三千多萬\"      \n",
              " [13] \"人\"             \"感染\"           \"死亡\"           \"人數\"          \n",
              " [17] \"破\"             \"百萬\"           \"歐美\"           \"醫療\"          \n",
              " [21] \"體系\"           \"幾近\"           \"崩潰\"           \"各種\"          \n",
              " [25] \"行動\"           \"限制\"           \"對於\"           \"各國\"          \n",
              " [29] \"之\"             \"經濟\"           \"更\"             \"有\"            \n",
              " [33] \"莫大\"           \"的\"             \"衝擊\"           \"然而\"          \n",
              " [37] \"台灣\"           \"未\"             \"實行\"           \"大規模\"        \n",
              " [41] \"封鎖\"           \"行動\"           \"維持\"           \"正常\"          \n",
              " [45] \"上班\"           \"上課\"           \"與\"             \"各種\"          \n",
              " [49] \"經濟\"           \"活動\"           \"至今\"           \"無\"            \n",
              " [53] \"大規模\"         \"疫情\"           \"爆發\"           \"醫療\"          \n",
              " [57] \"體系\"           \"也\"             \"仍\"             \"能\"            \n",
              " [61] \"正常\"           \"提供\"           \"名眾\"           \"服務\"          \n",
              " [65] \"顯示\"           \"台灣\"           \"的\"             \"防疫\"          \n",
              " [69] \"政策\"           \"正確\"           \"而\"             \"有效\"          \n",
              " [73] \"獲得\"           \"世界\"           \"各國\"           \"高度肯定\"      \n",
              " [77] \"國家衛生研究院\" \"群體\"           \"健康\"           \"科學\"          \n",
              " [81] \"研究所\"         \"與\"             \"感染\"           \"症\"            \n",
              " [85] \"與\"             \"疫苗\"           \"研究所\"         \"合作\"          \n",
              " [89] \"利用\"           \"真實\"           \"數據\"           \"與\"            \n",
              " [93] \"數學模型\"       \"實驗\"           \"良好\"           \"的\"            \n",
              " [97] \"邊境\"           \"控管\"           \"詳盡\"           \"的\"            \n",
              "[101] \"疫情\"           \"調查\"           \"確實\"           \"的\"            \n",
              "[105] \"隔離\"           \"與\"             \"檢疫\"           \"以及\"          \n",
              "[109] \"民眾\"           \"遵行\"           \"防疫\"           \"措施\"          \n",
              "[113] \"為\"             \"台灣\"           \"抗疫\"           \"四大\"          \n",
              "[117] \"支柱\"           \"台灣\"           \"也\"             \"對\"            \n",
              "[121] \"世界\"           \"各國\"           \"提供\"           \"各項\"          \n",
              "[125] \"協助\"           \"與\"             \"經驗\"           \"分享\"          \n",
              "[129] \"期望\"           \"幫助\"           \"各國\"           \"盡快\"          \n",
              "[133] \"從\"             \"疫情\"           \"得\"             \"陰霾\"          \n",
              "[137] \"中\"             \"走出\"          "
            ],
            "text/latex": "\\begin{enumerate*}\n\\item '嚴重'\n\\item '特殊'\n\\item '傳染性'\n\\item '肺炎'\n\\item '疫情'\n\\item '持續'\n\\item '在'\n\\item '全球'\n\\item '蔓延'\n\\item '已'\n\\item '造成'\n\\item '三千多萬'\n\\item '人'\n\\item '感染'\n\\item '死亡'\n\\item '人數'\n\\item '破'\n\\item '百萬'\n\\item '歐美'\n\\item '醫療'\n\\item '體系'\n\\item '幾近'\n\\item '崩潰'\n\\item '各種'\n\\item '行動'\n\\item '限制'\n\\item '對於'\n\\item '各國'\n\\item '之'\n\\item '經濟'\n\\item '更'\n\\item '有'\n\\item '莫大'\n\\item '的'\n\\item '衝擊'\n\\item '然而'\n\\item '台灣'\n\\item '未'\n\\item '實行'\n\\item '大規模'\n\\item '封鎖'\n\\item '行動'\n\\item '維持'\n\\item '正常'\n\\item '上班'\n\\item '上課'\n\\item '與'\n\\item '各種'\n\\item '經濟'\n\\item '活動'\n\\item '至今'\n\\item '無'\n\\item '大規模'\n\\item '疫情'\n\\item '爆發'\n\\item '醫療'\n\\item '體系'\n\\item '也'\n\\item '仍'\n\\item '能'\n\\item '正常'\n\\item '提供'\n\\item '名眾'\n\\item '服務'\n\\item '顯示'\n\\item '台灣'\n\\item '的'\n\\item '防疫'\n\\item '政策'\n\\item '正確'\n\\item '而'\n\\item '有效'\n\\item '獲得'\n\\item '世界'\n\\item '各國'\n\\item '高度肯定'\n\\item '國家衛生研究院'\n\\item '群體'\n\\item '健康'\n\\item '科學'\n\\item '研究所'\n\\item '與'\n\\item '感染'\n\\item '症'\n\\item '與'\n\\item '疫苗'\n\\item '研究所'\n\\item '合作'\n\\item '利用'\n\\item '真實'\n\\item '數據'\n\\item '與'\n\\item '數學模型'\n\\item '實驗'\n\\item '良好'\n\\item '的'\n\\item '邊境'\n\\item '控管'\n\\item '詳盡'\n\\item '的'\n\\item '疫情'\n\\item '調查'\n\\item '確實'\n\\item '的'\n\\item '隔離'\n\\item '與'\n\\item '檢疫'\n\\item '以及'\n\\item '民眾'\n\\item '遵行'\n\\item '防疫'\n\\item '措施'\n\\item '為'\n\\item '台灣'\n\\item '抗疫'\n\\item '四大'\n\\item '支柱'\n\\item '台灣'\n\\item '也'\n\\item '對'\n\\item '世界'\n\\item '各國'\n\\item '提供'\n\\item '各項'\n\\item '協助'\n\\item '與'\n\\item '經驗'\n\\item '分享'\n\\item '期望'\n\\item '幫助'\n\\item '各國'\n\\item '盡快'\n\\item '從'\n\\item '疫情'\n\\item '得'\n\\item '陰霾'\n\\item '中'\n\\item '走出'\n\\end{enumerate*}\n",
            "text/markdown": "1. '嚴重'\n2. '特殊'\n3. '傳染性'\n4. '肺炎'\n5. '疫情'\n6. '持續'\n7. '在'\n8. '全球'\n9. '蔓延'\n10. '已'\n11. '造成'\n12. '三千多萬'\n13. '人'\n14. '感染'\n15. '死亡'\n16. '人數'\n17. '破'\n18. '百萬'\n19. '歐美'\n20. '醫療'\n21. '體系'\n22. '幾近'\n23. '崩潰'\n24. '各種'\n25. '行動'\n26. '限制'\n27. '對於'\n28. '各國'\n29. '之'\n30. '經濟'\n31. '更'\n32. '有'\n33. '莫大'\n34. '的'\n35. '衝擊'\n36. '然而'\n37. '台灣'\n38. '未'\n39. '實行'\n40. '大規模'\n41. '封鎖'\n42. '行動'\n43. '維持'\n44. '正常'\n45. '上班'\n46. '上課'\n47. '與'\n48. '各種'\n49. '經濟'\n50. '活動'\n51. '至今'\n52. '無'\n53. '大規模'\n54. '疫情'\n55. '爆發'\n56. '醫療'\n57. '體系'\n58. '也'\n59. '仍'\n60. '能'\n61. '正常'\n62. '提供'\n63. '名眾'\n64. '服務'\n65. '顯示'\n66. '台灣'\n67. '的'\n68. '防疫'\n69. '政策'\n70. '正確'\n71. '而'\n72. '有效'\n73. '獲得'\n74. '世界'\n75. '各國'\n76. '高度肯定'\n77. '國家衛生研究院'\n78. '群體'\n79. '健康'\n80. '科學'\n81. '研究所'\n82. '與'\n83. '感染'\n84. '症'\n85. '與'\n86. '疫苗'\n87. '研究所'\n88. '合作'\n89. '利用'\n90. '真實'\n91. '數據'\n92. '與'\n93. '數學模型'\n94. '實驗'\n95. '良好'\n96. '的'\n97. '邊境'\n98. '控管'\n99. '詳盡'\n100. '的'\n101. '疫情'\n102. '調查'\n103. '確實'\n104. '的'\n105. '隔離'\n106. '與'\n107. '檢疫'\n108. '以及'\n109. '民眾'\n110. '遵行'\n111. '防疫'\n112. '措施'\n113. '為'\n114. '台灣'\n115. '抗疫'\n116. '四大'\n117. '支柱'\n118. '台灣'\n119. '也'\n120. '對'\n121. '世界'\n122. '各國'\n123. '提供'\n124. '各項'\n125. '協助'\n126. '與'\n127. '經驗'\n128. '分享'\n129. '期望'\n130. '幫助'\n131. '各國'\n132. '盡快'\n133. '從'\n134. '疫情'\n135. '得'\n136. '陰霾'\n137. '中'\n138. '走出'\n\n\n",
            "text/html": [
              "<style>\n",
              ".list-inline {list-style: none; margin:0; padding: 0}\n",
              ".list-inline>li {display: inline-block}\n",
              ".list-inline>li:not(:last-child)::after {content: \"\\00b7\"; padding: 0 .5ex}\n",
              "</style>\n",
              "<ol class=list-inline><li>'嚴重'</li><li>'特殊'</li><li>'傳染性'</li><li>'肺炎'</li><li>'疫情'</li><li>'持續'</li><li>'在'</li><li>'全球'</li><li>'蔓延'</li><li>'已'</li><li>'造成'</li><li>'三千多萬'</li><li>'人'</li><li>'感染'</li><li>'死亡'</li><li>'人數'</li><li>'破'</li><li>'百萬'</li><li>'歐美'</li><li>'醫療'</li><li>'體系'</li><li>'幾近'</li><li>'崩潰'</li><li>'各種'</li><li>'行動'</li><li>'限制'</li><li>'對於'</li><li>'各國'</li><li>'之'</li><li>'經濟'</li><li>'更'</li><li>'有'</li><li>'莫大'</li><li>'的'</li><li>'衝擊'</li><li>'然而'</li><li>'台灣'</li><li>'未'</li><li>'實行'</li><li>'大規模'</li><li>'封鎖'</li><li>'行動'</li><li>'維持'</li><li>'正常'</li><li>'上班'</li><li>'上課'</li><li>'與'</li><li>'各種'</li><li>'經濟'</li><li>'活動'</li><li>'至今'</li><li>'無'</li><li>'大規模'</li><li>'疫情'</li><li>'爆發'</li><li>'醫療'</li><li>'體系'</li><li>'也'</li><li>'仍'</li><li>'能'</li><li>'正常'</li><li>'提供'</li><li>'名眾'</li><li>'服務'</li><li>'顯示'</li><li>'台灣'</li><li>'的'</li><li>'防疫'</li><li>'政策'</li><li>'正確'</li><li>'而'</li><li>'有效'</li><li>'獲得'</li><li>'世界'</li><li>'各國'</li><li>'高度肯定'</li><li>'國家衛生研究院'</li><li>'群體'</li><li>'健康'</li><li>'科學'</li><li>'研究所'</li><li>'與'</li><li>'感染'</li><li>'症'</li><li>'與'</li><li>'疫苗'</li><li>'研究所'</li><li>'合作'</li><li>'利用'</li><li>'真實'</li><li>'數據'</li><li>'與'</li><li>'數學模型'</li><li>'實驗'</li><li>'良好'</li><li>'的'</li><li>'邊境'</li><li>'控管'</li><li>'詳盡'</li><li>'的'</li><li>'疫情'</li><li>'調查'</li><li>'確實'</li><li>'的'</li><li>'隔離'</li><li>'與'</li><li>'檢疫'</li><li>'以及'</li><li>'民眾'</li><li>'遵行'</li><li>'防疫'</li><li>'措施'</li><li>'為'</li><li>'台灣'</li><li>'抗疫'</li><li>'四大'</li><li>'支柱'</li><li>'台灣'</li><li>'也'</li><li>'對'</li><li>'世界'</li><li>'各國'</li><li>'提供'</li><li>'各項'</li><li>'協助'</li><li>'與'</li><li>'經驗'</li><li>'分享'</li><li>'期望'</li><li>'幫助'</li><li>'各國'</li><li>'盡快'</li><li>'從'</li><li>'疫情'</li><li>'得'</li><li>'陰霾'</li><li>'中'</li><li>'走出'</li></ol>\n"
            ]
          },
          "metadata": {
            "tags": []
          }
        }
      ]
    },
    {
      "cell_type": "code",
      "metadata": {
        "id": "L3f8C72FQfB7"
      },
      "source": [
        "new_words <- c(\"傳染性肺炎\",\"醫療體系\",\"防疫措施\",\"台灣\",\"各國疫情\",\"人數\",\"行動\",\"大規模\")\n",
        "for (i in 1:length(new_words)) { new_user_word(cutter, new_words[i])}"
      ],
      "execution_count": null,
      "outputs": []
    },
    {
      "cell_type": "code",
      "metadata": {
        "colab": {
          "base_uri": "https://localhost:8080/",
          "height": 121
        },
        "id": "1mmk0vkyUdmT",
        "outputId": "1fd3e82e-28c0-4b0a-868a-16d6a5bb699a"
      },
      "source": [
        "content <- str_remove_all(content, \"[0-9a-zA-Z]+?\")\n",
        "cutter[content]"
      ],
      "execution_count": null,
      "outputs": [
        {
          "output_type": "display_data",
          "data": {
            "text/plain": [
              "  [1] \"嚴重\"           \"特殊\"           \"傳染性肺炎\"     \"疫情\"          \n",
              "  [5] \"持續\"           \"在\"             \"全球\"           \"蔓延\"          \n",
              "  [9] \"已\"             \"造成\"           \"三千多萬\"       \"人\"            \n",
              " [13] \"感染\"           \"死亡\"           \"人數\"           \"破\"            \n",
              " [17] \"百萬\"           \"歐美\"           \"醫療體系\"       \"幾近\"          \n",
              " [21] \"崩潰\"           \"各種\"           \"行動\"           \"限制\"          \n",
              " [25] \"對於\"           \"各國\"           \"之\"             \"經濟\"          \n",
              " [29] \"更\"             \"有\"             \"莫大\"           \"的\"            \n",
              " [33] \"衝擊\"           \"然而\"           \"台灣\"           \"未\"            \n",
              " [37] \"實行\"           \"大規模\"         \"封鎖\"           \"行動\"          \n",
              " [41] \"維持\"           \"正常\"           \"上班\"           \"上課\"          \n",
              " [45] \"與\"             \"各種\"           \"經濟\"           \"活動\"          \n",
              " [49] \"至今\"           \"無\"             \"大規模\"         \"疫情\"          \n",
              " [53] \"爆發\"           \"醫療體系\"       \"也\"             \"仍\"            \n",
              " [57] \"能\"             \"正常\"           \"提供\"           \"名眾\"          \n",
              " [61] \"服務\"           \"顯示\"           \"台灣\"           \"的\"            \n",
              " [65] \"防疫\"           \"政策\"           \"正確\"           \"而\"            \n",
              " [69] \"有效\"           \"獲得\"           \"世界\"           \"各國\"          \n",
              " [73] \"高度肯定\"       \"國家衛生研究院\" \"群體\"           \"健康\"          \n",
              " [77] \"科學\"           \"研究所\"         \"與\"             \"感染\"          \n",
              " [81] \"症\"             \"與\"             \"疫苗\"           \"研究所\"        \n",
              " [85] \"合作\"           \"利用\"           \"真實\"           \"數據\"          \n",
              " [89] \"與\"             \"數學模型\"       \"實驗\"           \"良好\"          \n",
              " [93] \"的\"             \"邊境\"           \"控管\"           \"詳盡\"          \n",
              " [97] \"的\"             \"疫情\"           \"調查\"           \"確實\"          \n",
              "[101] \"的\"             \"隔離\"           \"與\"             \"檢疫\"          \n",
              "[105] \"以及\"           \"民眾\"           \"遵行\"           \"防疫措施\"      \n",
              "[109] \"為\"             \"台灣\"           \"抗疫\"           \"四大\"          \n",
              "[113] \"支柱\"           \"台灣\"           \"也\"             \"對\"            \n",
              "[117] \"世界\"           \"各國\"           \"提供\"           \"各項\"          \n",
              "[121] \"協助\"           \"與\"             \"經驗\"           \"分享\"          \n",
              "[125] \"期望\"           \"幫助\"           \"各國\"           \"盡快\"          \n",
              "[129] \"從\"             \"疫情\"           \"得\"             \"陰霾\"          \n",
              "[133] \"中\"             \"走出\"          "
            ],
            "text/latex": "\\begin{enumerate*}\n\\item '嚴重'\n\\item '特殊'\n\\item '傳染性肺炎'\n\\item '疫情'\n\\item '持續'\n\\item '在'\n\\item '全球'\n\\item '蔓延'\n\\item '已'\n\\item '造成'\n\\item '三千多萬'\n\\item '人'\n\\item '感染'\n\\item '死亡'\n\\item '人數'\n\\item '破'\n\\item '百萬'\n\\item '歐美'\n\\item '醫療體系'\n\\item '幾近'\n\\item '崩潰'\n\\item '各種'\n\\item '行動'\n\\item '限制'\n\\item '對於'\n\\item '各國'\n\\item '之'\n\\item '經濟'\n\\item '更'\n\\item '有'\n\\item '莫大'\n\\item '的'\n\\item '衝擊'\n\\item '然而'\n\\item '台灣'\n\\item '未'\n\\item '實行'\n\\item '大規模'\n\\item '封鎖'\n\\item '行動'\n\\item '維持'\n\\item '正常'\n\\item '上班'\n\\item '上課'\n\\item '與'\n\\item '各種'\n\\item '經濟'\n\\item '活動'\n\\item '至今'\n\\item '無'\n\\item '大規模'\n\\item '疫情'\n\\item '爆發'\n\\item '醫療體系'\n\\item '也'\n\\item '仍'\n\\item '能'\n\\item '正常'\n\\item '提供'\n\\item '名眾'\n\\item '服務'\n\\item '顯示'\n\\item '台灣'\n\\item '的'\n\\item '防疫'\n\\item '政策'\n\\item '正確'\n\\item '而'\n\\item '有效'\n\\item '獲得'\n\\item '世界'\n\\item '各國'\n\\item '高度肯定'\n\\item '國家衛生研究院'\n\\item '群體'\n\\item '健康'\n\\item '科學'\n\\item '研究所'\n\\item '與'\n\\item '感染'\n\\item '症'\n\\item '與'\n\\item '疫苗'\n\\item '研究所'\n\\item '合作'\n\\item '利用'\n\\item '真實'\n\\item '數據'\n\\item '與'\n\\item '數學模型'\n\\item '實驗'\n\\item '良好'\n\\item '的'\n\\item '邊境'\n\\item '控管'\n\\item '詳盡'\n\\item '的'\n\\item '疫情'\n\\item '調查'\n\\item '確實'\n\\item '的'\n\\item '隔離'\n\\item '與'\n\\item '檢疫'\n\\item '以及'\n\\item '民眾'\n\\item '遵行'\n\\item '防疫措施'\n\\item '為'\n\\item '台灣'\n\\item '抗疫'\n\\item '四大'\n\\item '支柱'\n\\item '台灣'\n\\item '也'\n\\item '對'\n\\item '世界'\n\\item '各國'\n\\item '提供'\n\\item '各項'\n\\item '協助'\n\\item '與'\n\\item '經驗'\n\\item '分享'\n\\item '期望'\n\\item '幫助'\n\\item '各國'\n\\item '盡快'\n\\item '從'\n\\item '疫情'\n\\item '得'\n\\item '陰霾'\n\\item '中'\n\\item '走出'\n\\end{enumerate*}\n",
            "text/markdown": "1. '嚴重'\n2. '特殊'\n3. '傳染性肺炎'\n4. '疫情'\n5. '持續'\n6. '在'\n7. '全球'\n8. '蔓延'\n9. '已'\n10. '造成'\n11. '三千多萬'\n12. '人'\n13. '感染'\n14. '死亡'\n15. '人數'\n16. '破'\n17. '百萬'\n18. '歐美'\n19. '醫療體系'\n20. '幾近'\n21. '崩潰'\n22. '各種'\n23. '行動'\n24. '限制'\n25. '對於'\n26. '各國'\n27. '之'\n28. '經濟'\n29. '更'\n30. '有'\n31. '莫大'\n32. '的'\n33. '衝擊'\n34. '然而'\n35. '台灣'\n36. '未'\n37. '實行'\n38. '大規模'\n39. '封鎖'\n40. '行動'\n41. '維持'\n42. '正常'\n43. '上班'\n44. '上課'\n45. '與'\n46. '各種'\n47. '經濟'\n48. '活動'\n49. '至今'\n50. '無'\n51. '大規模'\n52. '疫情'\n53. '爆發'\n54. '醫療體系'\n55. '也'\n56. '仍'\n57. '能'\n58. '正常'\n59. '提供'\n60. '名眾'\n61. '服務'\n62. '顯示'\n63. '台灣'\n64. '的'\n65. '防疫'\n66. '政策'\n67. '正確'\n68. '而'\n69. '有效'\n70. '獲得'\n71. '世界'\n72. '各國'\n73. '高度肯定'\n74. '國家衛生研究院'\n75. '群體'\n76. '健康'\n77. '科學'\n78. '研究所'\n79. '與'\n80. '感染'\n81. '症'\n82. '與'\n83. '疫苗'\n84. '研究所'\n85. '合作'\n86. '利用'\n87. '真實'\n88. '數據'\n89. '與'\n90. '數學模型'\n91. '實驗'\n92. '良好'\n93. '的'\n94. '邊境'\n95. '控管'\n96. '詳盡'\n97. '的'\n98. '疫情'\n99. '調查'\n100. '確實'\n101. '的'\n102. '隔離'\n103. '與'\n104. '檢疫'\n105. '以及'\n106. '民眾'\n107. '遵行'\n108. '防疫措施'\n109. '為'\n110. '台灣'\n111. '抗疫'\n112. '四大'\n113. '支柱'\n114. '台灣'\n115. '也'\n116. '對'\n117. '世界'\n118. '各國'\n119. '提供'\n120. '各項'\n121. '協助'\n122. '與'\n123. '經驗'\n124. '分享'\n125. '期望'\n126. '幫助'\n127. '各國'\n128. '盡快'\n129. '從'\n130. '疫情'\n131. '得'\n132. '陰霾'\n133. '中'\n134. '走出'\n\n\n",
            "text/html": [
              "<style>\n",
              ".list-inline {list-style: none; margin:0; padding: 0}\n",
              ".list-inline>li {display: inline-block}\n",
              ".list-inline>li:not(:last-child)::after {content: \"\\00b7\"; padding: 0 .5ex}\n",
              "</style>\n",
              "<ol class=list-inline><li>'嚴重'</li><li>'特殊'</li><li>'傳染性肺炎'</li><li>'疫情'</li><li>'持續'</li><li>'在'</li><li>'全球'</li><li>'蔓延'</li><li>'已'</li><li>'造成'</li><li>'三千多萬'</li><li>'人'</li><li>'感染'</li><li>'死亡'</li><li>'人數'</li><li>'破'</li><li>'百萬'</li><li>'歐美'</li><li>'醫療體系'</li><li>'幾近'</li><li>'崩潰'</li><li>'各種'</li><li>'行動'</li><li>'限制'</li><li>'對於'</li><li>'各國'</li><li>'之'</li><li>'經濟'</li><li>'更'</li><li>'有'</li><li>'莫大'</li><li>'的'</li><li>'衝擊'</li><li>'然而'</li><li>'台灣'</li><li>'未'</li><li>'實行'</li><li>'大規模'</li><li>'封鎖'</li><li>'行動'</li><li>'維持'</li><li>'正常'</li><li>'上班'</li><li>'上課'</li><li>'與'</li><li>'各種'</li><li>'經濟'</li><li>'活動'</li><li>'至今'</li><li>'無'</li><li>'大規模'</li><li>'疫情'</li><li>'爆發'</li><li>'醫療體系'</li><li>'也'</li><li>'仍'</li><li>'能'</li><li>'正常'</li><li>'提供'</li><li>'名眾'</li><li>'服務'</li><li>'顯示'</li><li>'台灣'</li><li>'的'</li><li>'防疫'</li><li>'政策'</li><li>'正確'</li><li>'而'</li><li>'有效'</li><li>'獲得'</li><li>'世界'</li><li>'各國'</li><li>'高度肯定'</li><li>'國家衛生研究院'</li><li>'群體'</li><li>'健康'</li><li>'科學'</li><li>'研究所'</li><li>'與'</li><li>'感染'</li><li>'症'</li><li>'與'</li><li>'疫苗'</li><li>'研究所'</li><li>'合作'</li><li>'利用'</li><li>'真實'</li><li>'數據'</li><li>'與'</li><li>'數學模型'</li><li>'實驗'</li><li>'良好'</li><li>'的'</li><li>'邊境'</li><li>'控管'</li><li>'詳盡'</li><li>'的'</li><li>'疫情'</li><li>'調查'</li><li>'確實'</li><li>'的'</li><li>'隔離'</li><li>'與'</li><li>'檢疫'</li><li>'以及'</li><li>'民眾'</li><li>'遵行'</li><li>'防疫措施'</li><li>'為'</li><li>'台灣'</li><li>'抗疫'</li><li>'四大'</li><li>'支柱'</li><li>'台灣'</li><li>'也'</li><li>'對'</li><li>'世界'</li><li>'各國'</li><li>'提供'</li><li>'各項'</li><li>'協助'</li><li>'與'</li><li>'經驗'</li><li>'分享'</li><li>'期望'</li><li>'幫助'</li><li>'各國'</li><li>'盡快'</li><li>'從'</li><li>'疫情'</li><li>'得'</li><li>'陰霾'</li><li>'中'</li><li>'走出'</li></ol>\n"
            ]
          },
          "metadata": {
            "tags": []
          }
        }
      ]
    },
    {
      "cell_type": "code",
      "metadata": {
        "id": "Gzbm0YC9TncG"
      },
      "source": [
        "new_words <- c(\"傳染性肺炎\",\"醫療體系\",\"防疫措施\",\"台灣\",\"各國疫情\",\"人數\",\"行動\",\"大規模\")\n",
        "writeLines(new_words, \"new_words.txt\")"
      ],
      "execution_count": null,
      "outputs": []
    },
    {
      "cell_type": "code",
      "metadata": {
        "id": "J0GvZ7FmTq-I"
      },
      "source": [
        "stop_words <- c(\"在\",\"之\",\"更\",\"個\",\"未\",\"而\",\"也\",\"與\",\"的\")\n",
        "writeLines(stop_words, \"stop_words.txt\")"
      ],
      "execution_count": null,
      "outputs": []
    },
    {
      "cell_type": "code",
      "metadata": {
        "colab": {
          "base_uri": "https://localhost:8080/",
          "height": 104
        },
        "id": "Xx32R-n_T8Gq",
        "outputId": "771e6cd8-473f-462c-8ea2-aa93e3f987d5"
      },
      "source": [
        "cutter <- worker(user = \"new_words.txt\", stop_word = \"stop_words.txt\", bylines = FALSE)\n",
        "seg_words <- cutter[content]\n",
        "seg_words"
      ],
      "execution_count": null,
      "outputs": [
        {
          "output_type": "display_data",
          "data": {
            "text/plain": [
              "  [1] \"嚴重\"           \"特殊\"           \"傳染性肺炎\"     \"疫情\"          \n",
              "  [5] \"持續\"           \"全球\"           \"蔓延\"           \"已\"            \n",
              "  [9] \"造成\"           \"三千多萬\"       \"人\"             \"感染\"          \n",
              " [13] \"死亡\"           \"人數\"           \"破\"             \"百萬\"          \n",
              " [17] \"歐美\"           \"醫療體系\"       \"幾近\"           \"崩潰\"          \n",
              " [21] \"各種\"           \"行動\"           \"限制\"           \"對於\"          \n",
              " [25] \"各國\"           \"經濟\"           \"有\"             \"莫大\"          \n",
              " [29] \"衝擊\"           \"然而\"           \"台灣\"           \"實行\"          \n",
              " [33] \"大規模\"         \"封鎖\"           \"行動\"           \"維持\"          \n",
              " [37] \"正常\"           \"上班\"           \"上課\"           \"各種\"          \n",
              " [41] \"經濟\"           \"活動\"           \"至今\"           \"無\"            \n",
              " [45] \"大規模\"         \"疫情\"           \"爆發\"           \"醫療體系\"      \n",
              " [49] \"仍\"             \"能\"             \"正常\"           \"提供\"          \n",
              " [53] \"名眾\"           \"服務\"           \"顯示\"           \"台灣\"          \n",
              " [57] \"防疫\"           \"政策\"           \"正確\"           \"有效\"          \n",
              " [61] \"獲得\"           \"世界\"           \"各國\"           \"高度肯定\"      \n",
              " [65] \"國家衛生研究院\" \"群體\"           \"健康\"           \"科學\"          \n",
              " [69] \"研究所\"         \"感染\"           \"症\"             \"疫苗\"          \n",
              " [73] \"研究所\"         \"合作\"           \"利用\"           \"真實\"          \n",
              " [77] \"數據\"           \"數學模型\"       \"實驗\"           \"良好\"          \n",
              " [81] \"邊境\"           \"控管\"           \"詳盡\"           \"疫情\"          \n",
              " [85] \"調查\"           \"確實\"           \"隔離\"           \"檢疫\"          \n",
              " [89] \"以及\"           \"民眾\"           \"遵行\"           \"防疫措施\"      \n",
              " [93] \"為\"             \"台灣\"           \"抗疫\"           \"四大\"          \n",
              " [97] \"支柱\"           \"台灣\"           \"對\"             \"世界\"          \n",
              "[101] \"各國\"           \"提供\"           \"各項\"           \"協助\"          \n",
              "[105] \"經驗\"           \"分享\"           \"期望\"           \"幫助\"          \n",
              "[109] \"各國\"           \"盡快\"           \"從\"             \"疫情\"          \n",
              "[113] \"得\"             \"陰霾\"           \"中\"             \"走出\"          "
            ],
            "text/latex": "\\begin{enumerate*}\n\\item '嚴重'\n\\item '特殊'\n\\item '傳染性肺炎'\n\\item '疫情'\n\\item '持續'\n\\item '全球'\n\\item '蔓延'\n\\item '已'\n\\item '造成'\n\\item '三千多萬'\n\\item '人'\n\\item '感染'\n\\item '死亡'\n\\item '人數'\n\\item '破'\n\\item '百萬'\n\\item '歐美'\n\\item '醫療體系'\n\\item '幾近'\n\\item '崩潰'\n\\item '各種'\n\\item '行動'\n\\item '限制'\n\\item '對於'\n\\item '各國'\n\\item '經濟'\n\\item '有'\n\\item '莫大'\n\\item '衝擊'\n\\item '然而'\n\\item '台灣'\n\\item '實行'\n\\item '大規模'\n\\item '封鎖'\n\\item '行動'\n\\item '維持'\n\\item '正常'\n\\item '上班'\n\\item '上課'\n\\item '各種'\n\\item '經濟'\n\\item '活動'\n\\item '至今'\n\\item '無'\n\\item '大規模'\n\\item '疫情'\n\\item '爆發'\n\\item '醫療體系'\n\\item '仍'\n\\item '能'\n\\item '正常'\n\\item '提供'\n\\item '名眾'\n\\item '服務'\n\\item '顯示'\n\\item '台灣'\n\\item '防疫'\n\\item '政策'\n\\item '正確'\n\\item '有效'\n\\item '獲得'\n\\item '世界'\n\\item '各國'\n\\item '高度肯定'\n\\item '國家衛生研究院'\n\\item '群體'\n\\item '健康'\n\\item '科學'\n\\item '研究所'\n\\item '感染'\n\\item '症'\n\\item '疫苗'\n\\item '研究所'\n\\item '合作'\n\\item '利用'\n\\item '真實'\n\\item '數據'\n\\item '數學模型'\n\\item '實驗'\n\\item '良好'\n\\item '邊境'\n\\item '控管'\n\\item '詳盡'\n\\item '疫情'\n\\item '調查'\n\\item '確實'\n\\item '隔離'\n\\item '檢疫'\n\\item '以及'\n\\item '民眾'\n\\item '遵行'\n\\item '防疫措施'\n\\item '為'\n\\item '台灣'\n\\item '抗疫'\n\\item '四大'\n\\item '支柱'\n\\item '台灣'\n\\item '對'\n\\item '世界'\n\\item '各國'\n\\item '提供'\n\\item '各項'\n\\item '協助'\n\\item '經驗'\n\\item '分享'\n\\item '期望'\n\\item '幫助'\n\\item '各國'\n\\item '盡快'\n\\item '從'\n\\item '疫情'\n\\item '得'\n\\item '陰霾'\n\\item '中'\n\\item '走出'\n\\end{enumerate*}\n",
            "text/markdown": "1. '嚴重'\n2. '特殊'\n3. '傳染性肺炎'\n4. '疫情'\n5. '持續'\n6. '全球'\n7. '蔓延'\n8. '已'\n9. '造成'\n10. '三千多萬'\n11. '人'\n12. '感染'\n13. '死亡'\n14. '人數'\n15. '破'\n16. '百萬'\n17. '歐美'\n18. '醫療體系'\n19. '幾近'\n20. '崩潰'\n21. '各種'\n22. '行動'\n23. '限制'\n24. '對於'\n25. '各國'\n26. '經濟'\n27. '有'\n28. '莫大'\n29. '衝擊'\n30. '然而'\n31. '台灣'\n32. '實行'\n33. '大規模'\n34. '封鎖'\n35. '行動'\n36. '維持'\n37. '正常'\n38. '上班'\n39. '上課'\n40. '各種'\n41. '經濟'\n42. '活動'\n43. '至今'\n44. '無'\n45. '大規模'\n46. '疫情'\n47. '爆發'\n48. '醫療體系'\n49. '仍'\n50. '能'\n51. '正常'\n52. '提供'\n53. '名眾'\n54. '服務'\n55. '顯示'\n56. '台灣'\n57. '防疫'\n58. '政策'\n59. '正確'\n60. '有效'\n61. '獲得'\n62. '世界'\n63. '各國'\n64. '高度肯定'\n65. '國家衛生研究院'\n66. '群體'\n67. '健康'\n68. '科學'\n69. '研究所'\n70. '感染'\n71. '症'\n72. '疫苗'\n73. '研究所'\n74. '合作'\n75. '利用'\n76. '真實'\n77. '數據'\n78. '數學模型'\n79. '實驗'\n80. '良好'\n81. '邊境'\n82. '控管'\n83. '詳盡'\n84. '疫情'\n85. '調查'\n86. '確實'\n87. '隔離'\n88. '檢疫'\n89. '以及'\n90. '民眾'\n91. '遵行'\n92. '防疫措施'\n93. '為'\n94. '台灣'\n95. '抗疫'\n96. '四大'\n97. '支柱'\n98. '台灣'\n99. '對'\n100. '世界'\n101. '各國'\n102. '提供'\n103. '各項'\n104. '協助'\n105. '經驗'\n106. '分享'\n107. '期望'\n108. '幫助'\n109. '各國'\n110. '盡快'\n111. '從'\n112. '疫情'\n113. '得'\n114. '陰霾'\n115. '中'\n116. '走出'\n\n\n",
            "text/html": [
              "<style>\n",
              ".list-inline {list-style: none; margin:0; padding: 0}\n",
              ".list-inline>li {display: inline-block}\n",
              ".list-inline>li:not(:last-child)::after {content: \"\\00b7\"; padding: 0 .5ex}\n",
              "</style>\n",
              "<ol class=list-inline><li>'嚴重'</li><li>'特殊'</li><li>'傳染性肺炎'</li><li>'疫情'</li><li>'持續'</li><li>'全球'</li><li>'蔓延'</li><li>'已'</li><li>'造成'</li><li>'三千多萬'</li><li>'人'</li><li>'感染'</li><li>'死亡'</li><li>'人數'</li><li>'破'</li><li>'百萬'</li><li>'歐美'</li><li>'醫療體系'</li><li>'幾近'</li><li>'崩潰'</li><li>'各種'</li><li>'行動'</li><li>'限制'</li><li>'對於'</li><li>'各國'</li><li>'經濟'</li><li>'有'</li><li>'莫大'</li><li>'衝擊'</li><li>'然而'</li><li>'台灣'</li><li>'實行'</li><li>'大規模'</li><li>'封鎖'</li><li>'行動'</li><li>'維持'</li><li>'正常'</li><li>'上班'</li><li>'上課'</li><li>'各種'</li><li>'經濟'</li><li>'活動'</li><li>'至今'</li><li>'無'</li><li>'大規模'</li><li>'疫情'</li><li>'爆發'</li><li>'醫療體系'</li><li>'仍'</li><li>'能'</li><li>'正常'</li><li>'提供'</li><li>'名眾'</li><li>'服務'</li><li>'顯示'</li><li>'台灣'</li><li>'防疫'</li><li>'政策'</li><li>'正確'</li><li>'有效'</li><li>'獲得'</li><li>'世界'</li><li>'各國'</li><li>'高度肯定'</li><li>'國家衛生研究院'</li><li>'群體'</li><li>'健康'</li><li>'科學'</li><li>'研究所'</li><li>'感染'</li><li>'症'</li><li>'疫苗'</li><li>'研究所'</li><li>'合作'</li><li>'利用'</li><li>'真實'</li><li>'數據'</li><li>'數學模型'</li><li>'實驗'</li><li>'良好'</li><li>'邊境'</li><li>'控管'</li><li>'詳盡'</li><li>'疫情'</li><li>'調查'</li><li>'確實'</li><li>'隔離'</li><li>'檢疫'</li><li>'以及'</li><li>'民眾'</li><li>'遵行'</li><li>'防疫措施'</li><li>'為'</li><li>'台灣'</li><li>'抗疫'</li><li>'四大'</li><li>'支柱'</li><li>'台灣'</li><li>'對'</li><li>'世界'</li><li>'各國'</li><li>'提供'</li><li>'各項'</li><li>'協助'</li><li>'經驗'</li><li>'分享'</li><li>'期望'</li><li>'幫助'</li><li>'各國'</li><li>'盡快'</li><li>'從'</li><li>'疫情'</li><li>'得'</li><li>'陰霾'</li><li>'中'</li><li>'走出'</li></ol>\n"
            ]
          },
          "metadata": {
            "tags": []
          }
        }
      ]
    },
    {
      "cell_type": "code",
      "metadata": {
        "colab": {
          "base_uri": "https://localhost:8080/",
          "height": 281
        },
        "id": "xOZHSECBVcOv",
        "outputId": "6ecc8d66-4ca7-4dd4-c954-d706742108e9"
      },
      "source": [
        "txt_freq <- freq(seg_words)\n",
        "txt_freq <- arrange(txt_freq, desc(freq))\n",
        "head(txt_freq)"
      ],
      "execution_count": null,
      "outputs": [
        {
          "output_type": "display_data",
          "data": {
            "text/plain": [
              "  char freq\n",
              "1 各國 4   \n",
              "2 疫情 4   \n",
              "3 台灣 4   \n",
              "4 行動 2   \n",
              "5 各種 2   \n",
              "6 經濟 2   "
            ],
            "text/latex": "A data.frame: 6 × 2\n\\begin{tabular}{r|ll}\n  & char & freq\\\\\n  & <chr> & <dbl>\\\\\n\\hline\n\t1 & 各國 & 4\\\\\n\t2 & 疫情 & 4\\\\\n\t3 & 台灣 & 4\\\\\n\t4 & 行動 & 2\\\\\n\t5 & 各種 & 2\\\\\n\t6 & 經濟 & 2\\\\\n\\end{tabular}\n",
            "text/markdown": "\nA data.frame: 6 × 2\n\n| <!--/--> | char &lt;chr&gt; | freq &lt;dbl&gt; |\n|---|---|---|\n| 1 | 各國 | 4 |\n| 2 | 疫情 | 4 |\n| 3 | 台灣 | 4 |\n| 4 | 行動 | 2 |\n| 5 | 各種 | 2 |\n| 6 | 經濟 | 2 |\n\n",
            "text/html": [
              "<table class=\"dataframe\">\n",
              "<caption>A data.frame: 6 × 2</caption>\n",
              "<thead>\n",
              "\t<tr><th></th><th scope=col>char</th><th scope=col>freq</th></tr>\n",
              "\t<tr><th></th><th scope=col>&lt;chr&gt;</th><th scope=col>&lt;dbl&gt;</th></tr>\n",
              "</thead>\n",
              "<tbody>\n",
              "\t<tr><th scope=row>1</th><td>各國</td><td>4</td></tr>\n",
              "\t<tr><th scope=row>2</th><td>疫情</td><td>4</td></tr>\n",
              "\t<tr><th scope=row>3</th><td>台灣</td><td>4</td></tr>\n",
              "\t<tr><th scope=row>4</th><td>行動</td><td>2</td></tr>\n",
              "\t<tr><th scope=row>5</th><td>各種</td><td>2</td></tr>\n",
              "\t<tr><th scope=row>6</th><td>經濟</td><td>2</td></tr>\n",
              "</tbody>\n",
              "</table>\n"
            ]
          },
          "metadata": {
            "tags": []
          }
        }
      ]
    },
    {
      "cell_type": "code",
      "metadata": {
        "colab": {
          "base_uri": "https://localhost:8080/"
        },
        "id": "BKfy6fgoglG6",
        "outputId": "fe4fcf15-1ed3-47d0-f7f7-3bd20d8e7b3d"
      },
      "source": [
        "install.packages(\"showtext\")"
      ],
      "execution_count": null,
      "outputs": [
        {
          "output_type": "stream",
          "text": [
            "Installing package into ‘/usr/local/lib/R/site-library’\n",
            "(as ‘lib’ is unspecified)\n",
            "\n"
          ],
          "name": "stderr"
        }
      ]
    },
    {
      "cell_type": "code",
      "metadata": {
        "id": "UJoYJQCSguLb"
      },
      "source": [
        "library(showtext)"
      ],
      "execution_count": null,
      "outputs": []
    },
    {
      "cell_type": "code",
      "metadata": {
        "id": "ZPmVlSkchS6m"
      },
      "source": [
        "showtext.auto (enable=TRUE)"
      ],
      "execution_count": null,
      "outputs": []
    },
    {
      "cell_type": "code",
      "metadata": {
        "colab": {
          "base_uri": "https://localhost:8080/",
          "height": 1000
        },
        "id": "g8STuZaEWUp6",
        "outputId": "a68155e3-25ae-42d2-e62d-c3a62b3b8597"
      },
      "source": [
        "par(family=(\"Microsoft YaHei\"))\n",
        "wordcloud(txt_freq$char, txt_freq$freq, min.freq = 2 , random.order = F, order.colors = F , colors = rainbow(nrow(txt_freq)))"
      ],
      "execution_count": null,
      "outputs": [
        {
          "output_type": "stream",
          "text": [
            "Warning message in strwidth(words[i], cex = size[i], ...):\n",
            "“\"order.colors\" is not a graphical parameter”\n",
            "Warning message in strwidth(words[i], cex = size[i], ...):\n",
            "“font family 'Microsoft YaHei' not found, will use 'wqy-microhei' instead”\n",
            "Warning message in strheight(words[i], cex = size[i], ...):\n",
            "“\"order.colors\" is not a graphical parameter”\n",
            "Warning message in strheight(words[i], cex = size[i], ...):\n",
            "“font family 'Microsoft YaHei' not found, will use 'sans' instead”\n",
            "Warning message in text.default(x1, y1, words[i], cex = size[i], offset = 0, srt = rotWord * :\n",
            "“\"order.colors\" is not a graphical parameter”\n",
            "Warning message in text.default(x1, y1, words[i], cex = size[i], offset = 0, srt = rotWord * :\n",
            "“font family 'Microsoft YaHei' not found, will use 'wqy-microhei' instead”\n",
            "Warning message in text.default(x1, y1, words[i], cex = size[i], offset = 0, srt = rotWord * :\n",
            "“font family 'Microsoft YaHei' not found, will use 'wqy-microhei' instead”\n",
            "Warning message in text.default(x1, y1, words[i], cex = size[i], offset = 0, srt = rotWord * :\n",
            "“font family 'Microsoft YaHei' not found, will use 'wqy-microhei' instead”\n",
            "Warning message in text.default(x1, y1, words[i], cex = size[i], offset = 0, srt = rotWord * :\n",
            "“font family 'Microsoft YaHei' not found, will use 'wqy-microhei' instead”\n",
            "Warning message in strwidth(words[i], cex = size[i], ...):\n",
            "“\"order.colors\" is not a graphical parameter”\n",
            "Warning message in strwidth(words[i], cex = size[i], ...):\n",
            "“font family 'Microsoft YaHei' not found, will use 'wqy-microhei' instead”\n",
            "Warning message in strheight(words[i], cex = size[i], ...):\n",
            "“\"order.colors\" is not a graphical parameter”\n",
            "Warning message in text.default(x1, y1, words[i], cex = size[i], offset = 0, srt = rotWord * :\n",
            "“\"order.colors\" is not a graphical parameter”\n",
            "Warning message in text.default(x1, y1, words[i], cex = size[i], offset = 0, srt = rotWord * :\n",
            "“font family 'Microsoft YaHei' not found, will use 'wqy-microhei' instead”\n",
            "Warning message in text.default(x1, y1, words[i], cex = size[i], offset = 0, srt = rotWord * :\n",
            "“font family 'Microsoft YaHei' not found, will use 'wqy-microhei' instead”\n",
            "Warning message in text.default(x1, y1, words[i], cex = size[i], offset = 0, srt = rotWord * :\n",
            "“font family 'Microsoft YaHei' not found, will use 'wqy-microhei' instead”\n",
            "Warning message in text.default(x1, y1, words[i], cex = size[i], offset = 0, srt = rotWord * :\n",
            "“font family 'Microsoft YaHei' not found, will use 'wqy-microhei' instead”\n",
            "Warning message in strwidth(words[i], cex = size[i], ...):\n",
            "“\"order.colors\" is not a graphical parameter”\n",
            "Warning message in strwidth(words[i], cex = size[i], ...):\n",
            "“font family 'Microsoft YaHei' not found, will use 'wqy-microhei' instead”\n",
            "Warning message in strheight(words[i], cex = size[i], ...):\n",
            "“\"order.colors\" is not a graphical parameter”\n",
            "Warning message in text.default(x1, y1, words[i], cex = size[i], offset = 0, srt = rotWord * :\n",
            "“\"order.colors\" is not a graphical parameter”\n",
            "Warning message in text.default(x1, y1, words[i], cex = size[i], offset = 0, srt = rotWord * :\n",
            "“font family 'Microsoft YaHei' not found, will use 'wqy-microhei' instead”\n",
            "Warning message in text.default(x1, y1, words[i], cex = size[i], offset = 0, srt = rotWord * :\n",
            "“font family 'Microsoft YaHei' not found, will use 'wqy-microhei' instead”\n",
            "Warning message in text.default(x1, y1, words[i], cex = size[i], offset = 0, srt = rotWord * :\n",
            "“font family 'Microsoft YaHei' not found, will use 'wqy-microhei' instead”\n",
            "Warning message in text.default(x1, y1, words[i], cex = size[i], offset = 0, srt = rotWord * :\n",
            "“font family 'Microsoft YaHei' not found, will use 'wqy-microhei' instead”\n",
            "Warning message in strwidth(words[i], cex = size[i], ...):\n",
            "“\"order.colors\" is not a graphical parameter”\n",
            "Warning message in strwidth(words[i], cex = size[i], ...):\n",
            "“font family 'Microsoft YaHei' not found, will use 'wqy-microhei' instead”\n",
            "Warning message in strheight(words[i], cex = size[i], ...):\n",
            "“\"order.colors\" is not a graphical parameter”\n",
            "Warning message in strheight(words[i], cex = size[i], ...):\n",
            "“font family 'Microsoft YaHei' not found, will use 'sans' instead”\n",
            "Warning message in text.default(x1, y1, words[i], cex = size[i], offset = 0, srt = rotWord * :\n",
            "“\"order.colors\" is not a graphical parameter”\n",
            "Warning message in text.default(x1, y1, words[i], cex = size[i], offset = 0, srt = rotWord * :\n",
            "“font family 'Microsoft YaHei' not found, will use 'wqy-microhei' instead”\n",
            "Warning message in text.default(x1, y1, words[i], cex = size[i], offset = 0, srt = rotWord * :\n",
            "“font family 'Microsoft YaHei' not found, will use 'wqy-microhei' instead”\n",
            "Warning message in text.default(x1, y1, words[i], cex = size[i], offset = 0, srt = rotWord * :\n",
            "“font family 'Microsoft YaHei' not found, will use 'wqy-microhei' instead”\n",
            "Warning message in text.default(x1, y1, words[i], cex = size[i], offset = 0, srt = rotWord * :\n",
            "“font family 'Microsoft YaHei' not found, will use 'wqy-microhei' instead”\n",
            "Warning message in strwidth(words[i], cex = size[i], ...):\n",
            "“\"order.colors\" is not a graphical parameter”\n",
            "Warning message in strwidth(words[i], cex = size[i], ...):\n",
            "“font family 'Microsoft YaHei' not found, will use 'wqy-microhei' instead”\n",
            "Warning message in strheight(words[i], cex = size[i], ...):\n",
            "“\"order.colors\" is not a graphical parameter”\n",
            "Warning message in text.default(x1, y1, words[i], cex = size[i], offset = 0, srt = rotWord * :\n",
            "“\"order.colors\" is not a graphical parameter”\n",
            "Warning message in text.default(x1, y1, words[i], cex = size[i], offset = 0, srt = rotWord * :\n",
            "“font family 'Microsoft YaHei' not found, will use 'wqy-microhei' instead”\n",
            "Warning message in text.default(x1, y1, words[i], cex = size[i], offset = 0, srt = rotWord * :\n",
            "“font family 'Microsoft YaHei' not found, will use 'wqy-microhei' instead”\n",
            "Warning message in text.default(x1, y1, words[i], cex = size[i], offset = 0, srt = rotWord * :\n",
            "“font family 'Microsoft YaHei' not found, will use 'wqy-microhei' instead”\n",
            "Warning message in text.default(x1, y1, words[i], cex = size[i], offset = 0, srt = rotWord * :\n",
            "“font family 'Microsoft YaHei' not found, will use 'wqy-microhei' instead”\n",
            "Warning message in strwidth(words[i], cex = size[i], ...):\n",
            "“\"order.colors\" is not a graphical parameter”\n",
            "Warning message in strwidth(words[i], cex = size[i], ...):\n",
            "“font family 'Microsoft YaHei' not found, will use 'wqy-microhei' instead”\n",
            "Warning message in strheight(words[i], cex = size[i], ...):\n",
            "“\"order.colors\" is not a graphical parameter”\n",
            "Warning message in text.default(x1, y1, words[i], cex = size[i], offset = 0, srt = rotWord * :\n",
            "“\"order.colors\" is not a graphical parameter”\n",
            "Warning message in text.default(x1, y1, words[i], cex = size[i], offset = 0, srt = rotWord * :\n",
            "“font family 'Microsoft YaHei' not found, will use 'wqy-microhei' instead”\n",
            "Warning message in text.default(x1, y1, words[i], cex = size[i], offset = 0, srt = rotWord * :\n",
            "“font family 'Microsoft YaHei' not found, will use 'wqy-microhei' instead”\n",
            "Warning message in text.default(x1, y1, words[i], cex = size[i], offset = 0, srt = rotWord * :\n",
            "“font family 'Microsoft YaHei' not found, will use 'wqy-microhei' instead”\n",
            "Warning message in text.default(x1, y1, words[i], cex = size[i], offset = 0, srt = rotWord * :\n",
            "“font family 'Microsoft YaHei' not found, will use 'wqy-microhei' instead”\n",
            "Warning message in strwidth(words[i], cex = size[i], ...):\n",
            "“\"order.colors\" is not a graphical parameter”\n",
            "Warning message in strwidth(words[i], cex = size[i], ...):\n",
            "“font family 'Microsoft YaHei' not found, will use 'wqy-microhei' instead”\n",
            "Warning message in strheight(words[i], cex = size[i], ...):\n",
            "“\"order.colors\" is not a graphical parameter”\n",
            "Warning message in text.default(x1, y1, words[i], cex = size[i], offset = 0, srt = rotWord * :\n",
            "“\"order.colors\" is not a graphical parameter”\n",
            "Warning message in text.default(x1, y1, words[i], cex = size[i], offset = 0, srt = rotWord * :\n",
            "“font family 'Microsoft YaHei' not found, will use 'wqy-microhei' instead”\n",
            "Warning message in text.default(x1, y1, words[i], cex = size[i], offset = 0, srt = rotWord * :\n",
            "“font family 'Microsoft YaHei' not found, will use 'wqy-microhei' instead”\n",
            "Warning message in text.default(x1, y1, words[i], cex = size[i], offset = 0, srt = rotWord * :\n",
            "“font family 'Microsoft YaHei' not found, will use 'wqy-microhei' instead”\n",
            "Warning message in text.default(x1, y1, words[i], cex = size[i], offset = 0, srt = rotWord * :\n",
            "“font family 'Microsoft YaHei' not found, will use 'wqy-microhei' instead”\n",
            "Warning message in text.default(x1, y1, words[i], cex = size[i], offset = 0, srt = rotWord * :\n",
            "“font family 'Microsoft YaHei' not found, will use 'wqy-microhei' instead”\n",
            "Warning message in strwidth(words[i], cex = size[i], ...):\n",
            "“\"order.colors\" is not a graphical parameter”\n",
            "Warning message in strwidth(words[i], cex = size[i], ...):\n",
            "“font family 'Microsoft YaHei' not found, will use 'wqy-microhei' instead”\n",
            "Warning message in strheight(words[i], cex = size[i], ...):\n",
            "“\"order.colors\" is not a graphical parameter”\n",
            "Warning message in text.default(x1, y1, words[i], cex = size[i], offset = 0, srt = rotWord * :\n",
            "“\"order.colors\" is not a graphical parameter”\n",
            "Warning message in text.default(x1, y1, words[i], cex = size[i], offset = 0, srt = rotWord * :\n",
            "“font family 'Microsoft YaHei' not found, will use 'wqy-microhei' instead”\n",
            "Warning message in text.default(x1, y1, words[i], cex = size[i], offset = 0, srt = rotWord * :\n",
            "“font family 'Microsoft YaHei' not found, will use 'wqy-microhei' instead”\n",
            "Warning message in text.default(x1, y1, words[i], cex = size[i], offset = 0, srt = rotWord * :\n",
            "“font family 'Microsoft YaHei' not found, will use 'wqy-microhei' instead”\n",
            "Warning message in text.default(x1, y1, words[i], cex = size[i], offset = 0, srt = rotWord * :\n",
            "“font family 'Microsoft YaHei' not found, will use 'wqy-microhei' instead”\n",
            "Warning message in strwidth(words[i], cex = size[i], ...):\n",
            "“\"order.colors\" is not a graphical parameter”\n",
            "Warning message in strwidth(words[i], cex = size[i], ...):\n",
            "“font family 'Microsoft YaHei' not found, will use 'wqy-microhei' instead”\n",
            "Warning message in strheight(words[i], cex = size[i], ...):\n",
            "“\"order.colors\" is not a graphical parameter”\n",
            "Warning message in text.default(x1, y1, words[i], cex = size[i], offset = 0, srt = rotWord * :\n",
            "“\"order.colors\" is not a graphical parameter”\n",
            "Warning message in text.default(x1, y1, words[i], cex = size[i], offset = 0, srt = rotWord * :\n",
            "“font family 'Microsoft YaHei' not found, will use 'wqy-microhei' instead”\n",
            "Warning message in text.default(x1, y1, words[i], cex = size[i], offset = 0, srt = rotWord * :\n",
            "“font family 'Microsoft YaHei' not found, will use 'wqy-microhei' instead”\n",
            "Warning message in text.default(x1, y1, words[i], cex = size[i], offset = 0, srt = rotWord * :\n",
            "“font family 'Microsoft YaHei' not found, will use 'wqy-microhei' instead”\n",
            "Warning message in text.default(x1, y1, words[i], cex = size[i], offset = 0, srt = rotWord * :\n",
            "“font family 'Microsoft YaHei' not found, will use 'wqy-microhei' instead”\n",
            "Warning message in text.default(x1, y1, words[i], cex = size[i], offset = 0, srt = rotWord * :\n",
            "“font family 'Microsoft YaHei' not found, will use 'wqy-microhei' instead”\n",
            "Warning message in text.default(x1, y1, words[i], cex = size[i], offset = 0, srt = rotWord * :\n",
            "“font family 'Microsoft YaHei' not found, will use 'wqy-microhei' instead”\n",
            "Warning message in strwidth(words[i], cex = size[i], ...):\n",
            "“\"order.colors\" is not a graphical parameter”\n",
            "Warning message in strwidth(words[i], cex = size[i], ...):\n",
            "“font family 'Microsoft YaHei' not found, will use 'wqy-microhei' instead”\n",
            "Warning message in strheight(words[i], cex = size[i], ...):\n",
            "“\"order.colors\" is not a graphical parameter”\n",
            "Warning message in text.default(x1, y1, words[i], cex = size[i], offset = 0, srt = rotWord * :\n",
            "“\"order.colors\" is not a graphical parameter”\n",
            "Warning message in text.default(x1, y1, words[i], cex = size[i], offset = 0, srt = rotWord * :\n",
            "“font family 'Microsoft YaHei' not found, will use 'wqy-microhei' instead”\n",
            "Warning message in text.default(x1, y1, words[i], cex = size[i], offset = 0, srt = rotWord * :\n",
            "“font family 'Microsoft YaHei' not found, will use 'wqy-microhei' instead”\n",
            "Warning message in text.default(x1, y1, words[i], cex = size[i], offset = 0, srt = rotWord * :\n",
            "“font family 'Microsoft YaHei' not found, will use 'wqy-microhei' instead”\n",
            "Warning message in text.default(x1, y1, words[i], cex = size[i], offset = 0, srt = rotWord * :\n",
            "“font family 'Microsoft YaHei' not found, will use 'wqy-microhei' instead”\n",
            "Warning message in text.default(x1, y1, words[i], cex = size[i], offset = 0, srt = rotWord * :\n",
            "“font family 'Microsoft YaHei' not found, will use 'wqy-microhei' instead”\n",
            "Warning message in strwidth(words[i], cex = size[i], ...):\n",
            "“\"order.colors\" is not a graphical parameter”\n",
            "Warning message in strwidth(words[i], cex = size[i], ...):\n",
            "“font family 'Microsoft YaHei' not found, will use 'wqy-microhei' instead”\n",
            "Warning message in strheight(words[i], cex = size[i], ...):\n",
            "“\"order.colors\" is not a graphical parameter”\n",
            "Warning message in text.default(x1, y1, words[i], cex = size[i], offset = 0, srt = rotWord * :\n",
            "“\"order.colors\" is not a graphical parameter”\n",
            "Warning message in text.default(x1, y1, words[i], cex = size[i], offset = 0, srt = rotWord * :\n",
            "“font family 'Microsoft YaHei' not found, will use 'wqy-microhei' instead”\n",
            "Warning message in text.default(x1, y1, words[i], cex = size[i], offset = 0, srt = rotWord * :\n",
            "“font family 'Microsoft YaHei' not found, will use 'wqy-microhei' instead”\n",
            "Warning message in text.default(x1, y1, words[i], cex = size[i], offset = 0, srt = rotWord * :\n",
            "“font family 'Microsoft YaHei' not found, will use 'wqy-microhei' instead”\n",
            "Warning message in text.default(x1, y1, words[i], cex = size[i], offset = 0, srt = rotWord * :\n",
            "“font family 'Microsoft YaHei' not found, will use 'wqy-microhei' instead”\n",
            "Warning message in strwidth(words[i], cex = size[i], ...):\n",
            "“\"order.colors\" is not a graphical parameter”\n",
            "Warning message in strwidth(words[i], cex = size[i], ...):\n",
            "“font family 'Microsoft YaHei' not found, will use 'wqy-microhei' instead”\n",
            "Warning message in strheight(words[i], cex = size[i], ...):\n",
            "“\"order.colors\" is not a graphical parameter”\n",
            "Warning message in text.default(x1, y1, words[i], cex = size[i], offset = 0, srt = rotWord * :\n",
            "“\"order.colors\" is not a graphical parameter”\n",
            "Warning message in text.default(x1, y1, words[i], cex = size[i], offset = 0, srt = rotWord * :\n",
            "“font family 'Microsoft YaHei' not found, will use 'wqy-microhei' instead”\n",
            "Warning message in text.default(x1, y1, words[i], cex = size[i], offset = 0, srt = rotWord * :\n",
            "“font family 'Microsoft YaHei' not found, will use 'wqy-microhei' instead”\n",
            "Warning message in text.default(x1, y1, words[i], cex = size[i], offset = 0, srt = rotWord * :\n",
            "“font family 'Microsoft YaHei' not found, will use 'wqy-microhei' instead”\n",
            "Warning message in text.default(x1, y1, words[i], cex = size[i], offset = 0, srt = rotWord * :\n",
            "“font family 'Microsoft YaHei' not found, will use 'wqy-microhei' instead”\n",
            "Warning message in strwidth(words[i], cex = size[i], ...):\n",
            "“\"order.colors\" is not a graphical parameter”\n",
            "Warning message in strwidth(words[i], cex = size[i], ...):\n",
            "“font family 'Microsoft YaHei' not found, will use 'wqy-microhei' instead”\n",
            "Warning message in strheight(words[i], cex = size[i], ...):\n",
            "“\"order.colors\" is not a graphical parameter”\n",
            "Warning message in text.default(x1, y1, words[i], cex = size[i], offset = 0, srt = rotWord * :\n",
            "“\"order.colors\" is not a graphical parameter”\n",
            "Warning message in text.default(x1, y1, words[i], cex = size[i], offset = 0, srt = rotWord * :\n",
            "“font family 'Microsoft YaHei' not found, will use 'wqy-microhei' instead”\n",
            "Warning message in text.default(x1, y1, words[i], cex = size[i], offset = 0, srt = rotWord * :\n",
            "“font family 'Microsoft YaHei' not found, will use 'wqy-microhei' instead”\n",
            "Warning message in text.default(x1, y1, words[i], cex = size[i], offset = 0, srt = rotWord * :\n",
            "“font family 'Microsoft YaHei' not found, will use 'wqy-microhei' instead”\n",
            "Warning message in text.default(x1, y1, words[i], cex = size[i], offset = 0, srt = rotWord * :\n",
            "“font family 'Microsoft YaHei' not found, will use 'wqy-microhei' instead”\n"
          ],
          "name": "stderr"
        },
        {
          "output_type": "display_data",
          "data": {
            "image/png": "[encoded data removed]",
            "text/plain": [
              "plot without title"
            ]
          },
          "metadata": {
            "tags": [],
            "image/png": {
              "width": 420,
              "height": 420
            }
          }
        }
      ]
    }
  ]
}